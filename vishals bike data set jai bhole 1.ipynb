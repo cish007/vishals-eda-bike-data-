{
 "cells": [
  {
   "cell_type": "code",
   "execution_count": 63,
   "id": "b9ae31c1",
   "metadata": {},
   "outputs": [],
   "source": [
    "import pandas as pd"
   ]
  },
  {
   "cell_type": "code",
   "execution_count": 64,
   "id": "399dc9aa",
   "metadata": {},
   "outputs": [],
   "source": [
    "import numpy as np"
   ]
  },
  {
   "cell_type": "code",
   "execution_count": 65,
   "id": "87cb1bce",
   "metadata": {},
   "outputs": [],
   "source": [
    "\n",
    "import matplotlib.pyplot as plt"
   ]
  },
  {
   "cell_type": "code",
   "execution_count": 66,
   "id": "ecf18886",
   "metadata": {},
   "outputs": [],
   "source": [
    "import seaborn as sns"
   ]
  },
  {
   "cell_type": "code",
   "execution_count": 67,
   "id": "6f3e9228",
   "metadata": {},
   "outputs": [],
   "source": [
    "from sklearn.preprocessing import StandardScaler"
   ]
  },
  {
   "cell_type": "code",
   "execution_count": 68,
   "id": "2c76f4c0",
   "metadata": {},
   "outputs": [],
   "source": [
    "bike_df=pd.read_csv('C:\\\\Users\\\\Vishal\\\\Downloads\\\\train (2).csv')"
   ]
  },
  {
   "cell_type": "code",
   "execution_count": 69,
   "id": "e35134cb",
   "metadata": {},
   "outputs": [
    {
     "ename": "AttributeError",
     "evalue": "module 'pandas' has no attribute 'cancatenate'",
     "output_type": "error",
     "traceback": [
      "\u001b[1;31m---------------------------------------------------------------------------\u001b[0m",
      "\u001b[1;31mAttributeError\u001b[0m                            Traceback (most recent call last)",
      "Cell \u001b[1;32mIn[69], line 1\u001b[0m\n\u001b[1;32m----> 1\u001b[0m \u001b[43mpd\u001b[49m\u001b[38;5;241;43m.\u001b[39;49m\u001b[43mcancatenate\u001b[49m(pd\u001b[38;5;241m.\u001b[39mread_csv(\u001b[38;5;124m'\u001b[39m\u001b[38;5;124mC:\u001b[39m\u001b[38;5;130;01m\\\\\u001b[39;00m\u001b[38;5;124mUsers\u001b[39m\u001b[38;5;130;01m\\\\\u001b[39;00m\u001b[38;5;124mVishal\u001b[39m\u001b[38;5;130;01m\\\\\u001b[39;00m\u001b[38;5;124mDownloads\u001b[39m\u001b[38;5;130;01m\\\\\u001b[39;00m\u001b[38;5;124mtest (1).csv\u001b[39m\u001b[38;5;124m'\u001b[39m)\u001b[38;5;241m&\u001b[39mpd\u001b[38;5;241m.\u001b[39mread_csv(\u001b[38;5;124m'\u001b[39m\u001b[38;5;124mC:\u001b[39m\u001b[38;5;130;01m\\\\\u001b[39;00m\u001b[38;5;124mUsers\u001b[39m\u001b[38;5;130;01m\\\\\u001b[39;00m\u001b[38;5;124mVishal\u001b[39m\u001b[38;5;130;01m\\\\\u001b[39;00m\u001b[38;5;124mDownloads\u001b[39m\u001b[38;5;130;01m\\\\\u001b[39;00m\u001b[38;5;124mtrain (2).csv\u001b[39m\u001b[38;5;124m'\u001b[39m))\n",
      "File \u001b[1;32mF:\\vishal\\conda\\lib\\site-packages\\pandas\\__init__.py:264\u001b[0m, in \u001b[0;36m__getattr__\u001b[1;34m(name)\u001b[0m\n\u001b[0;32m    260\u001b[0m     \u001b[38;5;28;01mfrom\u001b[39;00m \u001b[38;5;21;01mpandas\u001b[39;00m\u001b[38;5;21;01m.\u001b[39;00m\u001b[38;5;21;01mcore\u001b[39;00m\u001b[38;5;21;01m.\u001b[39;00m\u001b[38;5;21;01marrays\u001b[39;00m\u001b[38;5;21;01m.\u001b[39;00m\u001b[38;5;21;01msparse\u001b[39;00m \u001b[38;5;28;01mimport\u001b[39;00m SparseArray \u001b[38;5;28;01mas\u001b[39;00m _SparseArray\n\u001b[0;32m    262\u001b[0m     \u001b[38;5;28;01mreturn\u001b[39;00m _SparseArray\n\u001b[1;32m--> 264\u001b[0m \u001b[38;5;28;01mraise\u001b[39;00m \u001b[38;5;167;01mAttributeError\u001b[39;00m(\u001b[38;5;124mf\u001b[39m\u001b[38;5;124m\"\u001b[39m\u001b[38;5;124mmodule \u001b[39m\u001b[38;5;124m'\u001b[39m\u001b[38;5;124mpandas\u001b[39m\u001b[38;5;124m'\u001b[39m\u001b[38;5;124m has no attribute \u001b[39m\u001b[38;5;124m'\u001b[39m\u001b[38;5;132;01m{\u001b[39;00mname\u001b[38;5;132;01m}\u001b[39;00m\u001b[38;5;124m'\u001b[39m\u001b[38;5;124m\"\u001b[39m)\n",
      "\u001b[1;31mAttributeError\u001b[0m: module 'pandas' has no attribute 'cancatenate'"
     ]
    }
   ],
   "source": [
    "pd.cancatenate(pd.read_csv('C:\\\\Users\\\\Vishal\\\\Downloads\\\\test (1).csv')&pd.read_csv('C:\\\\Users\\\\Vishal\\\\Downloads\\\\train (2).csv'))"
   ]
  },
  {
   "cell_type": "code",
   "execution_count": null,
   "id": "84833484",
   "metadata": {},
   "outputs": [],
   "source": []
  },
  {
   "cell_type": "code",
   "execution_count": null,
   "id": "c616b699",
   "metadata": {},
   "outputs": [],
   "source": []
  },
  {
   "cell_type": "code",
   "execution_count": null,
   "id": "ca18ef83",
   "metadata": {},
   "outputs": [],
   "source": []
  },
  {
   "cell_type": "code",
   "execution_count": null,
   "id": "2c454d33",
   "metadata": {},
   "outputs": [],
   "source": [
    "bike_df"
   ]
  },
  {
   "cell_type": "markdown",
   "id": "cf733ee8",
   "metadata": {},
   "source": [
    "from the above analyis there are 4 catergorical colum and 7 numerical colum from them \n",
    "categorical colum=[\"date time ,season,holiday,working day ,weather]\n",
    "numerical column=[temperature,atemp,humidity,windspeed,casul,registered,count]"
   ]
  },
  {
   "cell_type": "code",
   "execution_count": null,
   "id": "eb883aa1",
   "metadata": {},
   "outputs": [],
   "source": [
    "bike_df"
   ]
  },
  {
   "cell_type": "code",
   "execution_count": null,
   "id": "276c7ced",
   "metadata": {},
   "outputs": [],
   "source": [
    "bike_df.head()"
   ]
  },
  {
   "cell_type": "code",
   "execution_count": null,
   "id": "c9d1de73",
   "metadata": {},
   "outputs": [],
   "source": [
    "bike_df.tail()"
   ]
  },
  {
   "cell_type": "code",
   "execution_count": null,
   "id": "885f789c",
   "metadata": {},
   "outputs": [],
   "source": [
    "bike_df.describe()"
   ]
  },
  {
   "cell_type": "code",
   "execution_count": null,
   "id": "a6939b97",
   "metadata": {},
   "outputs": [],
   "source": [
    "bike_df.describe(include='O')"
   ]
  },
  {
   "cell_type": "code",
   "execution_count": null,
   "id": "a37f61c1",
   "metadata": {},
   "outputs": [],
   "source": [
    "bike_df.isnull()"
   ]
  },
  {
   "cell_type": "code",
   "execution_count": null,
   "id": "6c0958c1",
   "metadata": {},
   "outputs": [],
   "source": [
    "bike_df.notnull().sum()"
   ]
  },
  {
   "cell_type": "code",
   "execution_count": null,
   "id": "48620f1a",
   "metadata": {},
   "outputs": [],
   "source": [
    "bike_df.columns"
   ]
  },
  {
   "cell_type": "code",
   "execution_count": null,
   "id": "7fbfafb3",
   "metadata": {},
   "outputs": [],
   "source": [
    "bike_df.shape"
   ]
  },
  {
   "cell_type": "code",
   "execution_count": null,
   "id": "0ed8f444",
   "metadata": {},
   "outputs": [],
   "source": [
    "bike_df.index"
   ]
  },
  {
   "cell_type": "code",
   "execution_count": null,
   "id": "0f16af8f",
   "metadata": {},
   "outputs": [],
   "source": [
    "bike_df.info()"
   ]
  },
  {
   "cell_type": "markdown",
   "id": "f1a4ae2a",
   "metadata": {},
   "source": [
    "# exploratory data analysis"
   ]
  },
  {
   "cell_type": "code",
   "execution_count": null,
   "id": "044d1347",
   "metadata": {},
   "outputs": [],
   "source": [
    "from the above analyis there are 4 catergorical colum and 7 numerical colum from them \n",
    "categorical colum=[\"date time ,season,holiday,working day ,weather\"]\n",
    "numerical column=[\"temperature,atemp,humidity,windspeed,casul,registered,count\"]"
   ]
  },
  {
   "cell_type": "markdown",
   "id": "44476848",
   "metadata": {},
   "source": [
    "# solving numetical columns"
   ]
  },
  {
   "cell_type": "code",
   "execution_count": null,
   "id": "14fc6946",
   "metadata": {},
   "outputs": [],
   "source": [
    "bike_df"
   ]
  },
  {
   "cell_type": "markdown",
   "id": "affcea47",
   "metadata": {},
   "source": [
    "# temperature"
   ]
  },
  {
   "cell_type": "code",
   "execution_count": null,
   "id": "00b4ce3c",
   "metadata": {},
   "outputs": [],
   "source": [
    "bike_df[\"temp\"].mean()"
   ]
  },
  {
   "cell_type": "code",
   "execution_count": null,
   "id": "1845c155",
   "metadata": {},
   "outputs": [],
   "source": [
    "bike_df[\"temp\"].std()"
   ]
  },
  {
   "cell_type": "code",
   "execution_count": null,
   "id": "d910c70c",
   "metadata": {},
   "outputs": [],
   "source": [
    "bike_df[\"temp\"].median()"
   ]
  },
  {
   "cell_type": "code",
   "execution_count": null,
   "id": "e06923e4",
   "metadata": {},
   "outputs": [],
   "source": [
    "bike_df[\"temp\"].max()"
   ]
  },
  {
   "cell_type": "code",
   "execution_count": null,
   "id": "b4cacd02",
   "metadata": {},
   "outputs": [],
   "source": [
    "bike_df[\"temp\"].min()"
   ]
  },
  {
   "cell_type": "code",
   "execution_count": null,
   "id": "164a05e7",
   "metadata": {},
   "outputs": [],
   "source": [
    "bike_df[\"temp\"].skew()"
   ]
  },
  {
   "cell_type": "code",
   "execution_count": null,
   "id": "4b08db63",
   "metadata": {},
   "outputs": [],
   "source": [
    "bike_df[\"temp\"].unique()"
   ]
  },
  {
   "cell_type": "code",
   "execution_count": null,
   "id": "59b91245",
   "metadata": {},
   "outputs": [],
   "source": [
    "bike_df[\"temp\"].nunique()"
   ]
  },
  {
   "cell_type": "code",
   "execution_count": null,
   "id": "b03c07ed",
   "metadata": {},
   "outputs": [],
   "source": [
    "sns.histplot(bike_df[\"temp\"])\n",
    "plt.title(\"histogram plot of temperature\",y=1.06)"
   ]
  },
  {
   "cell_type": "code",
   "execution_count": null,
   "id": "ee2aa9e9",
   "metadata": {},
   "outputs": [],
   "source": [
    "sns.distplot(bike_df[\"temp\"])\n",
    "plt.title(\"distribution plot of temperature\",y=1.06)"
   ]
  },
  {
   "cell_type": "code",
   "execution_count": null,
   "id": "6db26b54",
   "metadata": {},
   "outputs": [],
   "source": [
    "sns.boxplot(bike_df[\"temp\"],orient='h',color=\"red\")"
   ]
  },
  {
   "cell_type": "code",
   "execution_count": null,
   "id": "ad2d28ae",
   "metadata": {},
   "outputs": [],
   "source": [
    "sns.violinplot(bike_df[\"temp\"],orient='h',color=\"green\")\n",
    "plt.title(\"voilin plot of temperature\",y=1.06)"
   ]
  },
  {
   "cell_type": "code",
   "execution_count": null,
   "id": "6e2ea07d",
   "metadata": {},
   "outputs": [],
   "source": [
    "sns.swarmplot(bike_df[\"temp\"],orient='h',color=\"plum\")\n",
    "plt.title(\"swarm plot of temperature\",y=1.06)"
   ]
  },
  {
   "cell_type": "code",
   "execution_count": null,
   "id": "1534bf8c",
   "metadata": {},
   "outputs": [],
   "source": [
    "bike_df[\"temp\"].quantile(0.10),bike_df[\"temp\"].quantile(0.20),bike_df[\"temp\"].quantile(0.25),bike_df[\"temp\"].quantile(0.50),bike_df[\"temp\"].quantile(0.75),bike_df[\"temp\"].quantile(0.90)"
   ]
  },
  {
   "cell_type": "markdown",
   "id": "5559d3ec",
   "metadata": {},
   "source": [
    "**temperature** Column has a symmetrical distribution with skew 0.003 which is   between -0.5 and 0.5 . \n",
    "- Density curve for volatile acidity is centred around mean 7.79 with standard deviation of 7.79\n",
    "- Range of temperature  is from minimum 0.82 and maximum 41.0\n",
    ".\n",
    "- 10%  of temperature is 9.84\n",
    "- 20% of temperature is 13.12\n",
    "- 25% of temperature is 13.94\n",
    "- 50% of temperature is 20.5\n",
    "- 75% of temperature is 26.24\n",
    "-90%  of temperature is 30.4\n",
    "- temperarature  has few extreme values toward 41 according to boxplot analysis\n",
    "temperature colum could be a good predictor for further analysis with diff colums ."
   ]
  },
  {
   "cell_type": "markdown",
   "id": "22c97719",
   "metadata": {},
   "source": [
    "# atemperature"
   ]
  },
  {
   "cell_type": "code",
   "execution_count": null,
   "id": "d50b0cd1",
   "metadata": {},
   "outputs": [],
   "source": [
    "bike_df[\"atemp\"].mean()"
   ]
  },
  {
   "cell_type": "code",
   "execution_count": null,
   "id": "a85538a7",
   "metadata": {},
   "outputs": [],
   "source": [
    "bike_df[\"atemp\"].std()"
   ]
  },
  {
   "cell_type": "code",
   "execution_count": null,
   "id": "8d918119",
   "metadata": {},
   "outputs": [],
   "source": [
    "bike_df[\"atemp\"].median()"
   ]
  },
  {
   "cell_type": "code",
   "execution_count": null,
   "id": "e3d327f3",
   "metadata": {},
   "outputs": [],
   "source": [
    "bike_df[\"atemp\"].max()"
   ]
  },
  {
   "cell_type": "code",
   "execution_count": null,
   "id": "46656352",
   "metadata": {},
   "outputs": [],
   "source": [
    "bike_df[\"atemp\"].min()"
   ]
  },
  {
   "cell_type": "code",
   "execution_count": null,
   "id": "2a8862a6",
   "metadata": {},
   "outputs": [],
   "source": [
    "bike_df[\"atemp\"].skew()"
   ]
  },
  {
   "cell_type": "code",
   "execution_count": null,
   "id": "26642e70",
   "metadata": {},
   "outputs": [],
   "source": [
    "bike_df[\"atemp\"].unique()"
   ]
  },
  {
   "cell_type": "code",
   "execution_count": null,
   "id": "d910ae5a",
   "metadata": {},
   "outputs": [],
   "source": [
    "bike_df[\"atemp\"].nunique()"
   ]
  },
  {
   "cell_type": "code",
   "execution_count": null,
   "id": "208c1f87",
   "metadata": {},
   "outputs": [],
   "source": [
    "sns.histplot(bike_df[\"atemp\"])\n",
    "plt.title(\"histogram plot of atemperature\",y=1.06)"
   ]
  },
  {
   "cell_type": "code",
   "execution_count": null,
   "id": "34a907f9",
   "metadata": {},
   "outputs": [],
   "source": [
    "sns.distplot(bike_df[\"atemp\"])\n",
    "plt.title(\"distribution plot of atemperature\",y=1.06)"
   ]
  },
  {
   "cell_type": "code",
   "execution_count": null,
   "id": "aaba0791",
   "metadata": {},
   "outputs": [],
   "source": [
    "\n",
    "sns.boxplot(bike_df[\"atemp\"],color=\"green\")\n",
    "plt.title(\"box plot of a temperature\",y=1.06)\n"
   ]
  },
  {
   "cell_type": "code",
   "execution_count": null,
   "id": "37d6fa1d",
   "metadata": {},
   "outputs": [],
   "source": [
    "sns.violinplot(bike_df[\"atemp\"],orient='h',color=\"plum\")\n",
    "plt.title(\"voilin plot of atemperature\",y=1.06)"
   ]
  },
  {
   "cell_type": "code",
   "execution_count": null,
   "id": "a993552e",
   "metadata": {},
   "outputs": [],
   "source": [
    "sns.swarmplot(bike_df[\"atemp\"],orient='h',color=\"red\")\n",
    "plt.title(\"swarm plot of atemperature\",y=1.06)"
   ]
  },
  {
   "cell_type": "code",
   "execution_count": null,
   "id": "f14fd24c",
   "metadata": {},
   "outputs": [],
   "source": [
    "bike_df[\"atemp\"].quantile(0.10),bike_df[\"atemp\"].quantile(0.20),bike_df[\"atemp\"].quantile(0.25),bike_df[\"atemp\"].quantile(0.50),bike_df[\"atemp\"].quantile(0.75),bike_df[\"atemp\"].quantile(0.90)"
   ]
  },
  {
   "cell_type": "markdown",
   "id": "7c1a9593",
   "metadata": {},
   "source": [
    "**atemperature** Column has a symmetrical distribution with skew -0.102 which is   between -0.5 and 0.5 . \n",
    "- Density curve for atemperature is centred around mean 23.65 with standard deviation of 8.47\n",
    "- Range of atemperature  is from minimum 0.76 and maximum 45.455\n",
    ".\n",
    "- 10%  of atemperature is 12.12\n",
    "- 20% of atemperature is 15.15\n",
    "- 25% of atemperature is 16.665\n",
    "- 50% of atemperature is 24.24\n",
    "- 75% of atemperature is 31.06\n",
    "-90%  of atemperature is 34.09\n",
    "- atemperarature  has few extreme values toward 45 according to boxplot analysis\n",
    "atemperature colum could be a good predictor for further analysis with diff colums ."
   ]
  },
  {
   "cell_type": "markdown",
   "id": "d6e4e9cf",
   "metadata": {},
   "source": [
    "# humidity"
   ]
  },
  {
   "cell_type": "code",
   "execution_count": null,
   "id": "b6e43a1f",
   "metadata": {},
   "outputs": [],
   "source": [
    "bike_df[\"humidity\"].mean()"
   ]
  },
  {
   "cell_type": "code",
   "execution_count": null,
   "id": "708665ab",
   "metadata": {},
   "outputs": [],
   "source": [
    "bike_df[\"humidity\"].std()"
   ]
  },
  {
   "cell_type": "code",
   "execution_count": null,
   "id": "48d70a1c",
   "metadata": {},
   "outputs": [],
   "source": [
    "bike_df[\"humidity\"].median()"
   ]
  },
  {
   "cell_type": "code",
   "execution_count": null,
   "id": "03650f80",
   "metadata": {},
   "outputs": [],
   "source": [
    "bike_df[\"humidity\"].max()"
   ]
  },
  {
   "cell_type": "code",
   "execution_count": null,
   "id": "51122e8f",
   "metadata": {},
   "outputs": [],
   "source": [
    "bike_df[\"humidity\"].min()"
   ]
  },
  {
   "cell_type": "code",
   "execution_count": null,
   "id": "60d9a8d8",
   "metadata": {},
   "outputs": [],
   "source": [
    "bike_df[\"humidity\"].skew()"
   ]
  },
  {
   "cell_type": "code",
   "execution_count": null,
   "id": "3b98fd90",
   "metadata": {},
   "outputs": [],
   "source": [
    "bike_df[\"humidity\"].unique()"
   ]
  },
  {
   "cell_type": "code",
   "execution_count": null,
   "id": "ce5d55bb",
   "metadata": {},
   "outputs": [],
   "source": [
    "bike_df[\"humidity\"].nunique()"
   ]
  },
  {
   "cell_type": "code",
   "execution_count": null,
   "id": "5445545d",
   "metadata": {},
   "outputs": [],
   "source": [
    "sns.histplot(bike_df[\"humidity\"])\n",
    "plt.title(\"histogram plot of humidity\",y=1.06)"
   ]
  },
  {
   "cell_type": "code",
   "execution_count": null,
   "id": "1a01dfbb",
   "metadata": {},
   "outputs": [],
   "source": [
    "sns.distplot(bike_df[\"humidity\"])\n",
    "plt.title(\"distribution plot of humidity\",y=1.06)"
   ]
  },
  {
   "cell_type": "code",
   "execution_count": null,
   "id": "84e893fe",
   "metadata": {},
   "outputs": [],
   "source": [
    "\n",
    "sns.boxplot(bike_df[\"humidity\"],color=\"plum\")\n",
    "plt.title(\"box plot of a humidity\",y=1.06)\n"
   ]
  },
  {
   "cell_type": "code",
   "execution_count": null,
   "id": "d236d51e",
   "metadata": {},
   "outputs": [],
   "source": [
    "sns.violinplot(bike_df[\"humidity\"],orient='h',color=\"red\")\n",
    "plt.title(\"voilin plot of humidity\",y=1.06)"
   ]
  },
  {
   "cell_type": "code",
   "execution_count": null,
   "id": "39a0266e",
   "metadata": {},
   "outputs": [],
   "source": [
    "sns.swarmplot(bike_df[\"humidity\"],orient='h',color=\"red\")\n",
    "plt.title(\"swarm plot of humidity\",y=1.06)"
   ]
  },
  {
   "cell_type": "code",
   "execution_count": null,
   "id": "11950c93",
   "metadata": {},
   "outputs": [],
   "source": [
    "bike_df[\"humidity\"].quantile(0.10),bike_df[\"humidity\"].quantile(0.20),bike_df[\"humidity\"].quantile(0.25),bike_df[\"humidity\"].quantile(0.50),bike_df[\"humidity\"].quantile(0.75),bike_df[\"humidity\"].quantile(0.90)"
   ]
  },
  {
   "cell_type": "markdown",
   "id": "b687aee1",
   "metadata": {},
   "source": [
    "**humidity** Column has a asymmetrical distribution with skew -0.08 which is does not lie   between -0.5 and 0.5 . \n",
    "- Density curve for humidity is centred around mean 61.886 with standard deviation of 19.245\n",
    "- Range of humidity  is from minimum  0 and maximum 100\n",
    ".\n",
    "- 10%  of humidity is 37.0\n",
    "- 20% of humidity is 44.0\n",
    "- 25% of humidity is 47.0\n",
    "- 50% of humidity is 62.0\n",
    "- 75% of humidity is 77.0\n",
    "-90%  of humidity is 88.0\n",
    "- humidity  has few extreme values toward 100 according to boxplot analysis\n",
    "humidity colum could be a good predictor for further analysis with diff colums .but humidity dies not that imprtant we will come to know by \n",
    "further analysing it with other columns"
   ]
  },
  {
   "cell_type": "markdown",
   "id": "103f2005",
   "metadata": {},
   "source": [
    "# adda new colum farenite temp"
   ]
  },
  {
   "cell_type": "code",
   "execution_count": null,
   "id": "f19d8463",
   "metadata": {},
   "outputs": [],
   "source": [
    "bike_df[\"farenite temp\"].value_counts().sort_values(ascending=True)"
   ]
  },
  {
   "cell_type": "code",
   "execution_count": null,
   "id": "773dab4b",
   "metadata": {},
   "outputs": [],
   "source": [
    "bike_df[\"farenite temp\"]=bike_df[\"temp\"]+bike_df[\"atemp\"]+1"
   ]
  },
  {
   "cell_type": "code",
   "execution_count": null,
   "id": "ba4ffb82",
   "metadata": {},
   "outputs": [],
   "source": [
    "bike_df.drop([\"kelvin temp\"],inplace=True,axis=1)"
   ]
  },
  {
   "cell_type": "markdown",
   "id": "5dfe3e1a",
   "metadata": {},
   "source": [
    "by merging we can covert temp in farenite as well formuls is c+9/5+32 but tmp is required its okay if ts in degree kelvin or farenite \n",
    "so not coverting temp in farenite if needed we can add the colum farenite and proceed with the analysis "
   ]
  },
  {
   "cell_type": "code",
   "execution_count": null,
   "id": "a88e53a5",
   "metadata": {},
   "outputs": [],
   "source": [
    "bike_df"
   ]
  },
  {
   "cell_type": "markdown",
   "id": "5a25447a",
   "metadata": {},
   "source": [
    "# wind speed"
   ]
  },
  {
   "cell_type": "code",
   "execution_count": null,
   "id": "ff291034",
   "metadata": {},
   "outputs": [],
   "source": [
    "bike_df[\"windspeed\"].mean()"
   ]
  },
  {
   "cell_type": "code",
   "execution_count": null,
   "id": "dd2c5846",
   "metadata": {},
   "outputs": [],
   "source": [
    "bike_df[\"windspeed\"].std()"
   ]
  },
  {
   "cell_type": "code",
   "execution_count": null,
   "id": "67868bc1",
   "metadata": {},
   "outputs": [],
   "source": [
    "bike_df[\"windspeed\"].median()"
   ]
  },
  {
   "cell_type": "code",
   "execution_count": null,
   "id": "4a2ed7d3",
   "metadata": {},
   "outputs": [],
   "source": [
    "bike_df[\"windspeed\"].max()"
   ]
  },
  {
   "cell_type": "code",
   "execution_count": null,
   "id": "a49a13e0",
   "metadata": {},
   "outputs": [],
   "source": [
    "bike_df[\"windspeed\"].min()"
   ]
  },
  {
   "cell_type": "code",
   "execution_count": null,
   "id": "372fb6e0",
   "metadata": {},
   "outputs": [],
   "source": [
    "bike_df[\"windspeed\"].skew()"
   ]
  },
  {
   "cell_type": "code",
   "execution_count": null,
   "id": "3fe8188d",
   "metadata": {},
   "outputs": [],
   "source": [
    "bike_df[\"windspeed\"].unique()"
   ]
  },
  {
   "cell_type": "code",
   "execution_count": null,
   "id": "1ed02186",
   "metadata": {},
   "outputs": [],
   "source": [
    "bike_df[\"windspeed\"].nunique()"
   ]
  },
  {
   "cell_type": "code",
   "execution_count": null,
   "id": "c6a69081",
   "metadata": {},
   "outputs": [],
   "source": [
    "sns.histplot(bike_df[\"windspeed\"])\n",
    "plt.title(\"histogram plot of windspeed\",y=1.06)"
   ]
  },
  {
   "cell_type": "code",
   "execution_count": null,
   "id": "205127fe",
   "metadata": {},
   "outputs": [],
   "source": [
    "sns.distplot(bike_df[\"windspeed\"])\n",
    "plt.title(\"distribution plot of windspeed\",y=1.06)"
   ]
  },
  {
   "cell_type": "code",
   "execution_count": null,
   "id": "609b5611",
   "metadata": {},
   "outputs": [],
   "source": [
    "\n",
    "sns.boxplot(bike_df[\"windspeed\"],color=\"plum\")\n",
    "plt.title(\"box plot of a windspeed\",y=1.06)\n"
   ]
  },
  {
   "cell_type": "code",
   "execution_count": null,
   "id": "9ba7f545",
   "metadata": {},
   "outputs": [],
   "source": [
    "sns.violinplot(bike_df[\"windspeed\"],orient='h',color=\"red\")\n",
    "plt.title(\"voilin plot of windspeed\",y=1.06)"
   ]
  },
  {
   "cell_type": "code",
   "execution_count": null,
   "id": "b6965d5b",
   "metadata": {},
   "outputs": [],
   "source": [
    "sns.swarmplot(bike_df[\"windspeed\"],orient='h',color=\"green\")\n",
    "plt.title(\"swarm plot of windspeed\",y=1.06)"
   ]
  },
  {
   "cell_type": "code",
   "execution_count": null,
   "id": "43bc6ace",
   "metadata": {},
   "outputs": [],
   "source": [
    "bike_df[\"windspeed\"].quantile(0.10),bike_df[\"windspeed\"].quantile(0.20),bike_df[\"windspeed\"].quantile(0.25),bike_df[\"windspeed\"].quantile(0.50),bike_df[\"windspeed\"].quantile(0.75),bike_df[\"windspeed\"].quantile(0.90)"
   ]
  },
  {
   "cell_type": "code",
   "execution_count": null,
   "id": "212a7b39",
   "metadata": {},
   "outputs": [],
   "source": [
    "**windspeed** Column has a asymmetrical distribution with skew 0.588 which is  not between -0.5 and 0.5 . \n",
    "- Density curve for windspeed is centred around mean 12.799 with standard deviation of 8.164\n",
    "- Range of atemperature  is from minimum 0 and maximum 56.996\n",
    ".\n",
    "- 10%  of windspeed is 0.0\n",
    "- 20% of windspeed is 6.0032\n",
    "- 25% of windspeed is 7.0015\n",
    "- 50% of windspeed is 12.998\n",
    "- 75% of windspeed is 16.9979\n",
    "-90%  of windspeed is 23.9994\n",
    "- windspeed  has few extreme values toward 52 according to boxplot analysis\n",
    "windspeed colum could be a good predictor for further analysis with diff colums ."
   ]
  },
  {
   "cell_type": "markdown",
   "id": "5a460a31",
   "metadata": {},
   "source": [
    "# casual"
   ]
  },
  {
   "cell_type": "code",
   "execution_count": null,
   "id": "d3105ec7",
   "metadata": {},
   "outputs": [],
   "source": [
    "bike_df[\"casual\"].mean()"
   ]
  },
  {
   "cell_type": "code",
   "execution_count": null,
   "id": "a2472f5e",
   "metadata": {},
   "outputs": [],
   "source": [
    "bike_df[\"casual\"].std()"
   ]
  },
  {
   "cell_type": "code",
   "execution_count": null,
   "id": "1b7912f2",
   "metadata": {},
   "outputs": [],
   "source": [
    "bike_df[\"casual\"].median()"
   ]
  },
  {
   "cell_type": "code",
   "execution_count": null,
   "id": "0d779060",
   "metadata": {},
   "outputs": [],
   "source": [
    "bike_df[\"casual\"].max()"
   ]
  },
  {
   "cell_type": "code",
   "execution_count": null,
   "id": "70fcf5c9",
   "metadata": {},
   "outputs": [],
   "source": [
    "bike_df[\"casual\"].min()"
   ]
  },
  {
   "cell_type": "code",
   "execution_count": null,
   "id": "19477005",
   "metadata": {},
   "outputs": [],
   "source": [
    "bike_df[\"casual\"].skew()"
   ]
  },
  {
   "cell_type": "code",
   "execution_count": null,
   "id": "2cbf3609",
   "metadata": {},
   "outputs": [],
   "source": [
    "bike_df[\"casual\"].unique()"
   ]
  },
  {
   "cell_type": "code",
   "execution_count": null,
   "id": "0accdfd0",
   "metadata": {},
   "outputs": [],
   "source": [
    "sns.histplot(bike_df[\"casual\"])\n",
    "plt.title(\"histogram plot of casual\",y=1.06)"
   ]
  },
  {
   "cell_type": "code",
   "execution_count": null,
   "id": "520ca784",
   "metadata": {},
   "outputs": [],
   "source": [
    "sns.distplot(bike_df[\"casual\"])\n",
    "plt.title(\"distribution plot of casual\",y=1.06)"
   ]
  },
  {
   "cell_type": "code",
   "execution_count": null,
   "id": "dc25f28b",
   "metadata": {},
   "outputs": [],
   "source": [
    "\n",
    "sns.boxplot(bike_df[\"casual\"],color=\"plum\")\n",
    "plt.title(\"box plot of a casual\",y=1.06)\n"
   ]
  },
  {
   "cell_type": "code",
   "execution_count": null,
   "id": "ad469d30",
   "metadata": {},
   "outputs": [],
   "source": [
    "sns.violinplot(bike_df[\"casual\"],orient='h',color=\"red\")\n",
    "plt.title(\"voilin plot of casual\",y=1.06)"
   ]
  },
  {
   "cell_type": "code",
   "execution_count": null,
   "id": "a840bf9c",
   "metadata": {},
   "outputs": [],
   "source": [
    "sns.swarmplot(bike_df[\"casual\"],orient='h',color=\"green\")\n",
    "plt.title(\"swarm plot of casual\",y=1.06)"
   ]
  },
  {
   "cell_type": "code",
   "execution_count": null,
   "id": "d71deef7",
   "metadata": {},
   "outputs": [],
   "source": [
    "bike_df[\"casual\"].quantile(0.10),bike_df[\"casual\"].quantile(0.20),bike_df[\"casual\"].quantile(0.25),bike_df[\"casual\"].quantile(0.50),bike_df[\"casual\"].quantile(0.75),bike_df[\"casual\"].quantile(0.90)"
   ]
  },
  {
   "cell_type": "markdown",
   "id": "def39c85",
   "metadata": {},
   "source": [
    "**casual** Column has a asymmetrical distribution with skew 2.4957 which is  not between -0.5 and 0.5 . \n",
    "- Density curve for windspeed is centred around mean 36.021 with standard deviation of 36.0219\n",
    "- Range of atemperature  is from minimum 0 and maximum 367\n",
    ".\n",
    "- 10%  of casual  is 1.0\n",
    "- 20% of casual  is 3.0\n",
    "- 25% of casual  is 4.0\n",
    "- 50% of casual  is 17.0\n",
    "- 75% of casual is 49.0\n",
    "- 90%  of cassual  is 94.0\n",
    "-casual is no no non user rental initiated\n",
    "- casual  has few extreme values toward 355 according to boxplot analysis\n",
    "- casual colum could be a good predictor for further analysis with diff colums ."
   ]
  },
  {
   "cell_type": "code",
   "execution_count": null,
   "id": "8057763f",
   "metadata": {},
   "outputs": [],
   "source": [
    "bike_df"
   ]
  },
  {
   "cell_type": "markdown",
   "id": "661b75d1",
   "metadata": {},
   "source": [
    "# registered"
   ]
  },
  {
   "cell_type": "code",
   "execution_count": null,
   "id": "566ff147",
   "metadata": {},
   "outputs": [],
   "source": [
    "bike_df[\"registered\"].mean()"
   ]
  },
  {
   "cell_type": "code",
   "execution_count": null,
   "id": "78ff3877",
   "metadata": {},
   "outputs": [],
   "source": [
    "bike_df[\"registered\"].std()"
   ]
  },
  {
   "cell_type": "code",
   "execution_count": null,
   "id": "cfc0e383",
   "metadata": {},
   "outputs": [],
   "source": [
    "bike_df[\"registered\"].median()"
   ]
  },
  {
   "cell_type": "code",
   "execution_count": null,
   "id": "daab7396",
   "metadata": {},
   "outputs": [],
   "source": [
    "bike_df[\"registered\"].max()"
   ]
  },
  {
   "cell_type": "code",
   "execution_count": null,
   "id": "973c7953",
   "metadata": {},
   "outputs": [],
   "source": [
    "bike_df[\"registered\"].min()"
   ]
  },
  {
   "cell_type": "code",
   "execution_count": null,
   "id": "875169f4",
   "metadata": {},
   "outputs": [],
   "source": [
    "bike_df[\"registered\"].skew()"
   ]
  },
  {
   "cell_type": "code",
   "execution_count": null,
   "id": "cedcccf4",
   "metadata": {},
   "outputs": [],
   "source": [
    "bike_df[\"registered\"].unique()"
   ]
  },
  {
   "cell_type": "code",
   "execution_count": null,
   "id": "8ca100fc",
   "metadata": {},
   "outputs": [],
   "source": [
    "bike_df[\"registered\"].nunique()"
   ]
  },
  {
   "cell_type": "code",
   "execution_count": null,
   "id": "444e0a00",
   "metadata": {},
   "outputs": [],
   "source": [
    "sns.histplot(bike_df[\"registered\"])\n",
    "plt.title(\"histogram plot of registered\",y=1.06)"
   ]
  },
  {
   "cell_type": "code",
   "execution_count": null,
   "id": "f3d02567",
   "metadata": {},
   "outputs": [],
   "source": [
    "sns.distplot(bike_df[\"registered\"])\n",
    "plt.title(\"distribution plot of registered\",y=1.06)"
   ]
  },
  {
   "cell_type": "code",
   "execution_count": 70,
   "id": "8e08e0aa",
   "metadata": {},
   "outputs": [
    {
     "data": {
      "text/plain": [
       "Text(0.5, 1.06, 'box plot of a registered')"
      ]
     },
     "execution_count": 70,
     "metadata": {},
     "output_type": "execute_result"
    },
    {
     "data": {
      "image/png": "[encoded data removed]",
      "text/plain": [
       "<Figure size 640x480 with 1 Axes>"
      ]
     },
     "metadata": {},
     "output_type": "display_data"
    }
   ],
   "source": [
    "\n",
    "sns.boxplot(bike_df[\"registered\"],color=\"plum\")\n",
    "plt.title(\"box plot of a registered\",y=1.06)\n"
   ]
  },
  {
   "cell_type": "code",
   "execution_count": 71,
   "id": "61cb3a28",
   "metadata": {},
   "outputs": [
    {
     "data": {
      "text/plain": [
       "Text(0.5, 1.06, 'voilin plot of registered')"
      ]
     },
     "execution_count": 71,
     "metadata": {},
     "output_type": "execute_result"
    },
    {
     "data": {
      "image/png": "[encoded data removed]",
      "text/plain": [
       "<Figure size 640x480 with 1 Axes>"
      ]
     },
     "metadata": {},
     "output_type": "display_data"
    }
   ],
   "source": [
    "sns.violinplot(bike_df[\"registered\"],orient='h',color=\"blue\")\n",
    "plt.title(\"voilin plot of registered\",y=1.06)"
   ]
  },
  {
   "cell_type": "code",
   "execution_count": 72,
   "id": "cf814ea3",
   "metadata": {},
   "outputs": [
    {
     "name": "stderr",
     "output_type": "stream",
     "text": [
      "F:\\vishal\\conda\\lib\\site-packages\\seaborn\\categorical.py:3544: UserWarning: 16.9% of the points cannot be placed; you may want to decrease the size of the markers or use stripplot.\n",
      "  warnings.warn(msg, UserWarning)\n"
     ]
    },
    {
     "data": {
      "text/plain": [
       "Text(0.5, 1.06, 'swarm plot of registered')"
      ]
     },
     "execution_count": 72,
     "metadata": {},
     "output_type": "execute_result"
    },
    {
     "name": "stderr",
     "output_type": "stream",
     "text": [
      "F:\\vishal\\conda\\lib\\site-packages\\seaborn\\categorical.py:3544: UserWarning: 81.1% of the points cannot be placed; you may want to decrease the size of the markers or use stripplot.\n",
      "  warnings.warn(msg, UserWarning)\n"
     ]
    },
    {
     "data": {
      "image/png": "[encoded data removed]",
      "text/plain": [
       "<Figure size 640x480 with 1 Axes>"
      ]
     },
     "metadata": {},
     "output_type": "display_data"
    }
   ],
   "source": [
    "sns.swarmplot(bike_df[\"registered\"],orient='h',color=\"plum\")\n",
    "plt.title(\"swarm plot of registered\",y=1.06)"
   ]
  },
  {
   "cell_type": "code",
   "execution_count": 73,
   "id": "f39f4644",
   "metadata": {},
   "outputs": [
    {
     "data": {
      "text/plain": [
       "(7.0, 23.0, 36.0, 118.0, 222.0, 354.0)"
      ]
     },
     "execution_count": 73,
     "metadata": {},
     "output_type": "execute_result"
    }
   ],
   "source": [
    "bike_df[\"registered\"].quantile(0.10),bike_df[\"registered\"].quantile(0.20),bike_df[\"registered\"].quantile(0.25),bike_df[\"registered\"].quantile(0.50),bike_df[\"registered\"].quantile(0.75),bike_df[\"registered\"].quantile(0.90)"
   ]
  },
  {
   "cell_type": "code",
   "execution_count": 74,
   "id": "3da0ca83",
   "metadata": {},
   "outputs": [
    {
     "ename": "SyntaxError",
     "evalue": "invalid syntax (1747795064.py, line 1)",
     "output_type": "error",
     "traceback": [
      "\u001b[1;36m  Cell \u001b[1;32mIn[74], line 1\u001b[1;36m\u001b[0m\n\u001b[1;33m    **registered** Column has a asymmetrical distribution with skew 1.52 which is  not between -0.5 and 0.5 .\u001b[0m\n\u001b[1;37m    ^\u001b[0m\n\u001b[1;31mSyntaxError\u001b[0m\u001b[1;31m:\u001b[0m invalid syntax\n"
     ]
    }
   ],
   "source": [
    "**registered** Column has a asymmetrical distribution with skew 1.52 which is  not between -0.5 and 0.5 . \n",
    "- Density curve for registered is centred around mean 155.55 with standard deviation of 151.039\n",
    "- Range of registered  is from minimum 0 and maximum 886\n",
    ".\n",
    "- 10%  of registered is 7.0\n",
    "- 20% of registered is 23.0\n",
    "- 25% of registered is 36.0\n",
    "- 50% of registered is 118.0\n",
    "- 75% of registered is 222.0\n",
    "- 90%  of registered is 354.0\n",
    "- registered  has few extreme values toward 850 according to boxplot analysis\n",
    "- registered colum could be a good predictor for further analysis with diff colums ."
   ]
  },
  {
   "cell_type": "markdown",
   "id": "15c18312",
   "metadata": {},
   "source": [
    "# count"
   ]
  },
  {
   "cell_type": "code",
   "execution_count": null,
   "id": "a9efeac5",
   "metadata": {},
   "outputs": [],
   "source": [
    "bike_df[\"count\"].mean()"
   ]
  },
  {
   "cell_type": "code",
   "execution_count": null,
   "id": "cc6d847b",
   "metadata": {},
   "outputs": [],
   "source": [
    "bike_df[\"count\"].std()"
   ]
  },
  {
   "cell_type": "code",
   "execution_count": null,
   "id": "0876ef25",
   "metadata": {},
   "outputs": [],
   "source": [
    "bike_df[\"count\"].median()"
   ]
  },
  {
   "cell_type": "code",
   "execution_count": null,
   "id": "124b39bc",
   "metadata": {},
   "outputs": [],
   "source": [
    "bike_df[\"count\"].max()"
   ]
  },
  {
   "cell_type": "code",
   "execution_count": null,
   "id": "dc72ea3d",
   "metadata": {},
   "outputs": [],
   "source": [
    "bike_df[\"count\"].min()"
   ]
  },
  {
   "cell_type": "code",
   "execution_count": null,
   "id": "0f837df7",
   "metadata": {},
   "outputs": [],
   "source": [
    "bike_df[\"count\"].skew()"
   ]
  },
  {
   "cell_type": "code",
   "execution_count": null,
   "id": "be139460",
   "metadata": {},
   "outputs": [],
   "source": [
    "bike_df[\"count\"].unique()"
   ]
  },
  {
   "cell_type": "code",
   "execution_count": null,
   "id": "ab7dfee6",
   "metadata": {},
   "outputs": [],
   "source": [
    "bike_df[\"count\"].nunique()"
   ]
  },
  {
   "cell_type": "code",
   "execution_count": null,
   "id": "446b8d88",
   "metadata": {},
   "outputs": [],
   "source": [
    "sns.histplot(bike_df[\"count\"])\n",
    "plt.title(\"histogram plot of count\",y=1.06)"
   ]
  },
  {
   "cell_type": "code",
   "execution_count": null,
   "id": "eef3018d",
   "metadata": {},
   "outputs": [],
   "source": [
    "sns.distplot(bike_df[\"count\"])\n",
    "plt.title(\"distribution plot of count\",y=1.06)"
   ]
  },
  {
   "cell_type": "code",
   "execution_count": null,
   "id": "bb376213",
   "metadata": {},
   "outputs": [],
   "source": [
    "\n",
    "sns.boxplot(bike_df[\"count\"],color=\"plum\")\n",
    "plt.title(\"box plot of a count\",y=1.06)\n"
   ]
  },
  {
   "cell_type": "code",
   "execution_count": null,
   "id": "859e3787",
   "metadata": {},
   "outputs": [],
   "source": [
    "sns.violinplot(bike_df[\"count\"],orient='h',color=\"blue\")\n",
    "plt.title(\"voilin plot of count\",y=1.06)"
   ]
  },
  {
   "cell_type": "code",
   "execution_count": null,
   "id": "297f1710",
   "metadata": {},
   "outputs": [],
   "source": [
    "sns.swarmplot(bike_df[\"count\"],orient='h',color=\"plum\")\n",
    "plt.title(\"swarm plot of count\",y=1.06)"
   ]
  },
  {
   "cell_type": "code",
   "execution_count": null,
   "id": "da40bbb0",
   "metadata": {},
   "outputs": [],
   "source": [
    "bike_df[\"count\"].quantile(0.10),bike_df[\"count\"].quantile(0.20),bike_df[\"count\"].quantile(0.25),bike_df[\"count\"].quantile(0.50),bike_df[\"count\"].quantile(0.75),bike_df[\"count\"].quantile(0.90)"
   ]
  },
  {
   "cell_type": "markdown",
   "id": "9e8dc668",
   "metadata": {},
   "source": [
    "**count** Column has a asymmetrical distribution with skew 1.24 which is  not between -0.5 and 0.5 . \n",
    "- Density curve for registered is centred around mean 191.57 with standard deviation of 181.144\n",
    "- Range of count  is from minimum 1 and maximum 977\n",
    ".\n",
    "- 10%  of count is 9.0\n",
    "- 20% of count is 28.0\n",
    "- 25% of count is 42.0\n",
    "- 50% ofcount is 145.0\n",
    "- 75% of count is 284.0\n",
    "- 90%  of count is 452.0\n",
    "- count  has few extreme values toward 900 according to boxplot analysis\n",
    "- count colum could be a good predictor for further analysis with diff colums ."
   ]
  },
  {
   "cell_type": "code",
   "execution_count": null,
   "id": "522db719",
   "metadata": {},
   "outputs": [],
   "source": [
    "bike_df"
   ]
  },
  {
   "cell_type": "markdown",
   "id": "ebe8eba0",
   "metadata": {},
   "source": [
    "# solving categorical column"
   ]
  },
  {
   "cell_type": "markdown",
   "id": "8fa107ab",
   "metadata": {},
   "source": [
    "# datetime"
   ]
  },
  {
   "cell_type": "code",
   "execution_count": null,
   "id": "7f5a38cd",
   "metadata": {},
   "outputs": [],
   "source": [
    "bike_df[\"datetime\"].value_counts().sort_values()"
   ]
  },
  {
   "cell_type": "code",
   "execution_count": null,
   "id": "043672b8",
   "metadata": {},
   "outputs": [],
   "source": [
    "bike_df[\"datetime\"].count()"
   ]
  },
  {
   "cell_type": "code",
   "execution_count": null,
   "id": "73ee0e4a",
   "metadata": {},
   "outputs": [],
   "source": [
    "bike_df[\"datetime\"].isnull()"
   ]
  },
  {
   "cell_type": "code",
   "execution_count": null,
   "id": "91165dfa",
   "metadata": {},
   "outputs": [],
   "source": [
    "sns.countplot(x=bike_df[\"datetime\"])\n",
    "plt.title(\"count plot of date and time \",y=1.06)"
   ]
  },
  {
   "cell_type": "markdown",
   "id": "d11ff414",
   "metadata": {},
   "source": [
    "from above finding we can date is same and it cannot be changed we can get more findings by comparing it with other column for future analysis"
   ]
  },
  {
   "cell_type": "markdown",
   "id": "6ccae77e",
   "metadata": {},
   "source": [
    "# season"
   ]
  },
  {
   "cell_type": "code",
   "execution_count": null,
   "id": "5380e3ec",
   "metadata": {},
   "outputs": [],
   "source": [
    "bike_df[\"season\"].value_counts().sort_values()"
   ]
  },
  {
   "cell_type": "code",
   "execution_count": null,
   "id": "c802ea94",
   "metadata": {},
   "outputs": [],
   "source": [
    "bike_df[\"season\"].count()"
   ]
  },
  {
   "cell_type": "code",
   "execution_count": null,
   "id": "d727ca8a",
   "metadata": {},
   "outputs": [],
   "source": [
    "bike_df[\"season\"].sum()"
   ]
  },
  {
   "cell_type": "code",
   "execution_count": null,
   "id": "0f1ea94e",
   "metadata": {},
   "outputs": [],
   "source": [
    "bike_df[\"season\"].isnull()"
   ]
  },
  {
   "cell_type": "code",
   "execution_count": null,
   "id": "ee3de8dd",
   "metadata": {},
   "outputs": [],
   "source": [
    "sns.countplot(x=bike_df[\"season\"])\n",
    "plt.title(\"count plot of season \",y=1.06)"
   ]
  },
  {
   "cell_type": "markdown",
   "id": "35d6f219",
   "metadata": {},
   "source": [
    "from the the above findings we can say the sason is constant it does not changesit can be a good predicter for future analysis"
   ]
  },
  {
   "cell_type": "markdown",
   "id": "3aaacbb6",
   "metadata": {},
   "source": [
    "# holiday"
   ]
  },
  {
   "cell_type": "code",
   "execution_count": null,
   "id": "dcb2fec4",
   "metadata": {},
   "outputs": [],
   "source": [
    "bike_df[\"holiday\"].value_counts().sort_values()"
   ]
  },
  {
   "cell_type": "code",
   "execution_count": null,
   "id": "26b112fe",
   "metadata": {},
   "outputs": [],
   "source": [
    "bike_df[\"holiday\"].count()"
   ]
  },
  {
   "cell_type": "code",
   "execution_count": null,
   "id": "9892e61a",
   "metadata": {},
   "outputs": [],
   "source": [
    "bike_df[\"holiday\"].sum()"
   ]
  },
  {
   "cell_type": "code",
   "execution_count": null,
   "id": "c0d6a025",
   "metadata": {},
   "outputs": [],
   "source": [
    "bike_df[\"holiday\"].isnull()"
   ]
  },
  {
   "cell_type": "code",
   "execution_count": null,
   "id": "7e399c77",
   "metadata": {},
   "outputs": [],
   "source": [
    "sns.countplot(x=bike_df[\"holiday\"])\n",
    "plt.title(\"count plot of holiday \",y=1.06)"
   ]
  },
  {
   "cell_type": "markdown",
   "id": "7d59f88b",
   "metadata": {},
   "source": [
    "from the above findings we can say holiday is more compared to working\n",
    "0-holiday\n",
    "1-working"
   ]
  },
  {
   "cell_type": "markdown",
   "id": "2611e8b8",
   "metadata": {},
   "source": [
    "# working day"
   ]
  },
  {
   "cell_type": "code",
   "execution_count": null,
   "id": "12d08903",
   "metadata": {},
   "outputs": [],
   "source": [
    "bike_df[\"workingday\"].value_counts().sort_values()"
   ]
  },
  {
   "cell_type": "code",
   "execution_count": null,
   "id": "24f1cfa4",
   "metadata": {},
   "outputs": [],
   "source": [
    "bike_df[\"workingday\"].count()"
   ]
  },
  {
   "cell_type": "code",
   "execution_count": null,
   "id": "024e9eda",
   "metadata": {},
   "outputs": [],
   "source": [
    "bike_df[\"workingday\"].sum()"
   ]
  },
  {
   "cell_type": "code",
   "execution_count": null,
   "id": "47088122",
   "metadata": {},
   "outputs": [],
   "source": [
    "bike_df[\"workingday\"].isnull()"
   ]
  },
  {
   "cell_type": "code",
   "execution_count": null,
   "id": "cd2e1569",
   "metadata": {},
   "outputs": [],
   "source": [
    "sns.countplot(x=bike_df[\"workingday\"])\n",
    "plt.title(\"count plot of workingday \",y=1.06)"
   ]
  },
  {
   "cell_type": "markdown",
   "id": "c6086fb5",
   "metadata": {},
   "source": [
    "from the above findings we can say  working days is more compared to holidays \n",
    "0-non working\n",
    "1-working"
   ]
  },
  {
   "cell_type": "code",
   "execution_count": null,
   "id": "003f7ab8",
   "metadata": {},
   "outputs": [],
   "source": [
    "bike_df"
   ]
  },
  {
   "cell_type": "markdown",
   "id": "c2b325d3",
   "metadata": {},
   "source": [
    "# weather"
   ]
  },
  {
   "cell_type": "code",
   "execution_count": null,
   "id": "409e3242",
   "metadata": {},
   "outputs": [],
   "source": [
    "bike_df[\"weather\"].value_counts().sort_values()"
   ]
  },
  {
   "cell_type": "code",
   "execution_count": null,
   "id": "8d1529b9",
   "metadata": {},
   "outputs": [],
   "source": [
    "bike_df[\"weather\"].count()"
   ]
  },
  {
   "cell_type": "code",
   "execution_count": null,
   "id": "039cfff7",
   "metadata": {},
   "outputs": [],
   "source": [
    "bike_df[\"weather\"].sum()"
   ]
  },
  {
   "cell_type": "code",
   "execution_count": null,
   "id": "57abc125",
   "metadata": {},
   "outputs": [],
   "source": [
    "bike_df[\"weather\"].isnull()"
   ]
  },
  {
   "cell_type": "code",
   "execution_count": null,
   "id": "7c097083",
   "metadata": {},
   "outputs": [],
   "source": [
    "sns.countplot(x=bike_df[\"weather\"])\n",
    "plt.title(\"count plot of weather \",y=1.06)"
   ]
  },
  {
   "cell_type": "markdown",
   "id": "cb59afb0",
   "metadata": {},
   "source": [
    "from the dats set 1-spring 2-summer 3-fall 4-winter and from the above reading we can say demant for bike in summer is more followed by summer and fall and in winter business is less"
   ]
  },
  {
   "cell_type": "markdown",
   "id": "a21c534d",
   "metadata": {},
   "source": [
    "# comparing numerical and categorical columns"
   ]
  },
  {
   "cell_type": "code",
   "execution_count": null,
   "id": "ce60bd2a",
   "metadata": {},
   "outputs": [],
   "source": [
    "bike_df"
   ]
  },
  {
   "cell_type": "markdown",
   "id": "2938cec6",
   "metadata": {},
   "source": [
    "# combining numerical and categorical column"
   ]
  },
  {
   "cell_type": "markdown",
   "id": "0480360c",
   "metadata": {},
   "source": [
    "# combining season and holiday"
   ]
  },
  {
   "cell_type": "markdown",
   "id": "72fad860",
   "metadata": {},
   "source": [
    "in which season holiday is maximum?"
   ]
  },
  {
   "cell_type": "code",
   "execution_count": null,
   "id": "248df22e",
   "metadata": {},
   "outputs": [],
   "source": [
    "bike_df.groupby(\"season\")[\"holiday\"].max()"
   ]
  },
  {
   "cell_type": "code",
   "execution_count": null,
   "id": "d2a4a488",
   "metadata": {},
   "outputs": [],
   "source": [
    "in which season holiday is minimum?"
   ]
  },
  {
   "cell_type": "code",
   "execution_count": null,
   "id": "5e2b8e74",
   "metadata": {},
   "outputs": [],
   "source": [
    "bike_df.groupby(\"season\")[\"holiday\"].min()"
   ]
  },
  {
   "cell_type": "code",
   "execution_count": null,
   "id": "b6135f89",
   "metadata": {},
   "outputs": [],
   "source": [
    "sns.barplot(bike_df,x=\"season\",y=\"holiday\",errorbar=None)\n",
    "plt.title(\"bar plot of season and holiday\",y=1.06)"
   ]
  },
  {
   "cell_type": "markdown",
   "id": "82c308fa",
   "metadata": {},
   "source": [
    "according to the above reading we can say maximum holidays are taken during fall and winter hence we can say usage of bike in this 2 season are less compared to spring and summer \n"
   ]
  },
  {
   "cell_type": "markdown",
   "id": "fc2aac19",
   "metadata": {},
   "source": [
    "# combining working day and datetime"
   ]
  },
  {
   "cell_type": "markdown",
   "id": "bafe34dc",
   "metadata": {},
   "source": [
    " what is the maximum working day according to date and time?"
   ]
  },
  {
   "cell_type": "code",
   "execution_count": null,
   "id": "86f34d33",
   "metadata": {},
   "outputs": [],
   "source": [
    "bike_df.groupby(\"workingday\")[\"datetime\"].max()"
   ]
  },
  {
   "cell_type": "code",
   "execution_count": null,
   "id": "6aeb498d",
   "metadata": {},
   "outputs": [],
   "source": [
    " what is the minimum working day according to date and time?"
   ]
  },
  {
   "cell_type": "code",
   "execution_count": null,
   "id": "5d000874",
   "metadata": {},
   "outputs": [],
   "source": [
    "bike_df.groupby(\"workingday\")[\"datetime\"].min()"
   ]
  },
  {
   "cell_type": "code",
   "execution_count": null,
   "id": "9639fba8",
   "metadata": {},
   "outputs": [],
   "source": [
    "sns.barplot(bike_df,x=\"datetime\",y=\"workingday\",errorbar=None)\n",
    "plt.title(\"bar plot of workingday and datetime\",y=1.06)\n",
    "plt.figure(figsize=(100,100))"
   ]
  },
  {
   "cell_type": "markdown",
   "id": "16c19478",
   "metadata": {},
   "source": [
    "from the above findings we can say working days are constant according to the date and time "
   ]
  },
  {
   "cell_type": "markdown",
   "id": "26739ec5",
   "metadata": {},
   "source": [
    "# combining season with working day"
   ]
  },
  {
   "cell_type": "markdown",
   "id": "b63b47fd",
   "metadata": {},
   "source": [
    "what is the count of working days according to the season?"
   ]
  },
  {
   "cell_type": "code",
   "execution_count": null,
   "id": "d81e57b1",
   "metadata": {},
   "outputs": [],
   "source": [
    "bike_df.groupby(\"season\")[\"workingday\"].count()"
   ]
  },
  {
   "cell_type": "markdown",
   "id": "a838288d",
   "metadata": {},
   "source": [
    "what is the maximum working day ?"
   ]
  },
  {
   "cell_type": "code",
   "execution_count": null,
   "id": "27912a42",
   "metadata": {},
   "outputs": [],
   "source": [
    "bike_df.groupby(\"workingday\")[\"season\"].max()"
   ]
  },
  {
   "cell_type": "code",
   "execution_count": null,
   "id": "ed67c151",
   "metadata": {},
   "outputs": [],
   "source": [
    "what is the maximum working day according to season?"
   ]
  },
  {
   "cell_type": "code",
   "execution_count": null,
   "id": "e2d49cef",
   "metadata": {},
   "outputs": [],
   "source": [
    "bike_df.groupby(\"season\")[\"workingday\"].max()"
   ]
  },
  {
   "cell_type": "code",
   "execution_count": null,
   "id": "e3de98fd",
   "metadata": {},
   "outputs": [],
   "source": [
    "what is minimum working day?"
   ]
  },
  {
   "cell_type": "code",
   "execution_count": null,
   "id": "f87cb436",
   "metadata": {},
   "outputs": [],
   "source": [
    "bike_df.groupby(\"workingday\")[\"season\"].min()"
   ]
  },
  {
   "cell_type": "code",
   "execution_count": null,
   "id": "778acda9",
   "metadata": {},
   "outputs": [],
   "source": [
    "what is minimum working day according  to season?"
   ]
  },
  {
   "cell_type": "code",
   "execution_count": null,
   "id": "3e45946b",
   "metadata": {},
   "outputs": [],
   "source": [
    "bike_df.groupby(\"season\")[\"workingday\"].min()"
   ]
  },
  {
   "cell_type": "code",
   "execution_count": null,
   "id": "86749f55",
   "metadata": {},
   "outputs": [],
   "source": [
    "sns.barplot(bike_df,x=\"season\",y=\"workingday\",errorbar=None)\n",
    "plt.title(\"bar plot of workingday and season\",y=1.06)\n"
   ]
  },
  {
   "cell_type": "markdown",
   "id": "0ce28879",
   "metadata": {},
   "source": [
    "according to the findings maximum working says are in summer and spring compared to fall and winter \n",
    "1-spring\n",
    "2-summer\n",
    "3-fall\n",
    "4-winter"
   ]
  },
  {
   "cell_type": "code",
   "execution_count": null,
   "id": "8e979e1b",
   "metadata": {},
   "outputs": [],
   "source": [
    "bike_df"
   ]
  },
  {
   "cell_type": "markdown",
   "id": "112523f2",
   "metadata": {},
   "source": [
    "# season with temperature"
   ]
  },
  {
   "cell_type": "markdown",
   "id": "9043afa2",
   "metadata": {},
   "source": [
    "what is the maximum temperature according to the season?"
   ]
  },
  {
   "cell_type": "code",
   "execution_count": null,
   "id": "fb83ca6b",
   "metadata": {},
   "outputs": [],
   "source": [
    "bike_df.groupby(\"season\")[\"temp\"].max()"
   ]
  },
  {
   "cell_type": "code",
   "execution_count": null,
   "id": "b65a8b5a",
   "metadata": {},
   "outputs": [],
   "source": [
    "what is the minimum temperature according to the season?"
   ]
  },
  {
   "cell_type": "code",
   "execution_count": null,
   "id": "7f000f71",
   "metadata": {},
   "outputs": [],
   "source": [
    "bike_df.groupby(\"season\")[\"temp\"].min()"
   ]
  },
  {
   "cell_type": "code",
   "execution_count": null,
   "id": "cbb86164",
   "metadata": {},
   "outputs": [],
   "source": [
    "what is the count of temp according to season?"
   ]
  },
  {
   "cell_type": "code",
   "execution_count": null,
   "id": "1fb1d676",
   "metadata": {},
   "outputs": [],
   "source": [
    "bike_df.groupby(\"season\")[\"temp\"].count()"
   ]
  },
  {
   "cell_type": "code",
   "execution_count": null,
   "id": "baece60e",
   "metadata": {},
   "outputs": [],
   "source": [
    "sns.barplot(bike_df,x=\"season\",y=\"temp\",errorbar=None)\n",
    "plt.title(\"bar plot of temperature and season\",y=1.06)\n"
   ]
  },
  {
   "cell_type": "markdown",
   "id": "7aad0a3a",
   "metadata": {},
   "source": [
    "from the above findings we can say temp of spring is less temp is summer is slight mire highest temperature is seen in fall and low temp is seen in winter"
   ]
  },
  {
   "cell_type": "markdown",
   "id": "debbdf1f",
   "metadata": {},
   "source": [
    "# combining season with atemp"
   ]
  },
  {
   "cell_type": "markdown",
   "id": "c2282469",
   "metadata": {},
   "source": [
    "what is the maximum atemperature according to the season?"
   ]
  },
  {
   "cell_type": "code",
   "execution_count": null,
   "id": "18b1e64d",
   "metadata": {},
   "outputs": [],
   "source": [
    "bike_df.groupby(\"season\")[\"atemp\"].max()"
   ]
  },
  {
   "cell_type": "markdown",
   "id": "213569e7",
   "metadata": {},
   "source": [
    "what is the minimum atemperature according to the season?"
   ]
  },
  {
   "cell_type": "code",
   "execution_count": null,
   "id": "d3af3fc1",
   "metadata": {},
   "outputs": [],
   "source": [
    "bike_df.groupby(\"season\")[\"atemp\"].min()"
   ]
  },
  {
   "cell_type": "markdown",
   "id": "a90c7e3f",
   "metadata": {},
   "source": [
    "what is the count of atemp according to season?"
   ]
  },
  {
   "cell_type": "code",
   "execution_count": null,
   "id": "d7691dd3",
   "metadata": {},
   "outputs": [],
   "source": [
    "bike_df.groupby(\"season\")[\"atemp\"].count()"
   ]
  },
  {
   "cell_type": "code",
   "execution_count": null,
   "id": "4580271a",
   "metadata": {},
   "outputs": [],
   "source": [
    "sns.barplot(bike_df,x=\"season\",y=\"atemp\",errorbar=None)\n",
    "plt.title(\"bar plot of atemperature and season\",y=1.06)\n"
   ]
  },
  {
   "cell_type": "markdown",
   "id": "65c24e61",
   "metadata": {},
   "source": [
    "according to the above hindings the a temperature of fall is more follwed by summer then winder and least is spring "
   ]
  },
  {
   "cell_type": "code",
   "execution_count": null,
   "id": "4f65329c",
   "metadata": {},
   "outputs": [],
   "source": [
    "bike_df"
   ]
  },
  {
   "cell_type": "markdown",
   "id": "47e6951d",
   "metadata": {},
   "source": [
    "# comparing season with humidity"
   ]
  },
  {
   "cell_type": "markdown",
   "id": "51d1e127",
   "metadata": {},
   "source": [
    " what is the max,min and count of humidity  according to the season?"
   ]
  },
  {
   "cell_type": "code",
   "execution_count": null,
   "id": "ef216cec",
   "metadata": {},
   "outputs": [],
   "source": [
    "bike_df.groupby(\"season\")[\"humidity\"].max()"
   ]
  },
  {
   "cell_type": "code",
   "execution_count": null,
   "id": "ed2cd00b",
   "metadata": {},
   "outputs": [],
   "source": [
    "bike_df.groupby(\"season\")[\"humidity\"].min()"
   ]
  },
  {
   "cell_type": "code",
   "execution_count": null,
   "id": "7747e889",
   "metadata": {},
   "outputs": [],
   "source": [
    "bike_df.groupby(\"season\")[\"humidity\"].count()"
   ]
  },
  {
   "cell_type": "code",
   "execution_count": null,
   "id": "c9770a77",
   "metadata": {},
   "outputs": [],
   "source": [
    "sns.barplot(bike_df,x=\"season\",y=\"humidity\",errorbar=None)\n",
    "plt.title(\"bar plot of humidity and season\",y=1.06)\n"
   ]
  },
  {
   "cell_type": "markdown",
   "id": "465fbbb0",
   "metadata": {},
   "source": [
    "according to the analysis season 4 winter is max humid followed by fall,summer and spring "
   ]
  },
  {
   "cell_type": "markdown",
   "id": "94981e26",
   "metadata": {},
   "source": [
    "# combining season  with windspeed"
   ]
  },
  {
   "cell_type": "markdown",
   "id": "3d1716f6",
   "metadata": {},
   "source": [
    " what is the max,min,mean  and count of windspeed  according to the season?"
   ]
  },
  {
   "cell_type": "code",
   "execution_count": null,
   "id": "a686196c",
   "metadata": {},
   "outputs": [],
   "source": [
    "bike_df.groupby(\"season\")[\"windspeed\"].max()"
   ]
  },
  {
   "cell_type": "code",
   "execution_count": null,
   "id": "38d9089e",
   "metadata": {},
   "outputs": [],
   "source": [
    "bike_df.groupby(\"season\")[\"windspeed\"].min()"
   ]
  },
  {
   "cell_type": "code",
   "execution_count": null,
   "id": "2f8bde9e",
   "metadata": {},
   "outputs": [],
   "source": [
    "bike_df.groupby(\"season\")[\"windspeed\"].count()"
   ]
  },
  {
   "cell_type": "code",
   "execution_count": null,
   "id": "63bdcc8d",
   "metadata": {},
   "outputs": [],
   "source": [
    "bike_df.groupby(\"season\")[\"windspeed\"].mean()"
   ]
  },
  {
   "cell_type": "code",
   "execution_count": null,
   "id": "3496ada3",
   "metadata": {},
   "outputs": [],
   "source": [
    "sns.barplot(bike_df,x=\"season\",y=\"windspeed\",errorbar=None)\n",
    "plt.title(\"bar plot of windspeed and season\",y=1.06)\n"
   ]
  },
  {
   "cell_type": "markdown",
   "id": "d8f221c6",
   "metadata": {},
   "source": [
    "according to the above findings we can say wind speed in sprong is more folloerd by summer in winter and fall wid speed is constant "
   ]
  },
  {
   "cell_type": "markdown",
   "id": "d6804d01",
   "metadata": {},
   "source": [
    "# comparing season with casual"
   ]
  },
  {
   "cell_type": "markdown",
   "id": "1059c46b",
   "metadata": {},
   "source": [
    "# casual-no of non registered users"
   ]
  },
  {
   "cell_type": "code",
   "execution_count": null,
   "id": "6fba278f",
   "metadata": {},
   "outputs": [],
   "source": [
    " what is the max,min,mean  and count of casual  according to the season?"
   ]
  },
  {
   "cell_type": "code",
   "execution_count": null,
   "id": "510565ab",
   "metadata": {},
   "outputs": [],
   "source": [
    "bike_df.groupby(\"season\")[\"casual\"].max()"
   ]
  },
  {
   "cell_type": "code",
   "execution_count": null,
   "id": "8f9c6bb4",
   "metadata": {},
   "outputs": [],
   "source": [
    "bike_df.groupby(\"season\")[\"casual\"].min()"
   ]
  },
  {
   "cell_type": "code",
   "execution_count": null,
   "id": "38df5439",
   "metadata": {},
   "outputs": [],
   "source": [
    "bike_df.groupby(\"season\")[\"casual\"].count()"
   ]
  },
  {
   "cell_type": "code",
   "execution_count": null,
   "id": "d610986a",
   "metadata": {},
   "outputs": [],
   "source": [
    "bike_df.groupby(\"season\")[\"casual\"].mean()"
   ]
  },
  {
   "cell_type": "code",
   "execution_count": null,
   "id": "f99d134e",
   "metadata": {},
   "outputs": [],
   "source": [
    "sns.barplot(bike_df,x=\"season\",y=\"casual\",errorbar=None)\n",
    "plt.title(\"bar plot of casual and season\",y=1.06)\n"
   ]
  },
  {
   "cell_type": "markdown",
   "id": "f992396e",
   "metadata": {},
   "source": [
    "according to the above finding the no maximum casual(non registered users)is morein fall followed by summer,winter and spring"
   ]
  },
  {
   "cell_type": "markdown",
   "id": "f1455a43",
   "metadata": {},
   "source": [
    "# comparing season with registered"
   ]
  },
  {
   "cell_type": "markdown",
   "id": "00bbe135",
   "metadata": {},
   "source": [
    "# registered-no of user rentals initiated"
   ]
  },
  {
   "cell_type": "markdown",
   "id": "a2d5fca8",
   "metadata": {},
   "source": [
    " what is the max,min,mean  and count of casual  according to the season?"
   ]
  },
  {
   "cell_type": "code",
   "execution_count": null,
   "id": "cd2c2e68",
   "metadata": {},
   "outputs": [],
   "source": [
    "bike_df.groupby(\"season\")[\"registered\"].max()"
   ]
  },
  {
   "cell_type": "code",
   "execution_count": null,
   "id": "55decfb5",
   "metadata": {},
   "outputs": [],
   "source": [
    "bike_df.groupby(\"season\")[\"registered\"].min()"
   ]
  },
  {
   "cell_type": "code",
   "execution_count": null,
   "id": "71386e66",
   "metadata": {},
   "outputs": [],
   "source": [
    "bike_df.groupby(\"season\")[\"registered\"].count()"
   ]
  },
  {
   "cell_type": "code",
   "execution_count": null,
   "id": "5f19e704",
   "metadata": {},
   "outputs": [],
   "source": [
    "bike_df.groupby(\"season\")[\"registered\"].mean()"
   ]
  },
  {
   "cell_type": "code",
   "execution_count": null,
   "id": "b0fbf02f",
   "metadata": {},
   "outputs": [],
   "source": [
    "sns.barplot(bike_df,x=\"season\",y=\"registered\",errorbar=None)\n",
    "plt.title(\"bar plot of registered and season\",y=1.06)\n"
   ]
  },
  {
   "cell_type": "code",
   "execution_count": null,
   "id": "e9c00727",
   "metadata": {},
   "outputs": [],
   "source": [
    "according to the above findings we can say season fall has more registered followed by winter, summerand spring"
   ]
  },
  {
   "cell_type": "markdown",
   "id": "cc910ff7",
   "metadata": {},
   "source": [
    "# comparing season with count"
   ]
  },
  {
   "cell_type": "markdown",
   "id": "739a8952",
   "metadata": {},
   "source": [
    "# count-no of total rentals"
   ]
  },
  {
   "cell_type": "markdown",
   "id": "86677e0a",
   "metadata": {},
   "source": [
    " what is the max,min,mean  and count of counts  according to the season?"
   ]
  },
  {
   "cell_type": "code",
   "execution_count": null,
   "id": "53e22128",
   "metadata": {},
   "outputs": [],
   "source": [
    "bike_df.groupby(\"season\")[\"count\"].max()"
   ]
  },
  {
   "cell_type": "code",
   "execution_count": null,
   "id": "79f7c86d",
   "metadata": {},
   "outputs": [],
   "source": [
    "bike_df.groupby(\"season\")[\"count\"].min()"
   ]
  },
  {
   "cell_type": "code",
   "execution_count": null,
   "id": "641fc1d1",
   "metadata": {},
   "outputs": [],
   "source": [
    "bike_df.groupby(\"season\")[\"count\"].count()"
   ]
  },
  {
   "cell_type": "code",
   "execution_count": null,
   "id": "20139adb",
   "metadata": {},
   "outputs": [],
   "source": [
    "bike_df.groupby(\"season\")[\"count\"].mean()"
   ]
  },
  {
   "cell_type": "code",
   "execution_count": null,
   "id": "4b009c43",
   "metadata": {},
   "outputs": [],
   "source": [
    "sns.barplot(bike_df,x=\"season\",y=\"count\",errorbar=None)\n",
    "plt.title(\"bar plot of count and season\",y=1.06)\n"
   ]
  },
  {
   "cell_type": "markdown",
   "id": "196f90d5",
   "metadata": {},
   "source": [
    "according to the above findings maximum count is in fall followed by summer,winter and spring"
   ]
  },
  {
   "cell_type": "code",
   "execution_count": null,
   "id": "e4f4d830",
   "metadata": {},
   "outputs": [],
   "source": [
    "bike_df"
   ]
  },
  {
   "cell_type": "markdown",
   "id": "789af2c9",
   "metadata": {},
   "source": [
    "# combining holiday with temperature"
   ]
  },
  {
   "cell_type": "code",
   "execution_count": null,
   "id": "ccab16f4",
   "metadata": {},
   "outputs": [],
   "source": [
    " what is the max,min,mean  and count of tmp according to the holiday?"
   ]
  },
  {
   "cell_type": "code",
   "execution_count": null,
   "id": "3c7cd6d2",
   "metadata": {},
   "outputs": [],
   "source": [
    "bike_df.groupby(\"temp\")[\"holiday\"].max()"
   ]
  },
  {
   "cell_type": "code",
   "execution_count": null,
   "id": "0262dd0d",
   "metadata": {},
   "outputs": [],
   "source": [
    "bike_df.groupby(\"holiday\")[\"temp\"].max()"
   ]
  },
  {
   "cell_type": "code",
   "execution_count": null,
   "id": "be09efad",
   "metadata": {},
   "outputs": [],
   "source": [
    "bike_df.groupby(\"holiday\")[\"temp\"].min()"
   ]
  },
  {
   "cell_type": "code",
   "execution_count": null,
   "id": "0529a391",
   "metadata": {},
   "outputs": [],
   "source": [
    "bike_df.groupby(\"holiday\")[\"temp\"].count()"
   ]
  },
  {
   "cell_type": "code",
   "execution_count": null,
   "id": "6ce241b2",
   "metadata": {},
   "outputs": [],
   "source": [
    "bike_df.groupby(\"holiday\")[\"temp\"].mean()"
   ]
  },
  {
   "cell_type": "code",
   "execution_count": null,
   "id": "86be40cc",
   "metadata": {},
   "outputs": [],
   "source": [
    "sns.barplot(bike_df,x=\"holiday\",y=\"temp\",errorbar=None)\n",
    "plt.title(\"bar plot of holiday  and temp\",y=1.06)\n"
   ]
  },
  {
   "cell_type": "markdown",
   "id": "e8f00eeb",
   "metadata": {},
   "source": [
    "according to the above findings we can say that temp is constant in holidays "
   ]
  },
  {
   "cell_type": "markdown",
   "id": "efa57a62",
   "metadata": {},
   "source": [
    "# combining holiday with atemperature"
   ]
  },
  {
   "cell_type": "markdown",
   "id": "47eac3f6",
   "metadata": {},
   "source": [
    " what is the max,min,mean  and count of atmp according to the holiday?"
   ]
  },
  {
   "cell_type": "code",
   "execution_count": null,
   "id": "bc0a38dc",
   "metadata": {},
   "outputs": [],
   "source": [
    "bike_df.groupby(\"holiday\")[\"atemp\"].max()"
   ]
  },
  {
   "cell_type": "code",
   "execution_count": null,
   "id": "d2d10a72",
   "metadata": {},
   "outputs": [],
   "source": [
    "bike_df.groupby(\"holiday\")[\"atemp\"].max()"
   ]
  },
  {
   "cell_type": "code",
   "execution_count": null,
   "id": "804fe003",
   "metadata": {},
   "outputs": [],
   "source": [
    "bike_df.groupby(\"holiday\")[\"atemp\"].max()"
   ]
  },
  {
   "cell_type": "code",
   "execution_count": null,
   "id": "67d4efc8",
   "metadata": {},
   "outputs": [],
   "source": [
    "bike_df.groupby(\"holiday\")[\"atemp\"].max()"
   ]
  },
  {
   "cell_type": "code",
   "execution_count": null,
   "id": "2f3f89d2",
   "metadata": {},
   "outputs": [],
   "source": [
    "bike_df.groupby(\"holiday\")[\"atemp\"].max()"
   ]
  },
  {
   "cell_type": "code",
   "execution_count": null,
   "id": "b993f99e",
   "metadata": {},
   "outputs": [],
   "source": [
    "sns.barplot(bike_df,x=\"holiday\",y=\"atemp\",errorbar=None)\n",
    "plt.title(\"bar plot of holiday  and atemp\",y=1.06)\n"
   ]
  },
  {
   "cell_type": "markdown",
   "id": "bb20f081",
   "metadata": {},
   "source": [
    "according to the above findings we can say that atemp is constant in holidays "
   ]
  },
  {
   "cell_type": "markdown",
   "id": "8a51b961",
   "metadata": {},
   "source": [
    "# combining holiday with humidity"
   ]
  },
  {
   "cell_type": "markdown",
   "id": "ec733660",
   "metadata": {},
   "source": [
    " what is the max,min,mean  and count of humidity according to the holiday?"
   ]
  },
  {
   "cell_type": "code",
   "execution_count": null,
   "id": "3c04a271",
   "metadata": {},
   "outputs": [],
   "source": [
    "bike_df.groupby(\"holiday\")[\"humidity\"].max()"
   ]
  },
  {
   "cell_type": "code",
   "execution_count": null,
   "id": "1252089d",
   "metadata": {},
   "outputs": [],
   "source": [
    "bike_df.groupby(\"holiday\")[\"humidity\"].max()"
   ]
  },
  {
   "cell_type": "code",
   "execution_count": null,
   "id": "2b3dcb41",
   "metadata": {},
   "outputs": [],
   "source": [
    "bike_df.groupby(\"holiday\")[\"humidity\"].max()"
   ]
  },
  {
   "cell_type": "code",
   "execution_count": null,
   "id": "07f5bbbd",
   "metadata": {},
   "outputs": [],
   "source": [
    "bike_df.groupby(\"holiday\")[\"humidity\"].max()"
   ]
  },
  {
   "cell_type": "code",
   "execution_count": null,
   "id": "ae6d214e",
   "metadata": {},
   "outputs": [],
   "source": [
    "bike_df.groupby(\"holiday\")[\"humidity\"].max()"
   ]
  },
  {
   "cell_type": "code",
   "execution_count": null,
   "id": "bff2ead3",
   "metadata": {},
   "outputs": [],
   "source": [
    "sns.barplot(bike_df,x=\"holiday\",y=\"humidity\",errorbar=None)\n",
    "plt.title(\"bar plot of holiday  and humidity\",y=1.06)\n"
   ]
  },
  {
   "cell_type": "markdown",
   "id": "482198cb",
   "metadata": {},
   "source": [
    "from the above findings we can say humidity is constant in holidays"
   ]
  },
  {
   "cell_type": "markdown",
   "id": "eacbfb19",
   "metadata": {},
   "source": [
    "# combining holiday with wind speed"
   ]
  },
  {
   "cell_type": "code",
   "execution_count": null,
   "id": "32830820",
   "metadata": {},
   "outputs": [],
   "source": [
    " what is the max,min,mean  and count of windspeed according to the holiday?"
   ]
  },
  {
   "cell_type": "code",
   "execution_count": null,
   "id": "e69be719",
   "metadata": {},
   "outputs": [],
   "source": [
    "bike_df.groupby(\"holiday\")[\"windspeed\"].max()"
   ]
  },
  {
   "cell_type": "code",
   "execution_count": null,
   "id": "af4a153a",
   "metadata": {},
   "outputs": [],
   "source": [
    "bike_df.groupby(\"holiday\")[\"windspeed\"].min()"
   ]
  },
  {
   "cell_type": "code",
   "execution_count": null,
   "id": "29850edb",
   "metadata": {},
   "outputs": [],
   "source": [
    "bike_df.groupby(\"holiday\")[\"windspeed\"].mean()"
   ]
  },
  {
   "cell_type": "code",
   "execution_count": null,
   "id": "b737f512",
   "metadata": {},
   "outputs": [],
   "source": [
    "bike_df.groupby(\"holiday\")[\"windspeed\"].count()"
   ]
  },
  {
   "cell_type": "code",
   "execution_count": null,
   "id": "811f1cad",
   "metadata": {},
   "outputs": [],
   "source": [
    "sns.barplot(bike_df,x=\"holiday\",y=\"windspeed\",errorbar=None)\n",
    "plt.title(\"bar plot of holiday  and windspeed\",y=1.06)\n"
   ]
  },
  {
   "cell_type": "markdown",
   "id": "fde6ddfd",
   "metadata": {},
   "source": [
    "according to the holiday wind speed varies as its showing low and 1 its showing high (if we count 0 as holiday then wundspeed is less in holiday and more in working day)"
   ]
  },
  {
   "cell_type": "markdown",
   "id": "95a256ae",
   "metadata": {},
   "source": [
    "# combining holiday and casual"
   ]
  },
  {
   "cell_type": "markdown",
   "id": "630c3806",
   "metadata": {},
   "source": [
    "# casual-no of non registered users"
   ]
  },
  {
   "cell_type": "markdown",
   "id": "11fe6ccb",
   "metadata": {},
   "source": [
    " what is the max,min,mean  and count of casual according to the holiday?"
   ]
  },
  {
   "cell_type": "code",
   "execution_count": null,
   "id": "42f75316",
   "metadata": {},
   "outputs": [],
   "source": [
    "bike_df.groupby(\"holiday\")[\"casual\"].max()"
   ]
  },
  {
   "cell_type": "code",
   "execution_count": null,
   "id": "a382a1af",
   "metadata": {},
   "outputs": [],
   "source": [
    "bike_df.groupby(\"holiday\")[\"casual\"].min()"
   ]
  },
  {
   "cell_type": "code",
   "execution_count": null,
   "id": "f618aa21",
   "metadata": {},
   "outputs": [],
   "source": [
    "bike_df.groupby(\"holiday\")[\"casual\"].mean()"
   ]
  },
  {
   "cell_type": "code",
   "execution_count": null,
   "id": "02835d31",
   "metadata": {},
   "outputs": [],
   "source": [
    "bike_df.groupby(\"holiday\")[\"casual\"].count()"
   ]
  },
  {
   "cell_type": "code",
   "execution_count": null,
   "id": "6ffa9bed",
   "metadata": {},
   "outputs": [],
   "source": [
    "sns.barplot(bike_df,x=\"holiday\",y=\"casual\",errorbar=None)\n",
    "plt.title(\"bar plot of holiday  and casual\",y=1.06)\n"
   ]
  },
  {
   "cell_type": "code",
   "execution_count": null,
   "id": "a62d833a",
   "metadata": {},
   "outputs": [],
   "source": [
    "according to the above findinds we can say the caual on 0is less ans compared to 1 "
   ]
  },
  {
   "cell_type": "markdown",
   "id": "87b25e37",
   "metadata": {},
   "source": [
    "# combining holiday and registered"
   ]
  },
  {
   "cell_type": "markdown",
   "id": "140dbe84",
   "metadata": {},
   "source": [
    "# registered-no of user rentals initiated"
   ]
  },
  {
   "cell_type": "markdown",
   "id": "81c2826c",
   "metadata": {},
   "source": [
    " what is the max,min,mean  and count of registered according to the holiday?"
   ]
  },
  {
   "cell_type": "code",
   "execution_count": null,
   "id": "7f5daeff",
   "metadata": {},
   "outputs": [],
   "source": [
    "bike_df.groupby(\"holiday\")[\"registered\"].max()"
   ]
  },
  {
   "cell_type": "code",
   "execution_count": null,
   "id": "10dd95c1",
   "metadata": {},
   "outputs": [],
   "source": [
    "bike_df.groupby(\"holiday\")[\"registered\"].min()"
   ]
  },
  {
   "cell_type": "code",
   "execution_count": null,
   "id": "ffe186be",
   "metadata": {},
   "outputs": [],
   "source": [
    "bike_df.groupby(\"holiday\")[\"registered\"].median()"
   ]
  },
  {
   "cell_type": "code",
   "execution_count": null,
   "id": "6368ff19",
   "metadata": {},
   "outputs": [],
   "source": [
    "bike_df.groupby(\"holiday\")[\"registered\"].count()"
   ]
  },
  {
   "cell_type": "code",
   "execution_count": null,
   "id": "9be8d634",
   "metadata": {},
   "outputs": [],
   "source": [
    "sns.barplot(bike_df,x=\"holiday\",y=\"registered\",errorbar=None)\n",
    "plt.title(\"bar plot of holiday  and registered\",y=1.06)\n"
   ]
  },
  {
   "cell_type": "code",
   "execution_count": null,
   "id": "5ad15b7d",
   "metadata": {},
   "outputs": [],
   "source": [
    "from the aove findings we can say registered values vary according to holiday"
   ]
  },
  {
   "cell_type": "markdown",
   "id": "0930cb2a",
   "metadata": {},
   "source": [
    "# combining holiday with counts"
   ]
  },
  {
   "cell_type": "markdown",
   "id": "06cba7bb",
   "metadata": {},
   "source": [
    "# count-no of total rentals"
   ]
  },
  {
   "cell_type": "code",
   "execution_count": null,
   "id": "3fd8c11d",
   "metadata": {},
   "outputs": [],
   "source": [
    " what is the max,min,mean  and count of count according to the holiday?"
   ]
  },
  {
   "cell_type": "code",
   "execution_count": null,
   "id": "c4b2a9c3",
   "metadata": {},
   "outputs": [],
   "source": [
    "bike_df.groupby(\"holiday\")[\"count\"].max()"
   ]
  },
  {
   "cell_type": "code",
   "execution_count": null,
   "id": "94a19407",
   "metadata": {},
   "outputs": [],
   "source": [
    "bike_df.groupby(\"holiday\")[\"count\"].min()"
   ]
  },
  {
   "cell_type": "code",
   "execution_count": null,
   "id": "eae35ffa",
   "metadata": {},
   "outputs": [],
   "source": [
    "bike_df.groupby(\"holiday\")[\"count\"].mean()"
   ]
  },
  {
   "cell_type": "code",
   "execution_count": null,
   "id": "d543e3dd",
   "metadata": {},
   "outputs": [],
   "source": [
    "bike_df.groupby(\"holiday\")[\"count\"].count()"
   ]
  },
  {
   "cell_type": "code",
   "execution_count": null,
   "id": "00230d82",
   "metadata": {},
   "outputs": [],
   "source": [
    "sns.barplot(bike_df,x=\"holiday\",y=\"count\",errorbar=None)\n",
    "plt.title(\"bar plot of holiday  and count\",y=1.06)\n"
   ]
  },
  {
   "cell_type": "markdown",
   "id": "e2ae5328",
   "metadata": {},
   "source": [
    "from the above findings we can say count value varies according to holiday"
   ]
  },
  {
   "cell_type": "code",
   "execution_count": null,
   "id": "cf5b13c4",
   "metadata": {},
   "outputs": [],
   "source": [
    "bike_df"
   ]
  },
  {
   "cell_type": "markdown",
   "id": "94a69645",
   "metadata": {},
   "source": [
    "# combining  working day with temperature"
   ]
  },
  {
   "cell_type": "code",
   "execution_count": null,
   "id": "40078be2",
   "metadata": {},
   "outputs": [],
   "source": [
    " what is the max,min,mean  and count of registered according to the workingday?"
   ]
  },
  {
   "cell_type": "code",
   "execution_count": null,
   "id": "fc709c4a",
   "metadata": {},
   "outputs": [],
   "source": [
    "bike_df.groupby(\"workingday\")[\"temp\"].max()"
   ]
  },
  {
   "cell_type": "code",
   "execution_count": null,
   "id": "fa28b97d",
   "metadata": {},
   "outputs": [],
   "source": [
    "bike_df.groupby(\"workingday\")[\"temp\"].max()"
   ]
  },
  {
   "cell_type": "code",
   "execution_count": null,
   "id": "9e9ed3da",
   "metadata": {},
   "outputs": [],
   "source": [
    "bike_df.groupby(\"workingday\")[\"temp\"].max()"
   ]
  },
  {
   "cell_type": "code",
   "execution_count": null,
   "id": "162b9e3e",
   "metadata": {},
   "outputs": [],
   "source": [
    "bike_df.groupby(\"workingday\")[\"temp\"].max()"
   ]
  },
  {
   "cell_type": "code",
   "execution_count": null,
   "id": "0e381f6e",
   "metadata": {},
   "outputs": [],
   "source": [
    "bike_df.groupby(\"workingday\")[\"temp\"].max()"
   ]
  },
  {
   "cell_type": "code",
   "execution_count": null,
   "id": "b0064044",
   "metadata": {},
   "outputs": [],
   "source": [
    "sns.barplot(bike_df,x=\"workingday\",y=\"temp\",errorbar=None)\n",
    "plt.title(\"bar plot of workingday  and temp\",y=1.06)\n"
   ]
  },
  {
   "cell_type": "code",
   "execution_count": null,
   "id": "cc32c4c3",
   "metadata": {},
   "outputs": [],
   "source": [
    "from the above findings we can say temperature varies according to working day"
   ]
  },
  {
   "cell_type": "markdown",
   "id": "9af4cf24",
   "metadata": {},
   "source": [
    "# combining working day with atemp"
   ]
  },
  {
   "cell_type": "markdown",
   "id": "d1751d3c",
   "metadata": {},
   "source": [
    " what is the max,min,mean  and count of atemperature according to the workingday?"
   ]
  },
  {
   "cell_type": "code",
   "execution_count": null,
   "id": "c1646798",
   "metadata": {},
   "outputs": [],
   "source": [
    "bike_df.groupby(\"workingday\")[\"atemp\"].max()"
   ]
  },
  {
   "cell_type": "code",
   "execution_count": null,
   "id": "74d5f66e",
   "metadata": {},
   "outputs": [],
   "source": [
    "bike_df.groupby(\"workingday\")[\"atemp\"].min()"
   ]
  },
  {
   "cell_type": "code",
   "execution_count": null,
   "id": "66a11f98",
   "metadata": {},
   "outputs": [],
   "source": [
    "bike_df.groupby(\"workingday\")[\"atemp\"].mean()"
   ]
  },
  {
   "cell_type": "code",
   "execution_count": null,
   "id": "fe5bce51",
   "metadata": {},
   "outputs": [],
   "source": [
    "bike_df.groupby(\"workingday\")[\"atemp\"].count()"
   ]
  },
  {
   "cell_type": "code",
   "execution_count": null,
   "id": "6fed77fe",
   "metadata": {},
   "outputs": [],
   "source": [
    "sns.barplot(bike_df,x=\"workingday\",y=\"atemp\",errorbar=None)\n",
    "plt.title(\"bar plot of workingday  and atemp\",y=1.06)\n"
   ]
  },
  {
   "cell_type": "markdown",
   "id": "82ab3e51",
   "metadata": {},
   "source": [
    "from the above findings we can say a temp varies according to working day"
   ]
  },
  {
   "cell_type": "code",
   "execution_count": null,
   "id": "007791c0",
   "metadata": {},
   "outputs": [],
   "source": [
    "bike_df"
   ]
  },
  {
   "cell_type": "markdown",
   "id": "0f6e6b3a",
   "metadata": {},
   "source": [
    "# combining working day with humidity"
   ]
  },
  {
   "cell_type": "code",
   "execution_count": null,
   "id": "91b0dd01",
   "metadata": {},
   "outputs": [],
   "source": [
    " what is the max,min,mean  and count of humidity according to the workingday?"
   ]
  },
  {
   "cell_type": "code",
   "execution_count": null,
   "id": "3bfe8529",
   "metadata": {},
   "outputs": [],
   "source": [
    "bike_df.groupby(\"workingday\")[\"humidity\"].max()"
   ]
  },
  {
   "cell_type": "code",
   "execution_count": null,
   "id": "f7981e35",
   "metadata": {},
   "outputs": [],
   "source": [
    "bike_df.groupby(\"workingday\")[\"humidity\"].min()"
   ]
  },
  {
   "cell_type": "code",
   "execution_count": null,
   "id": "749251ab",
   "metadata": {},
   "outputs": [],
   "source": [
    "bike_df.groupby(\"workingday\")[\"humidity\"].mean()"
   ]
  },
  {
   "cell_type": "code",
   "execution_count": null,
   "id": "ed2be5e7",
   "metadata": {},
   "outputs": [],
   "source": [
    "bike_df.groupby(\"workingday\")[\"humidity\"].count()"
   ]
  },
  {
   "cell_type": "code",
   "execution_count": null,
   "id": "fc1b6480",
   "metadata": {},
   "outputs": [],
   "source": [
    "sns.barplot(bike_df,x=\"workingday\",y=\"humidity\",errorbar=None)\n",
    "plt.title(\"bar plot of workingday  and humidity\",y=1.06)"
   ]
  },
  {
   "cell_type": "markdown",
   "id": "91b39e6d",
   "metadata": {},
   "source": [
    "from the above findings we can say that humidity is constant according to working day"
   ]
  },
  {
   "cell_type": "markdown",
   "id": "f8531270",
   "metadata": {},
   "source": [
    "# combining humidity with wind speed"
   ]
  },
  {
   "cell_type": "code",
   "execution_count": null,
   "id": "0c34c936",
   "metadata": {},
   "outputs": [],
   "source": [
    " what is the max,min,mean  and count of windspeed according to the workingday?"
   ]
  },
  {
   "cell_type": "code",
   "execution_count": null,
   "id": "6dc9a3ce",
   "metadata": {},
   "outputs": [],
   "source": [
    "bike_df.groupby(\"workingday\")[\"windspeed\"].max()"
   ]
  },
  {
   "cell_type": "code",
   "execution_count": null,
   "id": "9e3f0f27",
   "metadata": {},
   "outputs": [],
   "source": [
    "bike_df.groupby(\"workingday\")[\"windspeed\"].min()"
   ]
  },
  {
   "cell_type": "code",
   "execution_count": null,
   "id": "c521ed7c",
   "metadata": {},
   "outputs": [],
   "source": [
    "bike_df.groupby(\"workingday\")[\"windspeed\"].mean()"
   ]
  },
  {
   "cell_type": "code",
   "execution_count": null,
   "id": "ef1198a7",
   "metadata": {},
   "outputs": [],
   "source": [
    "bike_df.groupby(\"workingday\")[\"windspeed\"].count()"
   ]
  },
  {
   "cell_type": "code",
   "execution_count": null,
   "id": "83b03e6c",
   "metadata": {},
   "outputs": [],
   "source": [
    "sns.barplot(bike_df,x=\"workingday\",y=\"windspeed\",errorbar=None)\n",
    "plt.title(\"bar plot of workingday  and windspeed\",y=1.06)"
   ]
  },
  {
   "cell_type": "markdown",
   "id": "a26c8c42",
   "metadata": {},
   "source": [
    "according to th eabove reading we can say there in deflection in wind speed"
   ]
  },
  {
   "cell_type": "markdown",
   "id": "73b5e3cf",
   "metadata": {},
   "source": [
    "# combining working day with casual"
   ]
  },
  {
   "cell_type": "markdown",
   "id": "f9e7d380",
   "metadata": {},
   "source": [
    "# casual-no of non registered users"
   ]
  },
  {
   "cell_type": "markdown",
   "id": "1de631fe",
   "metadata": {},
   "source": [
    " what is the max,min,mean  and count of casual according to the workingday?"
   ]
  },
  {
   "cell_type": "code",
   "execution_count": null,
   "id": "0344d0c8",
   "metadata": {},
   "outputs": [],
   "source": [
    "bike_df.groupby(\"workingday\")[\"casual\"].max()"
   ]
  },
  {
   "cell_type": "code",
   "execution_count": null,
   "id": "a438267d",
   "metadata": {},
   "outputs": [],
   "source": [
    "bike_df.groupby(\"workingday\")[\"casual\"].min()"
   ]
  },
  {
   "cell_type": "code",
   "execution_count": null,
   "id": "545790a9",
   "metadata": {},
   "outputs": [],
   "source": [
    "bike_df.groupby(\"workingday\")[\"casual\"].mean()"
   ]
  },
  {
   "cell_type": "code",
   "execution_count": null,
   "id": "8175458b",
   "metadata": {},
   "outputs": [],
   "source": [
    "bike_df.groupby(\"workingday\")[\"casual\"].count()"
   ]
  },
  {
   "cell_type": "code",
   "execution_count": null,
   "id": "bd9947bf",
   "metadata": {},
   "outputs": [],
   "source": [
    "sns.barplot(bike_df,x=\"workingday\",y=\"casual\",errorbar=None)\n",
    "plt.title(\"bar plot of workingday  and casual\",y=1.06)"
   ]
  },
  {
   "cell_type": "markdown",
   "id": "d8f79961",
   "metadata": {},
   "source": [
    "from the above findings we can say there is fluctuation in  the casual(non registered users)  in o iits more and in 1 its less "
   ]
  },
  {
   "cell_type": "markdown",
   "id": "75257862",
   "metadata": {},
   "source": [
    "# combining working day with registered"
   ]
  },
  {
   "cell_type": "markdown",
   "id": "aacd70f9",
   "metadata": {},
   "source": [
    "# registered-no of user rentals initiated"
   ]
  },
  {
   "cell_type": "code",
   "execution_count": null,
   "id": "f7edb25b",
   "metadata": {},
   "outputs": [],
   "source": [
    " what is the max,min,mean  and count of registered according to the workingday?"
   ]
  },
  {
   "cell_type": "code",
   "execution_count": null,
   "id": "e8e25e1f",
   "metadata": {},
   "outputs": [],
   "source": [
    "bike_df.groupby(\"workingday\")[\"registered\"].max()"
   ]
  },
  {
   "cell_type": "code",
   "execution_count": null,
   "id": "278c61a0",
   "metadata": {},
   "outputs": [],
   "source": [
    "bike_df.groupby(\"workingday\")[\"registered\"].min()"
   ]
  },
  {
   "cell_type": "code",
   "execution_count": null,
   "id": "692d66b7",
   "metadata": {},
   "outputs": [],
   "source": [
    "bike_df.groupby(\"workingday\")[\"registered\"].mean()"
   ]
  },
  {
   "cell_type": "code",
   "execution_count": null,
   "id": "a65e79ba",
   "metadata": {},
   "outputs": [],
   "source": [
    "bike_df.groupby(\"workingday\")[\"registered\"].count()"
   ]
  },
  {
   "cell_type": "code",
   "execution_count": null,
   "id": "153342f4",
   "metadata": {},
   "outputs": [],
   "source": [
    "sns.barplot(bike_df,x=\"workingday\",y=\"registered\",errorbar=None)\n",
    "plt.title(\"bar plot of workingday  and registered\",y=1.06)"
   ]
  },
  {
   "cell_type": "markdown",
   "id": "308c8be0",
   "metadata": {},
   "source": [
    "according to the above findings there is fluctuation in registered(no of user rental initiated) as its showing more in 1 and less in 0"
   ]
  },
  {
   "cell_type": "markdown",
   "id": "c7d65b34",
   "metadata": {},
   "source": [
    "# combining working day with counts"
   ]
  },
  {
   "cell_type": "markdown",
   "id": "18bd311b",
   "metadata": {},
   "source": [
    "# count-no of total rentals"
   ]
  },
  {
   "cell_type": "code",
   "execution_count": null,
   "id": "adf40fcf",
   "metadata": {},
   "outputs": [],
   "source": [
    " what is the max,min,mean  and count of counts according to the workingday?"
   ]
  },
  {
   "cell_type": "code",
   "execution_count": null,
   "id": "ce8c9914",
   "metadata": {},
   "outputs": [],
   "source": [
    "bike_df.groupby(\"workingday\")[\"count\"].max()"
   ]
  },
  {
   "cell_type": "code",
   "execution_count": null,
   "id": "b3f8cd33",
   "metadata": {},
   "outputs": [],
   "source": [
    "bike_df.groupby(\"workingday\")[\"count\"].max()"
   ]
  },
  {
   "cell_type": "code",
   "execution_count": null,
   "id": "49a04c47",
   "metadata": {},
   "outputs": [],
   "source": [
    "bike_df.groupby(\"workingday\")[\"count\"].max()"
   ]
  },
  {
   "cell_type": "code",
   "execution_count": null,
   "id": "5f19fb35",
   "metadata": {},
   "outputs": [],
   "source": [
    "bike_df.groupby(\"workingday\")[\"count\"].max()"
   ]
  },
  {
   "cell_type": "code",
   "execution_count": null,
   "id": "b3d17438",
   "metadata": {},
   "outputs": [],
   "source": [
    "sns.barplot(bike_df,x=\"workingday\",y=\"count\",errorbar=None)\n",
    "plt.title(\"bar plot of workingday  and count\",y=1.06)"
   ]
  },
  {
   "cell_type": "markdown",
   "id": "9e2d0c8b",
   "metadata": {},
   "source": [
    "according to the above findings we can say there is some fluctuation in counts(no of total rental)  the its showing slight high on 1 point"
   ]
  },
  {
   "cell_type": "code",
   "execution_count": null,
   "id": "c34f6598",
   "metadata": {},
   "outputs": [],
   "source": [
    "bike_df"
   ]
  },
  {
   "cell_type": "markdown",
   "id": "f389eb83",
   "metadata": {},
   "source": [
    "# combining weather with temperature"
   ]
  },
  {
   "cell_type": "markdown",
   "id": "f3fa0700",
   "metadata": {},
   "source": [
    " what is the max,min,mean  and count of temp according to the weather?"
   ]
  },
  {
   "cell_type": "code",
   "execution_count": null,
   "id": "277a7d02",
   "metadata": {},
   "outputs": [],
   "source": [
    "bike_df.groupby(\"weather\")[\"temp\"].max()"
   ]
  },
  {
   "cell_type": "code",
   "execution_count": null,
   "id": "b52a237f",
   "metadata": {},
   "outputs": [],
   "source": [
    "bike_df.groupby(\"weather\")[\"temp\"].min()"
   ]
  },
  {
   "cell_type": "code",
   "execution_count": null,
   "id": "017cea3a",
   "metadata": {},
   "outputs": [],
   "source": [
    "bike_df.groupby(\"weather\")[\"temp\"].mean()"
   ]
  },
  {
   "cell_type": "code",
   "execution_count": null,
   "id": "436bade0",
   "metadata": {},
   "outputs": [],
   "source": [
    "bike_df.groupby(\"weather\")[\"temp\"].count()"
   ]
  },
  {
   "cell_type": "code",
   "execution_count": null,
   "id": "275a5a23",
   "metadata": {},
   "outputs": [],
   "source": [
    "sns.barplot(bike_df,x=\"weather\",y=\"temp\",errorbar=None)\n",
    "plt.title(\"bar plot of weather  and temp\",y=1.06)"
   ]
  },
  {
   "cell_type": "code",
   "execution_count": null,
   "id": "bf756ba3",
   "metadata": {},
   "outputs": [],
   "source": [
    "from the above findings we can say that there is variation in temperature according to the weather spring is more summer and fall \n",
    "is less and winter is least"
   ]
  },
  {
   "cell_type": "markdown",
   "id": "b78f4dd6",
   "metadata": {},
   "source": [
    "# combining weather with atemp"
   ]
  },
  {
   "cell_type": "code",
   "execution_count": null,
   "id": "f0ffbf5d",
   "metadata": {},
   "outputs": [],
   "source": [
    " what is the max,min,mean  and count of atemp according to the weather?"
   ]
  },
  {
   "cell_type": "code",
   "execution_count": null,
   "id": "bc88acef",
   "metadata": {},
   "outputs": [],
   "source": [
    "bike_df.groupby(\"weather\")[\"atemp\"].max()"
   ]
  },
  {
   "cell_type": "code",
   "execution_count": null,
   "id": "667f97a3",
   "metadata": {},
   "outputs": [],
   "source": [
    "bike_df.groupby(\"weather\")[\"atemp\"].min()"
   ]
  },
  {
   "cell_type": "code",
   "execution_count": null,
   "id": "0ee1f6fd",
   "metadata": {},
   "outputs": [],
   "source": [
    "bike_df.groupby(\"weather\")[\"atemp\"].mean()"
   ]
  },
  {
   "cell_type": "code",
   "execution_count": null,
   "id": "1d314ac1",
   "metadata": {},
   "outputs": [],
   "source": [
    "bike_df.groupby(\"weather\")[\"atemp\"].count()"
   ]
  },
  {
   "cell_type": "code",
   "execution_count": null,
   "id": "d4ff392b",
   "metadata": {},
   "outputs": [],
   "source": [
    "sns.barplot(bike_df,x=\"weather\",y=\"atemp\",errorbar=None)\n",
    "plt.title(\"bar plot of weather  and atemp\",y=1.06)"
   ]
  },
  {
   "cell_type": "code",
   "execution_count": null,
   "id": "c4b793f3",
   "metadata": {},
   "outputs": [],
   "source": [
    "from the above findings we can say that there is variation in atemperature according to the weather spring is more summer and fall \n",
    "is less and winter is least"
   ]
  },
  {
   "cell_type": "markdown",
   "id": "fe805589",
   "metadata": {},
   "source": [
    "# combining weather with humidity"
   ]
  },
  {
   "cell_type": "code",
   "execution_count": null,
   "id": "c1cd493c",
   "metadata": {},
   "outputs": [],
   "source": [
    " what is the max,min,mean  and count of humidity according to the weather?"
   ]
  },
  {
   "cell_type": "code",
   "execution_count": null,
   "id": "2f171975",
   "metadata": {},
   "outputs": [],
   "source": [
    "bike_df.groupby(\"weather\")[\"humidity\"].max()"
   ]
  },
  {
   "cell_type": "code",
   "execution_count": null,
   "id": "b419bb80",
   "metadata": {},
   "outputs": [],
   "source": [
    "bike_df.groupby(\"weather\")[\"humidity\"].min()"
   ]
  },
  {
   "cell_type": "code",
   "execution_count": null,
   "id": "8cbbd1b5",
   "metadata": {},
   "outputs": [],
   "source": [
    "bike_df.groupby(\"weather\")[\"humidity\"].mean()"
   ]
  },
  {
   "cell_type": "code",
   "execution_count": null,
   "id": "b1eb36e9",
   "metadata": {},
   "outputs": [],
   "source": [
    "bike_df.groupby(\"weather\")[\"humidity\"].count()"
   ]
  },
  {
   "cell_type": "code",
   "execution_count": null,
   "id": "6602ae6a",
   "metadata": {},
   "outputs": [],
   "source": [
    "sns.barplot(bike_df,x=\"weather\",y=\"humidity\",errorbar=None)\n",
    "plt.title(\"bar plot of weather  and humidity\",y=1.06)"
   ]
  },
  {
   "cell_type": "markdown",
   "id": "0e361cc5",
   "metadata": {},
   "source": [
    "according ti the above findings winter has more humidity followed by fall,summer and spring is least"
   ]
  },
  {
   "cell_type": "markdown",
   "id": "a1921d18",
   "metadata": {},
   "source": [
    "# combining weather with windspeed"
   ]
  },
  {
   "cell_type": "markdown",
   "id": "57dd8f87",
   "metadata": {},
   "source": [
    " what is the max,min,mean  and count of windspeed according to the weather?"
   ]
  },
  {
   "cell_type": "code",
   "execution_count": null,
   "id": "609ac883",
   "metadata": {},
   "outputs": [],
   "source": [
    "bike_df.groupby(\"weather\")[\"windspeed\"].max()"
   ]
  },
  {
   "cell_type": "code",
   "execution_count": null,
   "id": "7e1d8620",
   "metadata": {},
   "outputs": [],
   "source": [
    "bike_df.groupby(\"weather\")[\"windspeed\"].max()"
   ]
  },
  {
   "cell_type": "code",
   "execution_count": null,
   "id": "368777c3",
   "metadata": {},
   "outputs": [],
   "source": [
    "bike_df.groupby(\"weather\")[\"windspeed\"].max()"
   ]
  },
  {
   "cell_type": "code",
   "execution_count": null,
   "id": "ca20a60b",
   "metadata": {},
   "outputs": [],
   "source": [
    "bike_df.groupby(\"weather\")[\"windspeed\"].max()"
   ]
  },
  {
   "cell_type": "code",
   "execution_count": null,
   "id": "5ce9662d",
   "metadata": {},
   "outputs": [],
   "source": [
    "sns.barplot(bike_df,x=\"weather\",y=\"windspeed\",errorbar=None)\n",
    "plt.title(\"bar plot of weather  and windspeed\",y=1.06)"
   ]
  },
  {
   "cell_type": "markdown",
   "id": "e7a5b79b",
   "metadata": {},
   "source": [
    "from the above findings we can say due to the windspeed there is cariation in weather in fall is more followed by spring,summer and winter"
   ]
  },
  {
   "cell_type": "markdown",
   "id": "be714bf1",
   "metadata": {},
   "source": [
    "# combining weather with cosual"
   ]
  },
  {
   "cell_type": "markdown",
   "id": "4a8e035d",
   "metadata": {},
   "source": [
    "# casual-no of non registered users"
   ]
  },
  {
   "cell_type": "code",
   "execution_count": null,
   "id": "72224be1",
   "metadata": {},
   "outputs": [],
   "source": [
    " what is the max,min,mean  and count of casual according to the weather?"
   ]
  },
  {
   "cell_type": "code",
   "execution_count": null,
   "id": "2425791b",
   "metadata": {},
   "outputs": [],
   "source": [
    "bike_df.groupby(\"weather\")[\"casual\"].max()"
   ]
  },
  {
   "cell_type": "code",
   "execution_count": null,
   "id": "5d83dc12",
   "metadata": {},
   "outputs": [],
   "source": [
    "bike_df.groupby(\"weather\")[\"casual\"].min()"
   ]
  },
  {
   "cell_type": "code",
   "execution_count": null,
   "id": "2e5302b9",
   "metadata": {},
   "outputs": [],
   "source": [
    "bike_df.groupby(\"weather\")[\"casual\"].mean()"
   ]
  },
  {
   "cell_type": "code",
   "execution_count": null,
   "id": "3c762860",
   "metadata": {},
   "outputs": [],
   "source": [
    "bike_df.groupby(\"weather\")[\"casual\"].count()"
   ]
  },
  {
   "cell_type": "code",
   "execution_count": null,
   "id": "927f1115",
   "metadata": {},
   "outputs": [],
   "source": [
    "sns.barplot(bike_df,x=\"weather\",y=\"casual\",errorbar=None)\n",
    "plt.title(\"bar plot of weather  and casual\",y=1.06)"
   ]
  },
  {
   "cell_type": "markdown",
   "id": "62e2c3bc",
   "metadata": {},
   "source": [
    "according to the above findings we can say casual(non registered users )are more in spring followed by summer,fall and winter according to the weather"
   ]
  },
  {
   "cell_type": "markdown",
   "id": "07073aa2",
   "metadata": {},
   "source": [
    "# combining weather with registered"
   ]
  },
  {
   "cell_type": "markdown",
   "id": "721b30d1",
   "metadata": {},
   "source": [
    "# registered-no of user rentals initiated"
   ]
  },
  {
   "cell_type": "code",
   "execution_count": null,
   "id": "ee32703f",
   "metadata": {},
   "outputs": [],
   "source": [
    " what is the max,min,mean  and count of registered according to the weather?"
   ]
  },
  {
   "cell_type": "code",
   "execution_count": null,
   "id": "da5c8c3b",
   "metadata": {},
   "outputs": [],
   "source": [
    "bike_df.groupby(\"weather\")[\"registered\"].max()"
   ]
  },
  {
   "cell_type": "code",
   "execution_count": null,
   "id": "0d27ae35",
   "metadata": {},
   "outputs": [],
   "source": [
    "bike_df.groupby(\"weather\")[\"registered\"].min()"
   ]
  },
  {
   "cell_type": "code",
   "execution_count": null,
   "id": "78ac2e90",
   "metadata": {},
   "outputs": [],
   "source": [
    "bike_df.groupby(\"weather\")[\"registered\"].mean()"
   ]
  },
  {
   "cell_type": "code",
   "execution_count": null,
   "id": "e98863e2",
   "metadata": {},
   "outputs": [],
   "source": [
    "bike_df.groupby(\"weather\")[\"registered\"].count()"
   ]
  },
  {
   "cell_type": "code",
   "execution_count": null,
   "id": "4c2a7dac",
   "metadata": {},
   "outputs": [],
   "source": [
    "sns.barplot(bike_df,x=\"weather\",y=\"registered\",errorbar=None)\n",
    "plt.title(\"bar plot of weather  and registered\",y=1.06)"
   ]
  },
  {
   "cell_type": "markdown",
   "id": "74afe6eb",
   "metadata": {},
   "source": [
    "according to theabove findings we can say registered(no of user rental initiated) is more in spring followed by winter,summer and least is fall according to weather"
   ]
  },
  {
   "cell_type": "markdown",
   "id": "559725b0",
   "metadata": {},
   "source": [
    "# combining weather with count"
   ]
  },
  {
   "cell_type": "markdown",
   "id": "2682b29e",
   "metadata": {},
   "source": [
    "# coun-no of total rentals"
   ]
  },
  {
   "cell_type": "code",
   "execution_count": null,
   "id": "ad5a7b54",
   "metadata": {},
   "outputs": [],
   "source": [
    "bike_df.groupby(\"weather\")[\"count\"].max()"
   ]
  },
  {
   "cell_type": "code",
   "execution_count": null,
   "id": "2fa540ff",
   "metadata": {},
   "outputs": [],
   "source": [
    "bike_df.groupby(\"weather\")[\"count\"].min()"
   ]
  },
  {
   "cell_type": "code",
   "execution_count": null,
   "id": "e5e61f44",
   "metadata": {},
   "outputs": [],
   "source": [
    "bike_df.groupby(\"weather\")[\"count\"].mean()"
   ]
  },
  {
   "cell_type": "code",
   "execution_count": null,
   "id": "e7d42ce1",
   "metadata": {},
   "outputs": [],
   "source": [
    "bike_df.groupby(\"weather\")[\"count\"].count()"
   ]
  },
  {
   "cell_type": "code",
   "execution_count": null,
   "id": "8b48edce",
   "metadata": {},
   "outputs": [],
   "source": [
    "sns.barplot(bike_df,x=\"weather\",y=\"count\",errorbar=None)\n",
    "plt.title(\"bar plot of weather  and count\",y=1.06)"
   ]
  },
  {
   "cell_type": "markdown",
   "id": "37600a11",
   "metadata": {},
   "source": [
    "according to the above findings we can say no of count(no of total rental)is morein spring dollowed by summer,winter and least is fall according to weather"
   ]
  },
  {
   "cell_type": "code",
   "execution_count": null,
   "id": "e03a149a",
   "metadata": {},
   "outputs": [],
   "source": [
    "bike_df"
   ]
  },
  {
   "cell_type": "markdown",
   "id": "d965c370",
   "metadata": {},
   "source": [
    "# combining multiple columns[numerical and categorical colum] "
   ]
  },
  {
   "cell_type": "markdown",
   "id": "3f2538ef",
   "metadata": {},
   "source": [
    "# combining season holiday and working day"
   ]
  },
  {
   "cell_type": "markdown",
   "id": "912a0022",
   "metadata": {},
   "source": [
    "what is the max min mean and count of working day and hiliday  according to season?"
   ]
  },
  {
   "cell_type": "code",
   "execution_count": null,
   "id": "2e0dc019",
   "metadata": {},
   "outputs": [],
   "source": [
    "bike_df.groupby(\"season\")[\"holiday\",\"workingday\"].count()"
   ]
  },
  {
   "cell_type": "code",
   "execution_count": null,
   "id": "38a19af3",
   "metadata": {},
   "outputs": [],
   "source": [
    "bike_df.groupby(\"season\")[\"holiday\",\"workingday\"].max()"
   ]
  },
  {
   "cell_type": "code",
   "execution_count": null,
   "id": "c13feb1e",
   "metadata": {},
   "outputs": [],
   "source": [
    "bike_df.groupby(\"season\")[\"holiday\",\"workingday\"].min()"
   ]
  },
  {
   "cell_type": "code",
   "execution_count": null,
   "id": "7f80e7fe",
   "metadata": {},
   "outputs": [],
   "source": [
    "sns.barplot(bike_df,x=\"holiday\",y=\"workingday\",hue=\"season\",errorbar=None)\n",
    "plt.title(\"bar plot of weather season  and holiday\",y=1.06)"
   ]
  },
  {
   "cell_type": "markdown",
   "id": "c2095ae1",
   "metadata": {},
   "source": [
    "from the above findings we can say season is constant according to holiday or working day"
   ]
  },
  {
   "cell_type": "code",
   "execution_count": null,
   "id": "5efe1c87",
   "metadata": {},
   "outputs": [],
   "source": [
    "sns.barplot(bike_df,x=\"holiday\",y=\"season\",hue=\"workingday\",errorbar=None)\n",
    "plt.title(\"bar plot of weather season  and holiday\",y=1.06)"
   ]
  },
  {
   "cell_type": "code",
   "execution_count": null,
   "id": "ce761d31",
   "metadata": {},
   "outputs": [],
   "source": [
    "sns.barplot(bike_df,x=\"workingday\",y=\"season\",hue=\"holiday\",errorbar=None)\n",
    "plt.title(\"bar plot of workingday season and holiday\",y=1.06)"
   ]
  },
  {
   "cell_type": "code",
   "execution_count": null,
   "id": "ccbef62b",
   "metadata": {},
   "outputs": [],
   "source": [
    "sns.scatterplot(bike_df,x=\"workingday\",y=\"holiday\")                                                                                                                    "
   ]
  },
  {
   "cell_type": "code",
   "execution_count": null,
   "id": "7c488098",
   "metadata": {},
   "outputs": [],
   "source": [
    "sns.regplot(bike_df,x=\"season\",y=\"workingday\",scatter_kws={\"color\":\"red\"},line_kws={\"color\":\"yellow\"})                                        "
   ]
  },
  {
   "cell_type": "markdown",
   "id": "9d27f436",
   "metadata": {},
   "source": [
    "# combining holiday and working day with temperature"
   ]
  },
  {
   "cell_type": "code",
   "execution_count": null,
   "id": "5129d4fe",
   "metadata": {},
   "outputs": [],
   "source": [
    "what is the max min mean and count of working day and hiliday  according to temperature?"
   ]
  },
  {
   "cell_type": "code",
   "execution_count": null,
   "id": "99534604",
   "metadata": {},
   "outputs": [],
   "source": [
    "bike_df.groupby(\"temp\")[\"holiday\",\"workingday\"].count()"
   ]
  },
  {
   "cell_type": "code",
   "execution_count": null,
   "id": "97d69bf8",
   "metadata": {},
   "outputs": [],
   "source": [
    "bike_df.groupby(\"temp\")[\"holiday\",\"workingday\"].max()"
   ]
  },
  {
   "cell_type": "code",
   "execution_count": null,
   "id": "bee7a804",
   "metadata": {},
   "outputs": [],
   "source": [
    "sns.barplot(bike_df,x=\"workingday\",y=\"holiday\",hue=\"temp\",errorbar=None)\n",
    "plt.title(\"bar plot of workingday holiday   and temperature\",y=1.06)"
   ]
  },
  {
   "cell_type": "markdown",
   "id": "085b3cda",
   "metadata": {},
   "source": [
    "according to the above finding there are many deflections in temp according to holiday and working day"
   ]
  },
  {
   "cell_type": "code",
   "execution_count": null,
   "id": "261f9108",
   "metadata": {},
   "outputs": [],
   "source": [
    "sns.regplot(bike_df,x=\"temp\",y=\"workingday\",scatter_kws={\"color\":\"red\"},line_kws={\"color\":\"green\"})                                        "
   ]
  },
  {
   "cell_type": "code",
   "execution_count": null,
   "id": "cc821f67",
   "metadata": {},
   "outputs": [],
   "source": [
    "sns.regplot(bike_df,x=\"workingday\"y=\"holiday\",scatter_kws{\"color\":\"red\"},line_kws{\"color\":\"green\"})"
   ]
  },
  {
   "cell_type": "markdown",
   "id": "7a382cc5",
   "metadata": {},
   "source": [
    "# combining weather temperature and humidity"
   ]
  },
  {
   "cell_type": "code",
   "execution_count": null,
   "id": "efedb23f",
   "metadata": {},
   "outputs": [],
   "source": []
  },
  {
   "cell_type": "code",
   "execution_count": null,
   "id": "dea223b1",
   "metadata": {},
   "outputs": [],
   "source": [
    "bike_df.groupby(\"weather\")[\"temp\",\"humidity\"].count()"
   ]
  },
  {
   "cell_type": "code",
   "execution_count": null,
   "id": "dcd6754c",
   "metadata": {},
   "outputs": [],
   "source": [
    "bike_df.groupby(\"weather\")[\"temp\",\"humidity\"].max()"
   ]
  },
  {
   "cell_type": "code",
   "execution_count": null,
   "id": "7987b8a1",
   "metadata": {},
   "outputs": [],
   "source": [
    "bike_df.groupby(\"weather\")[\"temp\",\"humidity\"].min()"
   ]
  },
  {
   "cell_type": "code",
   "execution_count": null,
   "id": "dfdc7881",
   "metadata": {},
   "outputs": [],
   "source": [
    "sns.barplot(bike_df,x=\"temp\",y=\"humidity\",hue=\"weather\",errorbar=None)\n",
    "plt.title(\"bar plot of temp humidity and weather\",y=1.06)\n",
    "plt.figure(figsize=(100,100))"
   ]
  },
  {
   "cell_type": "markdown",
   "id": "04110337",
   "metadata": {},
   "source": [
    "due to high values its not fitting in graph but there are many variation in humidity and temp according to weather"
   ]
  },
  {
   "cell_type": "code",
   "execution_count": null,
   "id": "45432ddd",
   "metadata": {},
   "outputs": [],
   "source": [
    "sns.scatterplot(bike_df,x=\"weather\",y=\"temp\")                                                                                                                    "
   ]
  },
  {
   "cell_type": "markdown",
   "id": "f281d42f",
   "metadata": {},
   "source": [
    "from the above findings we come to know the variation of temp according to weather spring is max followed by summer ,fall and winter"
   ]
  },
  {
   "cell_type": "code",
   "execution_count": null,
   "id": "9ae8738e",
   "metadata": {},
   "outputs": [],
   "source": [
    "sns.scatterplot(bike_df,x=\"weather\",y=\"humidity\")                                                                                                                    "
   ]
  },
  {
   "cell_type": "markdown",
   "id": "e53eb698",
   "metadata": {},
   "source": [
    "from the above findings we can see variation in humidity according to weather in which summer is max followed by spring fall and winter "
   ]
  },
  {
   "cell_type": "code",
   "execution_count": null,
   "id": "f1108611",
   "metadata": {},
   "outputs": [],
   "source": [
    "sns.regplot(bike_df,x=\"temp\",y=\"humidity\",scatter_kws={\"color\":\"red\"},line_kws={\"color\":\"green\"})                                        "
   ]
  },
  {
   "cell_type": "markdown",
   "id": "58f9e665",
   "metadata": {},
   "source": [
    "from the above findings we can say the max and min temp and humidity "
   ]
  },
  {
   "cell_type": "code",
   "execution_count": null,
   "id": "57e6cab1",
   "metadata": {},
   "outputs": [],
   "source": [
    "bike_df"
   ]
  },
  {
   "cell_type": "markdown",
   "id": "60b810d6",
   "metadata": {},
   "source": [
    "# combining holiday workingday windspeed"
   ]
  },
  {
   "cell_type": "code",
   "execution_count": null,
   "id": "d03d614b",
   "metadata": {},
   "outputs": [],
   "source": [
    "what is the max min mean and count of working day and holiday  according to windspeed?"
   ]
  },
  {
   "cell_type": "code",
   "execution_count": null,
   "id": "20620628",
   "metadata": {},
   "outputs": [],
   "source": [
    "bike_df.groupby(\"windspeed\")[\"holiday\",\"workingday\"].count()"
   ]
  },
  {
   "cell_type": "code",
   "execution_count": null,
   "id": "221b3e18",
   "metadata": {},
   "outputs": [],
   "source": [
    "bike_df.groupby(\"windspeed\")[\"holiday\",\"workingday\"].max()"
   ]
  },
  {
   "cell_type": "code",
   "execution_count": null,
   "id": "e91e2d47",
   "metadata": {},
   "outputs": [],
   "source": [
    "bike_df.groupby(\"windspeed\")[\"holiday\",\"workingday\"].min()"
   ]
  },
  {
   "cell_type": "code",
   "execution_count": null,
   "id": "656bd186",
   "metadata": {},
   "outputs": [],
   "source": [
    "sns.barplot(bike_df,x=\"holiday\",y=\"workingday\",hue=\"windspeed\",errorbar=None)\n",
    "plt.title(\"bar plot of holiday workingday and windspeed\",y=1.06)\n"
   ]
  },
  {
   "cell_type": "markdown",
   "id": "df7cadb5",
   "metadata": {},
   "source": [
    "from the above findings we can see a lot of variation in wind speed"
   ]
  },
  {
   "cell_type": "markdown",
   "id": "0e0e7ef5",
   "metadata": {},
   "source": [
    "# combining season holiday and casual"
   ]
  },
  {
   "cell_type": "code",
   "execution_count": null,
   "id": "e5dd5b50",
   "metadata": {},
   "outputs": [],
   "source": [
    "what is the max min mean and count of working day and season  according to casual?"
   ]
  },
  {
   "cell_type": "code",
   "execution_count": null,
   "id": "5acddb4a",
   "metadata": {},
   "outputs": [],
   "source": [
    "bike_df.groupby(\"casual\")[\"holiday\",\"workingday\"].max()"
   ]
  },
  {
   "cell_type": "code",
   "execution_count": null,
   "id": "d1848c4f",
   "metadata": {},
   "outputs": [],
   "source": [
    "bike_df.groupby(\"casual\")[\"holiday\",\"workingday\"].count()"
   ]
  },
  {
   "cell_type": "code",
   "execution_count": null,
   "id": "22b66f95",
   "metadata": {},
   "outputs": [],
   "source": [
    "bike_df.groupby(\"casual\")[\"holiday\",\"workingday\"].min()"
   ]
  },
  {
   "cell_type": "code",
   "execution_count": null,
   "id": "da2fd1bf",
   "metadata": {},
   "outputs": [],
   "source": [
    "sns.barplot(bike_df,x=\"holiday\",y=\"casual\",hue=\"season\",errorbar=None)\n",
    "plt.title(\"bar plot of holiday season and casual\",y=1.06)\n"
   ]
  },
  {
   "cell_type": "markdown",
   "id": "916fe189",
   "metadata": {},
   "source": [
    "from the above findings we can say the according casual of holiday graph winter is more on both the plots 1 and 0 \n",
    "in plot 0 summer is less followed by winter and spring in plot 1 winter is more followed by summer and spring"
   ]
  },
  {
   "cell_type": "markdown",
   "id": "d515d79a",
   "metadata": {},
   "source": [
    "# combining season holiday and registered"
   ]
  },
  {
   "cell_type": "code",
   "execution_count": null,
   "id": "21df938d",
   "metadata": {},
   "outputs": [],
   "source": [
    "what is the max min mean and count of working day and season  according to registered"
   ]
  },
  {
   "cell_type": "code",
   "execution_count": null,
   "id": "dd38f8da",
   "metadata": {},
   "outputs": [],
   "source": [
    "bike_df.groupby(\"registered\")[\"holiday\",\"season\"].count()"
   ]
  },
  {
   "cell_type": "code",
   "execution_count": null,
   "id": "b63bdf48",
   "metadata": {},
   "outputs": [],
   "source": [
    "bike_df.groupby(\"registered\")[\"holiday\",\"season\"].max()"
   ]
  },
  {
   "cell_type": "code",
   "execution_count": null,
   "id": "893d2306",
   "metadata": {},
   "outputs": [],
   "source": [
    "bike_df.groupby(\"registered\")[\"holiday\",\"season\"].min()"
   ]
  },
  {
   "cell_type": "code",
   "execution_count": null,
   "id": "e4a645bc",
   "metadata": {},
   "outputs": [],
   "source": [
    "sns.barplot(bike_df,x=\"holiday\",y=\"registered\",hue=\"season\",errorbar=None)\n",
    "plt.title(\"bar plot of holiday season and casual\",y=1.06)\n"
   ]
  },
  {
   "cell_type": "markdown",
   "id": "53fc13d3",
   "metadata": {},
   "source": [
    "from the above findings we can say registers of point 0 fall is more summer and winter is contant and spring is less and according to pont 1 we can say winter is more compared to summer fall and spring"
   ]
  },
  {
   "cell_type": "markdown",
   "id": "75d25e55",
   "metadata": {},
   "source": [
    "# combining season holiday and count"
   ]
  },
  {
   "cell_type": "code",
   "execution_count": null,
   "id": "44f12e06",
   "metadata": {},
   "outputs": [],
   "source": [
    "bike_df"
   ]
  },
  {
   "cell_type": "code",
   "execution_count": null,
   "id": "9db35750",
   "metadata": {},
   "outputs": [],
   "source": [
    "what is the max min mean and count of season  holiday  according to count?"
   ]
  },
  {
   "cell_type": "code",
   "execution_count": null,
   "id": "b52fdfd5",
   "metadata": {},
   "outputs": [],
   "source": [
    "bike_df.groupby(\"count\")[\"holiday\",\"season\"].min()"
   ]
  },
  {
   "cell_type": "code",
   "execution_count": null,
   "id": "6f899693",
   "metadata": {},
   "outputs": [],
   "source": [
    "bike_df.groupby(\"count\")[\"holiday\",\"season\"].max()"
   ]
  },
  {
   "cell_type": "code",
   "execution_count": null,
   "id": "4fa2479c",
   "metadata": {},
   "outputs": [],
   "source": [
    "bike_df.groupby(\"count\")[\"holiday\",\"season\"].count()"
   ]
  },
  {
   "cell_type": "code",
   "execution_count": null,
   "id": "dedef8e3",
   "metadata": {},
   "outputs": [],
   "source": [
    "sns.barplot(bike_df,x=\"holiday\",y=\"count\",hue=\"season\",errorbar=None)\n",
    "plt.title(\"bar plot of holiday season and count\",y=1.06)\n"
   ]
  },
  {
   "cell_type": "markdown",
   "id": "59a1006c",
   "metadata": {},
   "source": [
    "from the above findings we can say count at pont 0 winter is more followrd by summer ,fall and spring and from pint 1 we can say fall is more followed by winter summer and spring "
   ]
  },
  {
   "cell_type": "code",
   "execution_count": null,
   "id": "a94d2dcd",
   "metadata": {},
   "outputs": [],
   "source": [
    "bike_df"
   ]
  },
  {
   "cell_type": "markdown",
   "id": "fa847c23",
   "metadata": {},
   "source": [
    "# combining working day  season with casual "
   ]
  },
  {
   "cell_type": "code",
   "execution_count": null,
   "id": "388f2232",
   "metadata": {},
   "outputs": [],
   "source": [
    "what is the max min mean and count of season  workingday  according to casual?"
   ]
  },
  {
   "cell_type": "code",
   "execution_count": null,
   "id": "48e72b2f",
   "metadata": {},
   "outputs": [],
   "source": [
    "bike_df.groupby(\"casual\")[\"workingday\",\"season\"].min()"
   ]
  },
  {
   "cell_type": "code",
   "execution_count": null,
   "id": "18d79b4f",
   "metadata": {},
   "outputs": [],
   "source": [
    "bike_df.groupby(\"casual\")[\"workingday\",\"season\"].min()"
   ]
  },
  {
   "cell_type": "code",
   "execution_count": null,
   "id": "d518f8ee",
   "metadata": {},
   "outputs": [],
   "source": [
    "bike_df.groupby(\"casual\")[\"workingday\",\"season\"].min()"
   ]
  },
  {
   "cell_type": "code",
   "execution_count": null,
   "id": "70873af7",
   "metadata": {},
   "outputs": [],
   "source": [
    "sns.barplot(bike_df,x=\"workingday\",y=\"casual\",hue=\"season\",errorbar=None)\n",
    "plt.title(\"bar plot of workingday season and casual\",y=1.06)\n"
   ]
  },
  {
   "cell_type": "markdown",
   "id": "78c66cfa",
   "metadata": {},
   "source": [
    "from the above findings we can say pont in point 0 fall is more followed by summer,winter and spring and from the pint 1 is same "
   ]
  },
  {
   "cell_type": "markdown",
   "id": "fea6ee01",
   "metadata": {},
   "source": [
    "what is the max min mean and count of season  workingday  according to registered?"
   ]
  },
  {
   "cell_type": "code",
   "execution_count": null,
   "id": "ae9fba00",
   "metadata": {},
   "outputs": [],
   "source": [
    "bike_df.groupby(\"registered\")[\"workingday\",\"season\"].min()"
   ]
  },
  {
   "cell_type": "code",
   "execution_count": null,
   "id": "511aa9dc",
   "metadata": {},
   "outputs": [],
   "source": [
    "bike_df.groupby(\"registered\")[\"workingday\",\"season\"].max()"
   ]
  },
  {
   "cell_type": "code",
   "execution_count": null,
   "id": "31c025f1",
   "metadata": {},
   "outputs": [],
   "source": [
    "bike_df.groupby(\"registered\")[\"workingday\",\"season\"].count()"
   ]
  },
  {
   "cell_type": "code",
   "execution_count": null,
   "id": "4f90fcdc",
   "metadata": {},
   "outputs": [],
   "source": [
    "sns.barplot(bike_df,x=\"workingday\",y=\"registered\",hue=\"season\",errorbar=None)\n",
    "plt.title(\"bar plot of workingday season and registered\",y=1.06)\n"
   ]
  },
  {
   "cell_type": "markdown",
   "id": "4f53903a",
   "metadata": {},
   "source": [
    "from the above findings we can say the registered of workingday according to pint 0 fall is more followed by winter and   summer and springis least  accorfing to 1 pont we cab say its same   "
   ]
  },
  {
   "cell_type": "markdown",
   "id": "ff3d3aa5",
   "metadata": {},
   "source": [
    "# combining working day season and count?"
   ]
  },
  {
   "cell_type": "code",
   "execution_count": null,
   "id": "1a7ffba8",
   "metadata": {},
   "outputs": [],
   "source": [
    "what is the max min mean and count of season  workingday  according to count?"
   ]
  },
  {
   "cell_type": "code",
   "execution_count": null,
   "id": "683401d5",
   "metadata": {},
   "outputs": [],
   "source": [
    "bike_df.groupby(\"count\")[\"workingday\",\"season\"].count()"
   ]
  },
  {
   "cell_type": "code",
   "execution_count": null,
   "id": "cbe875a0",
   "metadata": {},
   "outputs": [],
   "source": [
    "bike_df.groupby(\"count\")[\"workingday\",\"season\"].count()"
   ]
  },
  {
   "cell_type": "code",
   "execution_count": null,
   "id": "c1168d21",
   "metadata": {},
   "outputs": [],
   "source": [
    "bike_df.groupby(\"count\")[\"workingday\",\"season\"].max()"
   ]
  },
  {
   "cell_type": "code",
   "execution_count": null,
   "id": "7d6f4b35",
   "metadata": {},
   "outputs": [],
   "source": [
    "bike_df.groupby(\"count\")[\"workingday\",\"season\"].min()"
   ]
  },
  {
   "cell_type": "code",
   "execution_count": null,
   "id": "a70e06d1",
   "metadata": {},
   "outputs": [],
   "source": [
    "sns.barplot(bike_df,x=\"workingday\",y=\"count\",hue=\"season\",errorbar=None)\n",
    "plt.title(\"bar plot of workingday season and count\",y=1.06)\n"
   ]
  },
  {
   "cell_type": "markdown",
   "id": "cc6aa9b6",
   "metadata": {},
   "source": [
    "from the above findings we can say in working day the count is constant byt yhrtr is a slight chage in point 1 in spring count is more compared to point 0"
   ]
  },
  {
   "cell_type": "code",
   "execution_count": null,
   "id": "ec9a0609",
   "metadata": {},
   "outputs": [],
   "source": [
    "bike_df.isnull().sum()"
   ]
  },
  {
   "cell_type": "markdown",
   "id": "fa3aca08",
   "metadata": {},
   "source": [
    "# there are no null values no need to use fillna we can directly  move towards eliminating extreme values"
   ]
  },
  {
   "cell_type": "markdown",
   "id": "cc0484ce",
   "metadata": {},
   "source": [
    "# handeling extremevaluesor outliers"
   ]
  },
  {
   "cell_type": "markdown",
   "id": "5e3069d7",
   "metadata": {},
   "source": [
    "# handeling temp extreme values"
   ]
  },
  {
   "cell_type": "code",
   "execution_count": 130,
   "id": "ec6657b5",
   "metadata": {},
   "outputs": [
    {
     "data": {
      "text/html": [
       "<div>\n",
       "<style scoped>\n",
       "    .dataframe tbody tr th:only-of-type {\n",
       "        vertical-align: middle;\n",
       "    }\n",
       "\n",
       "    .dataframe tbody tr th {\n",
       "        vertical-align: top;\n",
       "    }\n",
       "\n",
       "    .dataframe thead th {\n",
       "        text-align: right;\n",
       "    }\n",
       "</style>\n",
       "<table border=\"1\" class=\"dataframe\">\n",
       "  <thead>\n",
       "    <tr style=\"text-align: right;\">\n",
       "      <th></th>\n",
       "      <th>datetime</th>\n",
       "      <th>season</th>\n",
       "      <th>holiday</th>\n",
       "      <th>workingday</th>\n",
       "      <th>weather</th>\n",
       "      <th>temp</th>\n",
       "      <th>atemp</th>\n",
       "      <th>humidity</th>\n",
       "      <th>windspeed</th>\n",
       "      <th>casual</th>\n",
       "      <th>registered</th>\n",
       "      <th>count</th>\n",
       "    </tr>\n",
       "  </thead>\n",
       "  <tbody>\n",
       "    <tr>\n",
       "      <th>0</th>\n",
       "      <td>2011-01-01 00:00:00</td>\n",
       "      <td>1</td>\n",
       "      <td>0</td>\n",
       "      <td>0</td>\n",
       "      <td>1</td>\n",
       "      <td>9.84</td>\n",
       "      <td>14.395</td>\n",
       "      <td>81</td>\n",
       "      <td>0.0000</td>\n",
       "      <td>3</td>\n",
       "      <td>13</td>\n",
       "      <td>16</td>\n",
       "    </tr>\n",
       "    <tr>\n",
       "      <th>1</th>\n",
       "      <td>2011-01-01 01:00:00</td>\n",
       "      <td>1</td>\n",
       "      <td>0</td>\n",
       "      <td>0</td>\n",
       "      <td>1</td>\n",
       "      <td>9.02</td>\n",
       "      <td>13.635</td>\n",
       "      <td>80</td>\n",
       "      <td>0.0000</td>\n",
       "      <td>8</td>\n",
       "      <td>32</td>\n",
       "      <td>40</td>\n",
       "    </tr>\n",
       "    <tr>\n",
       "      <th>2</th>\n",
       "      <td>2011-01-01 02:00:00</td>\n",
       "      <td>1</td>\n",
       "      <td>0</td>\n",
       "      <td>0</td>\n",
       "      <td>1</td>\n",
       "      <td>9.02</td>\n",
       "      <td>13.635</td>\n",
       "      <td>80</td>\n",
       "      <td>0.0000</td>\n",
       "      <td>5</td>\n",
       "      <td>27</td>\n",
       "      <td>32</td>\n",
       "    </tr>\n",
       "    <tr>\n",
       "      <th>3</th>\n",
       "      <td>2011-01-01 03:00:00</td>\n",
       "      <td>1</td>\n",
       "      <td>0</td>\n",
       "      <td>0</td>\n",
       "      <td>1</td>\n",
       "      <td>9.84</td>\n",
       "      <td>14.395</td>\n",
       "      <td>75</td>\n",
       "      <td>0.0000</td>\n",
       "      <td>3</td>\n",
       "      <td>10</td>\n",
       "      <td>13</td>\n",
       "    </tr>\n",
       "    <tr>\n",
       "      <th>4</th>\n",
       "      <td>2011-01-01 04:00:00</td>\n",
       "      <td>1</td>\n",
       "      <td>0</td>\n",
       "      <td>0</td>\n",
       "      <td>1</td>\n",
       "      <td>9.84</td>\n",
       "      <td>14.395</td>\n",
       "      <td>75</td>\n",
       "      <td>0.0000</td>\n",
       "      <td>0</td>\n",
       "      <td>1</td>\n",
       "      <td>1</td>\n",
       "    </tr>\n",
       "    <tr>\n",
       "      <th>...</th>\n",
       "      <td>...</td>\n",
       "      <td>...</td>\n",
       "      <td>...</td>\n",
       "      <td>...</td>\n",
       "      <td>...</td>\n",
       "      <td>...</td>\n",
       "      <td>...</td>\n",
       "      <td>...</td>\n",
       "      <td>...</td>\n",
       "      <td>...</td>\n",
       "      <td>...</td>\n",
       "      <td>...</td>\n",
       "    </tr>\n",
       "    <tr>\n",
       "      <th>10881</th>\n",
       "      <td>2012-12-19 19:00:00</td>\n",
       "      <td>4</td>\n",
       "      <td>0</td>\n",
       "      <td>1</td>\n",
       "      <td>1</td>\n",
       "      <td>15.58</td>\n",
       "      <td>19.695</td>\n",
       "      <td>50</td>\n",
       "      <td>26.0027</td>\n",
       "      <td>7</td>\n",
       "      <td>329</td>\n",
       "      <td>336</td>\n",
       "    </tr>\n",
       "    <tr>\n",
       "      <th>10882</th>\n",
       "      <td>2012-12-19 20:00:00</td>\n",
       "      <td>4</td>\n",
       "      <td>0</td>\n",
       "      <td>1</td>\n",
       "      <td>1</td>\n",
       "      <td>14.76</td>\n",
       "      <td>17.425</td>\n",
       "      <td>57</td>\n",
       "      <td>15.0013</td>\n",
       "      <td>10</td>\n",
       "      <td>231</td>\n",
       "      <td>241</td>\n",
       "    </tr>\n",
       "    <tr>\n",
       "      <th>10883</th>\n",
       "      <td>2012-12-19 21:00:00</td>\n",
       "      <td>4</td>\n",
       "      <td>0</td>\n",
       "      <td>1</td>\n",
       "      <td>1</td>\n",
       "      <td>13.94</td>\n",
       "      <td>15.910</td>\n",
       "      <td>61</td>\n",
       "      <td>15.0013</td>\n",
       "      <td>4</td>\n",
       "      <td>164</td>\n",
       "      <td>168</td>\n",
       "    </tr>\n",
       "    <tr>\n",
       "      <th>10884</th>\n",
       "      <td>2012-12-19 22:00:00</td>\n",
       "      <td>4</td>\n",
       "      <td>0</td>\n",
       "      <td>1</td>\n",
       "      <td>1</td>\n",
       "      <td>13.94</td>\n",
       "      <td>17.425</td>\n",
       "      <td>61</td>\n",
       "      <td>6.0032</td>\n",
       "      <td>12</td>\n",
       "      <td>117</td>\n",
       "      <td>129</td>\n",
       "    </tr>\n",
       "    <tr>\n",
       "      <th>10885</th>\n",
       "      <td>2012-12-19 23:00:00</td>\n",
       "      <td>4</td>\n",
       "      <td>0</td>\n",
       "      <td>1</td>\n",
       "      <td>1</td>\n",
       "      <td>13.12</td>\n",
       "      <td>16.665</td>\n",
       "      <td>66</td>\n",
       "      <td>8.9981</td>\n",
       "      <td>4</td>\n",
       "      <td>84</td>\n",
       "      <td>88</td>\n",
       "    </tr>\n",
       "  </tbody>\n",
       "</table>\n",
       "<p>8160 rows × 12 columns</p>\n",
       "</div>"
      ],
      "text/plain": [
       "                  datetime  season  holiday  workingday  weather   temp  \\\n",
       "0      2011-01-01 00:00:00       1        0           0        1   9.84   \n",
       "1      2011-01-01 01:00:00       1        0           0        1   9.02   \n",
       "2      2011-01-01 02:00:00       1        0           0        1   9.02   \n",
       "3      2011-01-01 03:00:00       1        0           0        1   9.84   \n",
       "4      2011-01-01 04:00:00       1        0           0        1   9.84   \n",
       "...                    ...     ...      ...         ...      ...    ...   \n",
       "10881  2012-12-19 19:00:00       4        0           1        1  15.58   \n",
       "10882  2012-12-19 20:00:00       4        0           1        1  14.76   \n",
       "10883  2012-12-19 21:00:00       4        0           1        1  13.94   \n",
       "10884  2012-12-19 22:00:00       4        0           1        1  13.94   \n",
       "10885  2012-12-19 23:00:00       4        0           1        1  13.12   \n",
       "\n",
       "        atemp  humidity  windspeed  casual  registered  count  \n",
       "0      14.395        81     0.0000       3          13     16  \n",
       "1      13.635        80     0.0000       8          32     40  \n",
       "2      13.635        80     0.0000       5          27     32  \n",
       "3      14.395        75     0.0000       3          10     13  \n",
       "4      14.395        75     0.0000       0           1      1  \n",
       "...       ...       ...        ...     ...         ...    ...  \n",
       "10881  19.695        50    26.0027       7         329    336  \n",
       "10882  17.425        57    15.0013      10         231    241  \n",
       "10883  15.910        61    15.0013       4         164    168  \n",
       "10884  17.425        61     6.0032      12         117    129  \n",
       "10885  16.665        66     8.9981       4          84     88  \n",
       "\n",
       "[8160 rows x 12 columns]"
      ]
     },
     "execution_count": 130,
     "metadata": {},
     "output_type": "execute_result"
    }
   ],
   "source": [
    "bike_df"
   ]
  },
  {
   "cell_type": "markdown",
   "id": "cee3da8e",
   "metadata": {},
   "source": [
    "q1"
   ]
  },
  {
   "cell_type": "code",
   "execution_count": 131,
   "id": "f05e81ec",
   "metadata": {},
   "outputs": [
    {
     "data": {
      "text/plain": [
       "12.3"
      ]
     },
     "execution_count": 131,
     "metadata": {},
     "output_type": "execute_result"
    }
   ],
   "source": [
    "bike_df[\"temp\"].quantile(0.25)"
   ]
  },
  {
   "cell_type": "markdown",
   "id": "0018f8ab",
   "metadata": {},
   "source": [
    "q2"
   ]
  },
  {
   "cell_type": "code",
   "execution_count": 132,
   "id": "a444fd52",
   "metadata": {},
   "outputs": [
    {
     "data": {
      "text/plain": [
       "23.78"
      ]
     },
     "execution_count": 132,
     "metadata": {},
     "output_type": "execute_result"
    }
   ],
   "source": [
    "bike_df[\"temp\"].quantile(0.75)"
   ]
  },
  {
   "cell_type": "markdown",
   "id": "afb0d906",
   "metadata": {},
   "source": [
    "q3"
   ]
  },
  {
   "cell_type": "code",
   "execution_count": 133,
   "id": "65c6938a",
   "metadata": {},
   "outputs": [
    {
     "data": {
      "text/plain": [
       "27.88"
      ]
     },
     "execution_count": 133,
     "metadata": {},
     "output_type": "execute_result"
    }
   ],
   "source": [
    "bike_df[\"temp\"].quantile(0.90)"
   ]
  },
  {
   "cell_type": "markdown",
   "id": "4ff45c89",
   "metadata": {},
   "source": [
    "iqr"
   ]
  },
  {
   "cell_type": "code",
   "execution_count": 134,
   "id": "a12ce084",
   "metadata": {},
   "outputs": [
    {
     "ename": "NameError",
     "evalue": "name 'q3' is not defined",
     "output_type": "error",
     "traceback": [
      "\u001b[1;31m---------------------------------------------------------------------------\u001b[0m",
      "\u001b[1;31mNameError\u001b[0m                                 Traceback (most recent call last)",
      "Cell \u001b[1;32mIn[134], line 1\u001b[0m\n\u001b[1;32m----> 1\u001b[0m \u001b[43mq3\u001b[49m\u001b[38;5;241m-\u001b[39mq2\n",
      "\u001b[1;31mNameError\u001b[0m: name 'q3' is not defined"
     ]
    }
   ],
   "source": [
    "q3-q2"
   ]
  },
  {
   "cell_type": "code",
   "execution_count": 135,
   "id": "98258405",
   "metadata": {},
   "outputs": [
    {
     "data": {
      "text/plain": [
       "16.4"
      ]
     },
     "execution_count": 135,
     "metadata": {},
     "output_type": "execute_result"
    }
   ],
   "source": [
    "30.34-13.94"
   ]
  },
  {
   "cell_type": "markdown",
   "id": "afd24e65",
   "metadata": {},
   "source": [
    "minimun whisker"
   ]
  },
  {
   "cell_type": "code",
   "execution_count": 136,
   "id": "80b53bfc",
   "metadata": {},
   "outputs": [
    {
     "ename": "NameError",
     "evalue": "name 'q1' is not defined",
     "output_type": "error",
     "traceback": [
      "\u001b[1;31m---------------------------------------------------------------------------\u001b[0m",
      "\u001b[1;31mNameError\u001b[0m                                 Traceback (most recent call last)",
      "Cell \u001b[1;32mIn[136], line 1\u001b[0m\n\u001b[1;32m----> 1\u001b[0m \u001b[43mq1\u001b[49m\u001b[38;5;241m-\u001b[39m\u001b[38;5;241m1.5\u001b[39m\u001b[38;5;241m*\u001b[39miqr\n",
      "\u001b[1;31mNameError\u001b[0m: name 'q1' is not defined"
     ]
    }
   ],
   "source": [
    "q1-1.5*iqr"
   ]
  },
  {
   "cell_type": "code",
   "execution_count": 137,
   "id": "5e4c3664",
   "metadata": {},
   "outputs": [
    {
     "data": {
      "text/plain": [
       "-10.659999999999998"
      ]
     },
     "execution_count": 137,
     "metadata": {},
     "output_type": "execute_result"
    }
   ],
   "source": [
    "13.94-1.5*16.4"
   ]
  },
  {
   "cell_type": "code",
   "execution_count": 138,
   "id": "bcef6534",
   "metadata": {},
   "outputs": [
    {
     "ename": "SyntaxError",
     "evalue": "invalid syntax (503236743.py, line 1)",
     "output_type": "error",
     "traceback": [
      "\u001b[1;36m  Cell \u001b[1;32mIn[138], line 1\u001b[1;36m\u001b[0m\n\u001b[1;33m    maximun whiakwe\u001b[0m\n\u001b[1;37m            ^\u001b[0m\n\u001b[1;31mSyntaxError\u001b[0m\u001b[1;31m:\u001b[0m invalid syntax\n"
     ]
    }
   ],
   "source": [
    "maximun whiakwe"
   ]
  },
  {
   "cell_type": "code",
   "execution_count": 139,
   "id": "e3e4a45f",
   "metadata": {},
   "outputs": [
    {
     "ename": "NameError",
     "evalue": "name 'q3' is not defined",
     "output_type": "error",
     "traceback": [
      "\u001b[1;31m---------------------------------------------------------------------------\u001b[0m",
      "\u001b[1;31mNameError\u001b[0m                                 Traceback (most recent call last)",
      "Cell \u001b[1;32mIn[139], line 1\u001b[0m\n\u001b[1;32m----> 1\u001b[0m \u001b[43mq3\u001b[49m\u001b[38;5;241m+\u001b[39m\u001b[38;5;241m1.5\u001b[39m\u001b[38;5;241m*\u001b[39miqr\n",
      "\u001b[1;31mNameError\u001b[0m: name 'q3' is not defined"
     ]
    }
   ],
   "source": [
    "q3+1.5*iqr"
   ]
  },
  {
   "cell_type": "code",
   "execution_count": 140,
   "id": "c0c58229",
   "metadata": {},
   "outputs": [
    {
     "data": {
      "text/plain": [
       "54.94"
      ]
     },
     "execution_count": 140,
     "metadata": {},
     "output_type": "execute_result"
    }
   ],
   "source": [
    "30.34+1.5*16.4"
   ]
  },
  {
   "cell_type": "code",
   "execution_count": 141,
   "id": "7d38a222",
   "metadata": {},
   "outputs": [
    {
     "name": "stderr",
     "output_type": "stream",
     "text": [
      "C:\\Users\\Vishal\\AppData\\Local\\Temp\\ipykernel_18248\\3555133509.py:1: UserWarning: \n",
      "\n",
      "`distplot` is a deprecated function and will be removed in seaborn v0.14.0.\n",
      "\n",
      "Please adapt your code to use either `displot` (a figure-level function with\n",
      "similar flexibility) or `kdeplot` (an axes-level function for kernel density plots).\n",
      "\n",
      "For a guide to updating your code to use the new functions, please see\n",
      "https://gist.github.com/mwaskom/de44147ed2974457ad6372750bbe5751\n",
      "\n",
      "  sns.distplot(bike_df[\"temp\"],hist=False)\n"
     ]
    },
    {
     "data": {
      "text/plain": [
       "<Axes: xlabel='temp', ylabel='Density'>"
      ]
     },
     "execution_count": 141,
     "metadata": {},
     "output_type": "execute_result"
    },
    {
     "data": {
      "image/png": "[encoded data removed]",
      "text/plain": [
       "<Figure size 640x480 with 1 Axes>"
      ]
     },
     "metadata": {},
     "output_type": "display_data"
    }
   ],
   "source": [
    "sns.distplot(bike_df[\"temp\"],hist=False)"
   ]
  },
  {
   "cell_type": "code",
   "execution_count": 142,
   "id": "d9f0792e",
   "metadata": {},
   "outputs": [
    {
     "data": {
      "text/plain": [
       "<Axes: >"
      ]
     },
     "execution_count": 142,
     "metadata": {},
     "output_type": "execute_result"
    },
    {
     "data": {
      "image/png": "[encoded data removed]",
      "text/plain": [
       "<Figure size 640x480 with 1 Axes>"
      ]
     },
     "metadata": {},
     "output_type": "display_data"
    }
   ],
   "source": [
    "sns.boxplot(bike_df[\"temp\"])"
   ]
  },
  {
   "cell_type": "code",
   "execution_count": 143,
   "id": "8fbec78a",
   "metadata": {},
   "outputs": [],
   "source": [
    "bike_df.drop(bike_df[bike_df['temp']>54.94].index,inplace=True)"
   ]
  },
  {
   "cell_type": "markdown",
   "id": "310791cf",
   "metadata": {},
   "source": [
    "# himidity"
   ]
  },
  {
   "cell_type": "markdown",
   "id": "580758d7",
   "metadata": {},
   "source": [
    "q1"
   ]
  },
  {
   "cell_type": "code",
   "execution_count": 144,
   "id": "324ace88",
   "metadata": {},
   "outputs": [
    {
     "data": {
      "text/plain": [
       "51.0"
      ]
     },
     "execution_count": 144,
     "metadata": {},
     "output_type": "execute_result"
    }
   ],
   "source": [
    "bike_df[\"humidity\"].quantile(0.25)"
   ]
  },
  {
   "cell_type": "markdown",
   "id": "4b4010c7",
   "metadata": {},
   "source": [
    "q2"
   ]
  },
  {
   "cell_type": "code",
   "execution_count": 145,
   "id": "2795233d",
   "metadata": {},
   "outputs": [
    {
     "data": {
      "text/plain": [
       "81.0"
      ]
     },
     "execution_count": 145,
     "metadata": {},
     "output_type": "execute_result"
    }
   ],
   "source": [
    "bike_df[\"humidity\"].quantile(0.75)"
   ]
  },
  {
   "cell_type": "markdown",
   "id": "2340d801",
   "metadata": {},
   "source": [
    "q3"
   ]
  },
  {
   "cell_type": "code",
   "execution_count": null,
   "id": "f0fb892d",
   "metadata": {},
   "outputs": [],
   "source": [
    "bike_df[\"humidity\"].quantile(0.90)"
   ]
  },
  {
   "cell_type": "code",
   "execution_count": null,
   "id": "b83060a4",
   "metadata": {},
   "outputs": [],
   "source": [
    "iqr"
   ]
  },
  {
   "cell_type": "code",
   "execution_count": null,
   "id": "526520d9",
   "metadata": {},
   "outputs": [],
   "source": [
    "88.0-47.0"
   ]
  },
  {
   "cell_type": "code",
   "execution_count": null,
   "id": "8a822295",
   "metadata": {},
   "outputs": [],
   "source": [
    "minimum whisker"
   ]
  },
  {
   "cell_type": "code",
   "execution_count": 77,
   "id": "a479ddd0",
   "metadata": {},
   "outputs": [
    {
     "data": {
      "text/plain": [
       "-14.5"
      ]
     },
     "execution_count": 77,
     "metadata": {},
     "output_type": "execute_result"
    }
   ],
   "source": [
    "47.0-1.5*41.0"
   ]
  },
  {
   "cell_type": "markdown",
   "id": "5e414893",
   "metadata": {},
   "source": [
    "maximum whisker"
   ]
  },
  {
   "cell_type": "code",
   "execution_count": 78,
   "id": "28ac5754",
   "metadata": {},
   "outputs": [
    {
     "data": {
      "text/plain": [
       "149.5"
      ]
     },
     "execution_count": 78,
     "metadata": {},
     "output_type": "execute_result"
    }
   ],
   "source": [
    "88.0+1.5*41.0"
   ]
  },
  {
   "cell_type": "code",
   "execution_count": null,
   "id": "db48f343",
   "metadata": {},
   "outputs": [],
   "source": [
    "sns.distplot(bike_df[\"humidity\"],hist=False)"
   ]
  },
  {
   "cell_type": "code",
   "execution_count": 87,
   "id": "4041b509",
   "metadata": {},
   "outputs": [],
   "source": [
    "bike_df.drop(bike_df[bike_df['humidity']>149.5].index,inplace=True)"
   ]
  },
  {
   "cell_type": "markdown",
   "id": "3b7c00fe",
   "metadata": {},
   "source": []
  },
  {
   "cell_type": "code",
   "execution_count": 76,
   "id": "367daffe",
   "metadata": {},
   "outputs": [
    {
     "data": {
      "text/html": [
       "<div>\n",
       "<style scoped>\n",
       "    .dataframe tbody tr th:only-of-type {\n",
       "        vertical-align: middle;\n",
       "    }\n",
       "\n",
       "    .dataframe tbody tr th {\n",
       "        vertical-align: top;\n",
       "    }\n",
       "\n",
       "    .dataframe thead th {\n",
       "        text-align: right;\n",
       "    }\n",
       "</style>\n",
       "<table border=\"1\" class=\"dataframe\">\n",
       "  <thead>\n",
       "    <tr style=\"text-align: right;\">\n",
       "      <th></th>\n",
       "      <th>datetime</th>\n",
       "      <th>season</th>\n",
       "      <th>holiday</th>\n",
       "      <th>workingday</th>\n",
       "      <th>weather</th>\n",
       "      <th>temp</th>\n",
       "      <th>atemp</th>\n",
       "      <th>humidity</th>\n",
       "      <th>windspeed</th>\n",
       "      <th>casual</th>\n",
       "      <th>registered</th>\n",
       "      <th>count</th>\n",
       "    </tr>\n",
       "  </thead>\n",
       "  <tbody>\n",
       "    <tr>\n",
       "      <th>0</th>\n",
       "      <td>2011-01-01 00:00:00</td>\n",
       "      <td>1</td>\n",
       "      <td>0</td>\n",
       "      <td>0</td>\n",
       "      <td>1</td>\n",
       "      <td>9.84</td>\n",
       "      <td>14.395</td>\n",
       "      <td>81</td>\n",
       "      <td>0.0000</td>\n",
       "      <td>3</td>\n",
       "      <td>13</td>\n",
       "      <td>16</td>\n",
       "    </tr>\n",
       "    <tr>\n",
       "      <th>1</th>\n",
       "      <td>2011-01-01 01:00:00</td>\n",
       "      <td>1</td>\n",
       "      <td>0</td>\n",
       "      <td>0</td>\n",
       "      <td>1</td>\n",
       "      <td>9.02</td>\n",
       "      <td>13.635</td>\n",
       "      <td>80</td>\n",
       "      <td>0.0000</td>\n",
       "      <td>8</td>\n",
       "      <td>32</td>\n",
       "      <td>40</td>\n",
       "    </tr>\n",
       "    <tr>\n",
       "      <th>2</th>\n",
       "      <td>2011-01-01 02:00:00</td>\n",
       "      <td>1</td>\n",
       "      <td>0</td>\n",
       "      <td>0</td>\n",
       "      <td>1</td>\n",
       "      <td>9.02</td>\n",
       "      <td>13.635</td>\n",
       "      <td>80</td>\n",
       "      <td>0.0000</td>\n",
       "      <td>5</td>\n",
       "      <td>27</td>\n",
       "      <td>32</td>\n",
       "    </tr>\n",
       "    <tr>\n",
       "      <th>3</th>\n",
       "      <td>2011-01-01 03:00:00</td>\n",
       "      <td>1</td>\n",
       "      <td>0</td>\n",
       "      <td>0</td>\n",
       "      <td>1</td>\n",
       "      <td>9.84</td>\n",
       "      <td>14.395</td>\n",
       "      <td>75</td>\n",
       "      <td>0.0000</td>\n",
       "      <td>3</td>\n",
       "      <td>10</td>\n",
       "      <td>13</td>\n",
       "    </tr>\n",
       "    <tr>\n",
       "      <th>4</th>\n",
       "      <td>2011-01-01 04:00:00</td>\n",
       "      <td>1</td>\n",
       "      <td>0</td>\n",
       "      <td>0</td>\n",
       "      <td>1</td>\n",
       "      <td>9.84</td>\n",
       "      <td>14.395</td>\n",
       "      <td>75</td>\n",
       "      <td>0.0000</td>\n",
       "      <td>0</td>\n",
       "      <td>1</td>\n",
       "      <td>1</td>\n",
       "    </tr>\n",
       "    <tr>\n",
       "      <th>...</th>\n",
       "      <td>...</td>\n",
       "      <td>...</td>\n",
       "      <td>...</td>\n",
       "      <td>...</td>\n",
       "      <td>...</td>\n",
       "      <td>...</td>\n",
       "      <td>...</td>\n",
       "      <td>...</td>\n",
       "      <td>...</td>\n",
       "      <td>...</td>\n",
       "      <td>...</td>\n",
       "      <td>...</td>\n",
       "    </tr>\n",
       "    <tr>\n",
       "      <th>10881</th>\n",
       "      <td>2012-12-19 19:00:00</td>\n",
       "      <td>4</td>\n",
       "      <td>0</td>\n",
       "      <td>1</td>\n",
       "      <td>1</td>\n",
       "      <td>15.58</td>\n",
       "      <td>19.695</td>\n",
       "      <td>50</td>\n",
       "      <td>26.0027</td>\n",
       "      <td>7</td>\n",
       "      <td>329</td>\n",
       "      <td>336</td>\n",
       "    </tr>\n",
       "    <tr>\n",
       "      <th>10882</th>\n",
       "      <td>2012-12-19 20:00:00</td>\n",
       "      <td>4</td>\n",
       "      <td>0</td>\n",
       "      <td>1</td>\n",
       "      <td>1</td>\n",
       "      <td>14.76</td>\n",
       "      <td>17.425</td>\n",
       "      <td>57</td>\n",
       "      <td>15.0013</td>\n",
       "      <td>10</td>\n",
       "      <td>231</td>\n",
       "      <td>241</td>\n",
       "    </tr>\n",
       "    <tr>\n",
       "      <th>10883</th>\n",
       "      <td>2012-12-19 21:00:00</td>\n",
       "      <td>4</td>\n",
       "      <td>0</td>\n",
       "      <td>1</td>\n",
       "      <td>1</td>\n",
       "      <td>13.94</td>\n",
       "      <td>15.910</td>\n",
       "      <td>61</td>\n",
       "      <td>15.0013</td>\n",
       "      <td>4</td>\n",
       "      <td>164</td>\n",
       "      <td>168</td>\n",
       "    </tr>\n",
       "    <tr>\n",
       "      <th>10884</th>\n",
       "      <td>2012-12-19 22:00:00</td>\n",
       "      <td>4</td>\n",
       "      <td>0</td>\n",
       "      <td>1</td>\n",
       "      <td>1</td>\n",
       "      <td>13.94</td>\n",
       "      <td>17.425</td>\n",
       "      <td>61</td>\n",
       "      <td>6.0032</td>\n",
       "      <td>12</td>\n",
       "      <td>117</td>\n",
       "      <td>129</td>\n",
       "    </tr>\n",
       "    <tr>\n",
       "      <th>10885</th>\n",
       "      <td>2012-12-19 23:00:00</td>\n",
       "      <td>4</td>\n",
       "      <td>0</td>\n",
       "      <td>1</td>\n",
       "      <td>1</td>\n",
       "      <td>13.12</td>\n",
       "      <td>16.665</td>\n",
       "      <td>66</td>\n",
       "      <td>8.9981</td>\n",
       "      <td>4</td>\n",
       "      <td>84</td>\n",
       "      <td>88</td>\n",
       "    </tr>\n",
       "  </tbody>\n",
       "</table>\n",
       "<p>10886 rows × 12 columns</p>\n",
       "</div>"
      ],
      "text/plain": [
       "                  datetime  season  holiday  workingday  weather   temp  \\\n",
       "0      2011-01-01 00:00:00       1        0           0        1   9.84   \n",
       "1      2011-01-01 01:00:00       1        0           0        1   9.02   \n",
       "2      2011-01-01 02:00:00       1        0           0        1   9.02   \n",
       "3      2011-01-01 03:00:00       1        0           0        1   9.84   \n",
       "4      2011-01-01 04:00:00       1        0           0        1   9.84   \n",
       "...                    ...     ...      ...         ...      ...    ...   \n",
       "10881  2012-12-19 19:00:00       4        0           1        1  15.58   \n",
       "10882  2012-12-19 20:00:00       4        0           1        1  14.76   \n",
       "10883  2012-12-19 21:00:00       4        0           1        1  13.94   \n",
       "10884  2012-12-19 22:00:00       4        0           1        1  13.94   \n",
       "10885  2012-12-19 23:00:00       4        0           1        1  13.12   \n",
       "\n",
       "        atemp  humidity  windspeed  casual  registered  count  \n",
       "0      14.395        81     0.0000       3          13     16  \n",
       "1      13.635        80     0.0000       8          32     40  \n",
       "2      13.635        80     0.0000       5          27     32  \n",
       "3      14.395        75     0.0000       3          10     13  \n",
       "4      14.395        75     0.0000       0           1      1  \n",
       "...       ...       ...        ...     ...         ...    ...  \n",
       "10881  19.695        50    26.0027       7         329    336  \n",
       "10882  17.425        57    15.0013      10         231    241  \n",
       "10883  15.910        61    15.0013       4         164    168  \n",
       "10884  17.425        61     6.0032      12         117    129  \n",
       "10885  16.665        66     8.9981       4          84     88  \n",
       "\n",
       "[10886 rows x 12 columns]"
      ]
     },
     "execution_count": 76,
     "metadata": {},
     "output_type": "execute_result"
    }
   ],
   "source": [
    "bike_df"
   ]
  },
  {
   "cell_type": "markdown",
   "id": "d92af406",
   "metadata": {},
   "source": [
    "# windspeed"
   ]
  },
  {
   "cell_type": "markdown",
   "id": "ed0fb128",
   "metadata": {},
   "source": [
    "q1"
   ]
  },
  {
   "cell_type": "code",
   "execution_count": 79,
   "id": "b356f0ef",
   "metadata": {},
   "outputs": [
    {
     "data": {
      "text/plain": [
       "7.0015"
      ]
     },
     "execution_count": 79,
     "metadata": {},
     "output_type": "execute_result"
    }
   ],
   "source": [
    "bike_df[\"windspeed\"].quantile(0.25)"
   ]
  },
  {
   "cell_type": "markdown",
   "id": "66d732e7",
   "metadata": {},
   "source": [
    "q2"
   ]
  },
  {
   "cell_type": "code",
   "execution_count": 80,
   "id": "06c2fb58",
   "metadata": {},
   "outputs": [
    {
     "data": {
      "text/plain": [
       "16.9979"
      ]
     },
     "execution_count": 80,
     "metadata": {},
     "output_type": "execute_result"
    }
   ],
   "source": [
    "bike_df[\"windspeed\"].quantile(0.75)"
   ]
  },
  {
   "cell_type": "markdown",
   "id": "0b8324e8",
   "metadata": {},
   "source": [
    "q3"
   ]
  },
  {
   "cell_type": "code",
   "execution_count": 81,
   "id": "ce8610ea",
   "metadata": {},
   "outputs": [
    {
     "data": {
      "text/plain": [
       "23.9994"
      ]
     },
     "execution_count": 81,
     "metadata": {},
     "output_type": "execute_result"
    }
   ],
   "source": [
    "bike_df[\"windspeed\"].quantile(0.90)"
   ]
  },
  {
   "cell_type": "markdown",
   "id": "99202a71",
   "metadata": {},
   "source": [
    "iqr"
   ]
  },
  {
   "cell_type": "code",
   "execution_count": 84,
   "id": "722fe826",
   "metadata": {},
   "outputs": [
    {
     "data": {
      "text/plain": [
       "16.9925"
      ]
     },
     "execution_count": 84,
     "metadata": {},
     "output_type": "execute_result"
    }
   ],
   "source": [
    "23.994-7.0015"
   ]
  },
  {
   "cell_type": "markdown",
   "id": "82fc929f",
   "metadata": {},
   "source": [
    "minumum whisker"
   ]
  },
  {
   "cell_type": "code",
   "execution_count": 85,
   "id": "397d363d",
   "metadata": {},
   "outputs": [
    {
     "data": {
      "text/plain": [
       "-18.48725"
      ]
     },
     "execution_count": 85,
     "metadata": {},
     "output_type": "execute_result"
    }
   ],
   "source": [
    "7.0015-1.5*16.9925"
   ]
  },
  {
   "cell_type": "code",
   "execution_count": null,
   "id": "53856861",
   "metadata": {},
   "outputs": [],
   "source": [
    "maximum whisker"
   ]
  },
  {
   "cell_type": "code",
   "execution_count": 86,
   "id": "5888ac2f",
   "metadata": {},
   "outputs": [
    {
     "data": {
      "text/plain": [
       "49.482749999999996"
      ]
     },
     "execution_count": 86,
     "metadata": {},
     "output_type": "execute_result"
    }
   ],
   "source": [
    "23.994+1.5*16.9925"
   ]
  },
  {
   "cell_type": "code",
   "execution_count": 88,
   "id": "5f45d43b",
   "metadata": {},
   "outputs": [],
   "source": [
    "bike_df.drop(bike_df[bike_df['windspeed']>49.482].index,inplace=True)"
   ]
  },
  {
   "cell_type": "code",
   "execution_count": 89,
   "id": "327b1526",
   "metadata": {},
   "outputs": [
    {
     "name": "stderr",
     "output_type": "stream",
     "text": [
      "C:\\Users\\Vishal\\AppData\\Local\\Temp\\ipykernel_18248\\3531367501.py:1: UserWarning: \n",
      "\n",
      "`distplot` is a deprecated function and will be removed in seaborn v0.14.0.\n",
      "\n",
      "Please adapt your code to use either `displot` (a figure-level function with\n",
      "similar flexibility) or `kdeplot` (an axes-level function for kernel density plots).\n",
      "\n",
      "For a guide to updating your code to use the new functions, please see\n",
      "https://gist.github.com/mwaskom/de44147ed2974457ad6372750bbe5751\n",
      "\n",
      "  sns.distplot(bike_df[\"windspeed\"],hist=False)\n"
     ]
    },
    {
     "data": {
      "text/plain": [
       "<Axes: xlabel='windspeed', ylabel='Density'>"
      ]
     },
     "execution_count": 89,
     "metadata": {},
     "output_type": "execute_result"
    },
    {
     "data": {
      "image/png": "[encoded data removed]",
      "text/plain": [
       "<Figure size 640x480 with 1 Axes>"
      ]
     },
     "metadata": {},
     "output_type": "display_data"
    }
   ],
   "source": [
    "sns.distplot(bike_df[\"windspeed\"],hist=False)"
   ]
  },
  {
   "cell_type": "markdown",
   "id": "2a9b52f0",
   "metadata": {},
   "source": [
    "# casual"
   ]
  },
  {
   "cell_type": "markdown",
   "id": "9513f640",
   "metadata": {},
   "source": [
    "q1"
   ]
  },
  {
   "cell_type": "code",
   "execution_count": 90,
   "id": "01939ecf",
   "metadata": {},
   "outputs": [
    {
     "data": {
      "text/plain": [
       "4.0"
      ]
     },
     "execution_count": 90,
     "metadata": {},
     "output_type": "execute_result"
    }
   ],
   "source": [
    "bike_df[\"casual\"].quantile(0.25)"
   ]
  },
  {
   "cell_type": "code",
   "execution_count": null,
   "id": "46d80364",
   "metadata": {},
   "outputs": [],
   "source": []
  },
  {
   "cell_type": "code",
   "execution_count": null,
   "id": "6f30430e",
   "metadata": {},
   "outputs": [],
   "source": [
    "q2"
   ]
  },
  {
   "cell_type": "code",
   "execution_count": 93,
   "id": "27fa5cda",
   "metadata": {},
   "outputs": [
    {
     "data": {
      "text/plain": [
       "49.0"
      ]
     },
     "execution_count": 93,
     "metadata": {},
     "output_type": "execute_result"
    }
   ],
   "source": [
    "bike_df[\"casual\"].quantile(0.75)"
   ]
  },
  {
   "cell_type": "markdown",
   "id": "0c16d85a",
   "metadata": {},
   "source": [
    "q3"
   ]
  },
  {
   "cell_type": "code",
   "execution_count": 94,
   "id": "1461e13f",
   "metadata": {},
   "outputs": [
    {
     "data": {
      "text/plain": [
       "94.0"
      ]
     },
     "execution_count": 94,
     "metadata": {},
     "output_type": "execute_result"
    }
   ],
   "source": [
    "bike_df[\"casual\"].quantile(0.90)"
   ]
  },
  {
   "cell_type": "markdown",
   "id": "94b9abaf",
   "metadata": {},
   "source": [
    "iqr"
   ]
  },
  {
   "cell_type": "code",
   "execution_count": 95,
   "id": "087c6680",
   "metadata": {},
   "outputs": [
    {
     "data": {
      "text/plain": [
       "90.0"
      ]
     },
     "execution_count": 95,
     "metadata": {},
     "output_type": "execute_result"
    }
   ],
   "source": [
    "94.0-4.0"
   ]
  },
  {
   "cell_type": "code",
   "execution_count": null,
   "id": "41761664",
   "metadata": {},
   "outputs": [],
   "source": [
    "minimum whisker"
   ]
  },
  {
   "cell_type": "code",
   "execution_count": 96,
   "id": "2e250511",
   "metadata": {},
   "outputs": [
    {
     "data": {
      "text/plain": [
       "-131.0"
      ]
     },
     "execution_count": 96,
     "metadata": {},
     "output_type": "execute_result"
    }
   ],
   "source": [
    "4.0-1.5*90.0"
   ]
  },
  {
   "cell_type": "code",
   "execution_count": 98,
   "id": "7b821951",
   "metadata": {},
   "outputs": [],
   "source": [
    "maximum whisker"
   ]
  },
  {
   "cell_type": "code",
   "execution_count": 99,
   "id": "deb8a075",
   "metadata": {},
   "outputs": [
    {
     "data": {
      "text/plain": [
       "229.0"
      ]
     },
     "execution_count": 99,
     "metadata": {},
     "output_type": "execute_result"
    }
   ],
   "source": [
    "94.0+1.5*90.0"
   ]
  },
  {
   "cell_type": "code",
   "execution_count": 105,
   "id": "e92e00f2",
   "metadata": {},
   "outputs": [],
   "source": [
    "bike_df.drop(bike_df[bike_df['casual']>229.0].index,inplace=True)"
   ]
  },
  {
   "cell_type": "code",
   "execution_count": 108,
   "id": "59b21b98",
   "metadata": {},
   "outputs": [
    {
     "data": {
      "text/html": [
       "<div>\n",
       "<style scoped>\n",
       "    .dataframe tbody tr th:only-of-type {\n",
       "        vertical-align: middle;\n",
       "    }\n",
       "\n",
       "    .dataframe tbody tr th {\n",
       "        vertical-align: top;\n",
       "    }\n",
       "\n",
       "    .dataframe thead th {\n",
       "        text-align: right;\n",
       "    }\n",
       "</style>\n",
       "<table border=\"1\" class=\"dataframe\">\n",
       "  <thead>\n",
       "    <tr style=\"text-align: right;\">\n",
       "      <th></th>\n",
       "      <th>datetime</th>\n",
       "      <th>season</th>\n",
       "      <th>holiday</th>\n",
       "      <th>workingday</th>\n",
       "      <th>weather</th>\n",
       "      <th>temp</th>\n",
       "      <th>atemp</th>\n",
       "      <th>humidity</th>\n",
       "      <th>windspeed</th>\n",
       "      <th>casual</th>\n",
       "      <th>registered</th>\n",
       "      <th>count</th>\n",
       "    </tr>\n",
       "  </thead>\n",
       "  <tbody>\n",
       "    <tr>\n",
       "      <th>0</th>\n",
       "      <td>2011-01-01 00:00:00</td>\n",
       "      <td>1</td>\n",
       "      <td>0</td>\n",
       "      <td>0</td>\n",
       "      <td>1</td>\n",
       "      <td>9.84</td>\n",
       "      <td>14.395</td>\n",
       "      <td>81</td>\n",
       "      <td>0.0000</td>\n",
       "      <td>3</td>\n",
       "      <td>13</td>\n",
       "      <td>16</td>\n",
       "    </tr>\n",
       "    <tr>\n",
       "      <th>1</th>\n",
       "      <td>2011-01-01 01:00:00</td>\n",
       "      <td>1</td>\n",
       "      <td>0</td>\n",
       "      <td>0</td>\n",
       "      <td>1</td>\n",
       "      <td>9.02</td>\n",
       "      <td>13.635</td>\n",
       "      <td>80</td>\n",
       "      <td>0.0000</td>\n",
       "      <td>8</td>\n",
       "      <td>32</td>\n",
       "      <td>40</td>\n",
       "    </tr>\n",
       "    <tr>\n",
       "      <th>2</th>\n",
       "      <td>2011-01-01 02:00:00</td>\n",
       "      <td>1</td>\n",
       "      <td>0</td>\n",
       "      <td>0</td>\n",
       "      <td>1</td>\n",
       "      <td>9.02</td>\n",
       "      <td>13.635</td>\n",
       "      <td>80</td>\n",
       "      <td>0.0000</td>\n",
       "      <td>5</td>\n",
       "      <td>27</td>\n",
       "      <td>32</td>\n",
       "    </tr>\n",
       "    <tr>\n",
       "      <th>3</th>\n",
       "      <td>2011-01-01 03:00:00</td>\n",
       "      <td>1</td>\n",
       "      <td>0</td>\n",
       "      <td>0</td>\n",
       "      <td>1</td>\n",
       "      <td>9.84</td>\n",
       "      <td>14.395</td>\n",
       "      <td>75</td>\n",
       "      <td>0.0000</td>\n",
       "      <td>3</td>\n",
       "      <td>10</td>\n",
       "      <td>13</td>\n",
       "    </tr>\n",
       "    <tr>\n",
       "      <th>4</th>\n",
       "      <td>2011-01-01 04:00:00</td>\n",
       "      <td>1</td>\n",
       "      <td>0</td>\n",
       "      <td>0</td>\n",
       "      <td>1</td>\n",
       "      <td>9.84</td>\n",
       "      <td>14.395</td>\n",
       "      <td>75</td>\n",
       "      <td>0.0000</td>\n",
       "      <td>0</td>\n",
       "      <td>1</td>\n",
       "      <td>1</td>\n",
       "    </tr>\n",
       "    <tr>\n",
       "      <th>...</th>\n",
       "      <td>...</td>\n",
       "      <td>...</td>\n",
       "      <td>...</td>\n",
       "      <td>...</td>\n",
       "      <td>...</td>\n",
       "      <td>...</td>\n",
       "      <td>...</td>\n",
       "      <td>...</td>\n",
       "      <td>...</td>\n",
       "      <td>...</td>\n",
       "      <td>...</td>\n",
       "      <td>...</td>\n",
       "    </tr>\n",
       "    <tr>\n",
       "      <th>10881</th>\n",
       "      <td>2012-12-19 19:00:00</td>\n",
       "      <td>4</td>\n",
       "      <td>0</td>\n",
       "      <td>1</td>\n",
       "      <td>1</td>\n",
       "      <td>15.58</td>\n",
       "      <td>19.695</td>\n",
       "      <td>50</td>\n",
       "      <td>26.0027</td>\n",
       "      <td>7</td>\n",
       "      <td>329</td>\n",
       "      <td>336</td>\n",
       "    </tr>\n",
       "    <tr>\n",
       "      <th>10882</th>\n",
       "      <td>2012-12-19 20:00:00</td>\n",
       "      <td>4</td>\n",
       "      <td>0</td>\n",
       "      <td>1</td>\n",
       "      <td>1</td>\n",
       "      <td>14.76</td>\n",
       "      <td>17.425</td>\n",
       "      <td>57</td>\n",
       "      <td>15.0013</td>\n",
       "      <td>10</td>\n",
       "      <td>231</td>\n",
       "      <td>241</td>\n",
       "    </tr>\n",
       "    <tr>\n",
       "      <th>10883</th>\n",
       "      <td>2012-12-19 21:00:00</td>\n",
       "      <td>4</td>\n",
       "      <td>0</td>\n",
       "      <td>1</td>\n",
       "      <td>1</td>\n",
       "      <td>13.94</td>\n",
       "      <td>15.910</td>\n",
       "      <td>61</td>\n",
       "      <td>15.0013</td>\n",
       "      <td>4</td>\n",
       "      <td>164</td>\n",
       "      <td>168</td>\n",
       "    </tr>\n",
       "    <tr>\n",
       "      <th>10884</th>\n",
       "      <td>2012-12-19 22:00:00</td>\n",
       "      <td>4</td>\n",
       "      <td>0</td>\n",
       "      <td>1</td>\n",
       "      <td>1</td>\n",
       "      <td>13.94</td>\n",
       "      <td>17.425</td>\n",
       "      <td>61</td>\n",
       "      <td>6.0032</td>\n",
       "      <td>12</td>\n",
       "      <td>117</td>\n",
       "      <td>129</td>\n",
       "    </tr>\n",
       "    <tr>\n",
       "      <th>10885</th>\n",
       "      <td>2012-12-19 23:00:00</td>\n",
       "      <td>4</td>\n",
       "      <td>0</td>\n",
       "      <td>1</td>\n",
       "      <td>1</td>\n",
       "      <td>13.12</td>\n",
       "      <td>16.665</td>\n",
       "      <td>66</td>\n",
       "      <td>8.9981</td>\n",
       "      <td>4</td>\n",
       "      <td>84</td>\n",
       "      <td>88</td>\n",
       "    </tr>\n",
       "  </tbody>\n",
       "</table>\n",
       "<p>8209 rows × 12 columns</p>\n",
       "</div>"
      ],
      "text/plain": [
       "                  datetime  season  holiday  workingday  weather   temp  \\\n",
       "0      2011-01-01 00:00:00       1        0           0        1   9.84   \n",
       "1      2011-01-01 01:00:00       1        0           0        1   9.02   \n",
       "2      2011-01-01 02:00:00       1        0           0        1   9.02   \n",
       "3      2011-01-01 03:00:00       1        0           0        1   9.84   \n",
       "4      2011-01-01 04:00:00       1        0           0        1   9.84   \n",
       "...                    ...     ...      ...         ...      ...    ...   \n",
       "10881  2012-12-19 19:00:00       4        0           1        1  15.58   \n",
       "10882  2012-12-19 20:00:00       4        0           1        1  14.76   \n",
       "10883  2012-12-19 21:00:00       4        0           1        1  13.94   \n",
       "10884  2012-12-19 22:00:00       4        0           1        1  13.94   \n",
       "10885  2012-12-19 23:00:00       4        0           1        1  13.12   \n",
       "\n",
       "        atemp  humidity  windspeed  casual  registered  count  \n",
       "0      14.395        81     0.0000       3          13     16  \n",
       "1      13.635        80     0.0000       8          32     40  \n",
       "2      13.635        80     0.0000       5          27     32  \n",
       "3      14.395        75     0.0000       3          10     13  \n",
       "4      14.395        75     0.0000       0           1      1  \n",
       "...       ...       ...        ...     ...         ...    ...  \n",
       "10881  19.695        50    26.0027       7         329    336  \n",
       "10882  17.425        57    15.0013      10         231    241  \n",
       "10883  15.910        61    15.0013       4         164    168  \n",
       "10884  17.425        61     6.0032      12         117    129  \n",
       "10885  16.665        66     8.9981       4          84     88  \n",
       "\n",
       "[8209 rows x 12 columns]"
      ]
     },
     "execution_count": 108,
     "metadata": {},
     "output_type": "execute_result"
    }
   ],
   "source": [
    "bike_df"
   ]
  },
  {
   "cell_type": "code",
   "execution_count": 111,
   "id": "f0f0154d",
   "metadata": {},
   "outputs": [
    {
     "data": {
      "text/html": [
       "<div>\n",
       "<style scoped>\n",
       "    .dataframe tbody tr th:only-of-type {\n",
       "        vertical-align: middle;\n",
       "    }\n",
       "\n",
       "    .dataframe tbody tr th {\n",
       "        vertical-align: top;\n",
       "    }\n",
       "\n",
       "    .dataframe thead th {\n",
       "        text-align: right;\n",
       "    }\n",
       "</style>\n",
       "<table border=\"1\" class=\"dataframe\">\n",
       "  <thead>\n",
       "    <tr style=\"text-align: right;\">\n",
       "      <th></th>\n",
       "      <th>casual</th>\n",
       "    </tr>\n",
       "  </thead>\n",
       "  <tbody>\n",
       "    <tr>\n",
       "      <th>100</th>\n",
       "      <td>6</td>\n",
       "    </tr>\n",
       "    <tr>\n",
       "      <th>101</th>\n",
       "      <td>4</td>\n",
       "    </tr>\n",
       "    <tr>\n",
       "      <th>102</th>\n",
       "      <td>12</td>\n",
       "    </tr>\n",
       "    <tr>\n",
       "      <th>103</th>\n",
       "      <td>5</td>\n",
       "    </tr>\n",
       "    <tr>\n",
       "      <th>104</th>\n",
       "      <td>6</td>\n",
       "    </tr>\n",
       "    <tr>\n",
       "      <th>...</th>\n",
       "      <td>...</td>\n",
       "    </tr>\n",
       "    <tr>\n",
       "      <th>496</th>\n",
       "      <td>4</td>\n",
       "    </tr>\n",
       "    <tr>\n",
       "      <th>497</th>\n",
       "      <td>1</td>\n",
       "    </tr>\n",
       "    <tr>\n",
       "      <th>498</th>\n",
       "      <td>1</td>\n",
       "    </tr>\n",
       "    <tr>\n",
       "      <th>499</th>\n",
       "      <td>2</td>\n",
       "    </tr>\n",
       "    <tr>\n",
       "      <th>500</th>\n",
       "      <td>4</td>\n",
       "    </tr>\n",
       "  </tbody>\n",
       "</table>\n",
       "<p>401 rows × 1 columns</p>\n",
       "</div>"
      ],
      "text/plain": [
       "     casual\n",
       "100       6\n",
       "101       4\n",
       "102      12\n",
       "103       5\n",
       "104       6\n",
       "..      ...\n",
       "496       4\n",
       "497       1\n",
       "498       1\n",
       "499       2\n",
       "500       4\n",
       "\n",
       "[401 rows x 1 columns]"
      ]
     },
     "execution_count": 111,
     "metadata": {},
     "output_type": "execute_result"
    }
   ],
   "source": [
    "bike_df.loc[100:500,[\"casual\"]]"
   ]
  },
  {
   "cell_type": "code",
   "execution_count": 112,
   "id": "86058c94",
   "metadata": {},
   "outputs": [
    {
     "name": "stderr",
     "output_type": "stream",
     "text": [
      "C:\\Users\\Vishal\\AppData\\Local\\Temp\\ipykernel_18248\\3846652931.py:1: UserWarning: \n",
      "\n",
      "`distplot` is a deprecated function and will be removed in seaborn v0.14.0.\n",
      "\n",
      "Please adapt your code to use either `displot` (a figure-level function with\n",
      "similar flexibility) or `kdeplot` (an axes-level function for kernel density plots).\n",
      "\n",
      "For a guide to updating your code to use the new functions, please see\n",
      "https://gist.github.com/mwaskom/de44147ed2974457ad6372750bbe5751\n",
      "\n",
      "  sns.distplot(bike_df[\"casual\"],hist=False)\n"
     ]
    },
    {
     "data": {
      "text/plain": [
       "<Axes: xlabel='casual', ylabel='Density'>"
      ]
     },
     "execution_count": 112,
     "metadata": {},
     "output_type": "execute_result"
    },
    {
     "data": {
      "image/png": "[encoded data removed]",
      "text/plain": [
       "<Figure size 640x480 with 1 Axes>"
      ]
     },
     "metadata": {},
     "output_type": "display_data"
    }
   ],
   "source": [
    "sns.distplot(bike_df[\"casual\"],hist=False)"
   ]
  },
  {
   "cell_type": "markdown",
   "id": "41f531ae",
   "metadata": {},
   "source": [
    "# registered"
   ]
  },
  {
   "cell_type": "markdown",
   "id": "b624965e",
   "metadata": {},
   "source": [
    "q1"
   ]
  },
  {
   "cell_type": "code",
   "execution_count": 113,
   "id": "75e8272c",
   "metadata": {},
   "outputs": [
    {
     "data": {
      "text/plain": [
       "21.0"
      ]
     },
     "execution_count": 113,
     "metadata": {},
     "output_type": "execute_result"
    }
   ],
   "source": [
    "bike_df[\"registered\"].quantile(0.25)"
   ]
  },
  {
   "cell_type": "markdown",
   "id": "3881c1c6",
   "metadata": {},
   "source": [
    "q2"
   ]
  },
  {
   "cell_type": "code",
   "execution_count": 114,
   "id": "74b3d11a",
   "metadata": {},
   "outputs": [
    {
     "data": {
      "text/plain": [
       "157.0"
      ]
     },
     "execution_count": 114,
     "metadata": {},
     "output_type": "execute_result"
    }
   ],
   "source": [
    "bike_df[\"registered\"].quantile(0.75)"
   ]
  },
  {
   "cell_type": "markdown",
   "id": "8cd7d0f9",
   "metadata": {},
   "source": [
    "q3"
   ]
  },
  {
   "cell_type": "code",
   "execution_count": 115,
   "id": "53e9fd51",
   "metadata": {},
   "outputs": [
    {
     "data": {
      "text/plain": [
       "276.0"
      ]
     },
     "execution_count": 115,
     "metadata": {},
     "output_type": "execute_result"
    }
   ],
   "source": [
    "bike_df[\"registered\"].quantile(0.90)"
   ]
  },
  {
   "cell_type": "markdown",
   "id": "1f65b510",
   "metadata": {},
   "source": [
    "iqr"
   ]
  },
  {
   "cell_type": "code",
   "execution_count": 116,
   "id": "fea89e16",
   "metadata": {},
   "outputs": [
    {
     "data": {
      "text/plain": [
       "255.0"
      ]
     },
     "execution_count": 116,
     "metadata": {},
     "output_type": "execute_result"
    }
   ],
   "source": [
    "276.0-21.0"
   ]
  },
  {
   "cell_type": "markdown",
   "id": "310a5d39",
   "metadata": {},
   "source": [
    "minimum whisker"
   ]
  },
  {
   "cell_type": "code",
   "execution_count": 117,
   "id": "cb3a44b4",
   "metadata": {},
   "outputs": [
    {
     "data": {
      "text/plain": [
       "-361.5"
      ]
     },
     "execution_count": 117,
     "metadata": {},
     "output_type": "execute_result"
    }
   ],
   "source": [
    "21.0-1.5*255.0"
   ]
  },
  {
   "cell_type": "markdown",
   "id": "de55e894",
   "metadata": {},
   "source": [
    "maximum whisker"
   ]
  },
  {
   "cell_type": "code",
   "execution_count": 118,
   "id": "50a5779e",
   "metadata": {},
   "outputs": [
    {
     "data": {
      "text/plain": [
       "658.5"
      ]
     },
     "execution_count": 118,
     "metadata": {},
     "output_type": "execute_result"
    }
   ],
   "source": [
    "276.0+1.5*255.0"
   ]
  },
  {
   "cell_type": "code",
   "execution_count": 119,
   "id": "28959247",
   "metadata": {},
   "outputs": [],
   "source": [
    "bike_df.drop(bike_df[bike_df['registered']>658.5].index,inplace=True)"
   ]
  },
  {
   "cell_type": "code",
   "execution_count": 120,
   "id": "3dffb60d",
   "metadata": {},
   "outputs": [
    {
     "name": "stderr",
     "output_type": "stream",
     "text": [
      "C:\\Users\\Vishal\\AppData\\Local\\Temp\\ipykernel_18248\\2366625780.py:1: UserWarning: \n",
      "\n",
      "`distplot` is a deprecated function and will be removed in seaborn v0.14.0.\n",
      "\n",
      "Please adapt your code to use either `displot` (a figure-level function with\n",
      "similar flexibility) or `kdeplot` (an axes-level function for kernel density plots).\n",
      "\n",
      "For a guide to updating your code to use the new functions, please see\n",
      "https://gist.github.com/mwaskom/de44147ed2974457ad6372750bbe5751\n",
      "\n",
      "  sns.distplot(bike_df[\"registered\"],hist=False)\n"
     ]
    },
    {
     "data": {
      "text/plain": [
       "<Axes: xlabel='registered', ylabel='Density'>"
      ]
     },
     "execution_count": 120,
     "metadata": {},
     "output_type": "execute_result"
    },
    {
     "data": {
      "image/png": "[encoded data removed]",
      "text/plain": [
       "<Figure size 640x480 with 1 Axes>"
      ]
     },
     "metadata": {},
     "output_type": "display_data"
    }
   ],
   "source": [
    "sns.distplot(bike_df[\"registered\"],hist=False)"
   ]
  },
  {
   "cell_type": "markdown",
   "id": "6a01aaa5",
   "metadata": {},
   "source": [
    "# count"
   ]
  },
  {
   "cell_type": "code",
   "execution_count": null,
   "id": "c72d377d",
   "metadata": {},
   "outputs": [],
   "source": [
    "q1"
   ]
  },
  {
   "cell_type": "code",
   "execution_count": 121,
   "id": "07faaf93",
   "metadata": {},
   "outputs": [
    {
     "data": {
      "text/plain": [
       "24.0"
      ]
     },
     "execution_count": 121,
     "metadata": {},
     "output_type": "execute_result"
    }
   ],
   "source": [
    "bike_df[\"count\"].quantile(0.25)"
   ]
  },
  {
   "cell_type": "markdown",
   "id": "329a02aa",
   "metadata": {},
   "source": [
    "q2"
   ]
  },
  {
   "cell_type": "code",
   "execution_count": 122,
   "id": "d5c07219",
   "metadata": {},
   "outputs": [
    {
     "data": {
      "text/plain": [
       "179.0"
      ]
     },
     "execution_count": 122,
     "metadata": {},
     "output_type": "execute_result"
    }
   ],
   "source": [
    "bike_df[\"count\"].quantile(0.75)"
   ]
  },
  {
   "cell_type": "markdown",
   "id": "1087f260",
   "metadata": {},
   "source": [
    "q3"
   ]
  },
  {
   "cell_type": "code",
   "execution_count": 123,
   "id": "74755d4d",
   "metadata": {},
   "outputs": [
    {
     "data": {
      "text/plain": [
       "292.0"
      ]
     },
     "execution_count": 123,
     "metadata": {},
     "output_type": "execute_result"
    }
   ],
   "source": [
    "bike_df[\"count\"].quantile(0.90)"
   ]
  },
  {
   "cell_type": "markdown",
   "id": "ac148d58",
   "metadata": {},
   "source": [
    "iqr"
   ]
  },
  {
   "cell_type": "code",
   "execution_count": 124,
   "id": "94b7c415",
   "metadata": {},
   "outputs": [
    {
     "data": {
      "text/plain": [
       "268.0"
      ]
     },
     "execution_count": 124,
     "metadata": {},
     "output_type": "execute_result"
    }
   ],
   "source": [
    "292.0-24.0"
   ]
  },
  {
   "cell_type": "markdown",
   "id": "22052903",
   "metadata": {},
   "source": [
    "minimum whisker"
   ]
  },
  {
   "cell_type": "code",
   "execution_count": 125,
   "id": "162c1424",
   "metadata": {},
   "outputs": [
    {
     "data": {
      "text/plain": [
       "-378.0"
      ]
     },
     "execution_count": 125,
     "metadata": {},
     "output_type": "execute_result"
    }
   ],
   "source": [
    "24.0-1.5*268.0"
   ]
  },
  {
   "cell_type": "markdown",
   "id": "d3b3c2e6",
   "metadata": {},
   "source": [
    "maximum whisker"
   ]
  },
  {
   "cell_type": "code",
   "execution_count": 126,
   "id": "8a03ca50",
   "metadata": {},
   "outputs": [
    {
     "data": {
      "text/plain": [
       "694.0"
      ]
     },
     "execution_count": 126,
     "metadata": {},
     "output_type": "execute_result"
    }
   ],
   "source": [
    "292.0+1.5*268.0"
   ]
  },
  {
   "cell_type": "code",
   "execution_count": 127,
   "id": "e425215b",
   "metadata": {},
   "outputs": [],
   "source": [
    "bike_df.drop(bike_df[bike_df['count']>694.0].index,inplace=True)"
   ]
  },
  {
   "cell_type": "code",
   "execution_count": 128,
   "id": "eaae66ca",
   "metadata": {},
   "outputs": [
    {
     "name": "stderr",
     "output_type": "stream",
     "text": [
      "C:\\Users\\Vishal\\AppData\\Local\\Temp\\ipykernel_18248\\4019455891.py:1: UserWarning: \n",
      "\n",
      "`distplot` is a deprecated function and will be removed in seaborn v0.14.0.\n",
      "\n",
      "Please adapt your code to use either `displot` (a figure-level function with\n",
      "similar flexibility) or `kdeplot` (an axes-level function for kernel density plots).\n",
      "\n",
      "For a guide to updating your code to use the new functions, please see\n",
      "https://gist.github.com/mwaskom/de44147ed2974457ad6372750bbe5751\n",
      "\n",
      "  sns.distplot(bike_df[\"count\"],hist=False)\n"
     ]
    },
    {
     "data": {
      "text/plain": [
       "<Axes: xlabel='count', ylabel='Density'>"
      ]
     },
     "execution_count": 128,
     "metadata": {},
     "output_type": "execute_result"
    },
    {
     "data": {
      "image/png": "[encoded data removed]",
      "text/plain": [
       "<Figure size 640x480 with 1 Axes>"
      ]
     },
     "metadata": {},
     "output_type": "display_data"
    }
   ],
   "source": [
    "sns.distplot(bike_df[\"count\"],hist=False)"
   ]
  },
  {
   "cell_type": "code",
   "execution_count": null,
   "id": "79a959cb",
   "metadata": {},
   "outputs": [],
   "source": [
    "all are in binaty so no need of one hot encoding"
   ]
  },
  {
   "cell_type": "code",
   "execution_count": 129,
   "id": "04bcfbfc",
   "metadata": {},
   "outputs": [
    {
     "data": {
      "text/html": [
       "<div>\n",
       "<style scoped>\n",
       "    .dataframe tbody tr th:only-of-type {\n",
       "        vertical-align: middle;\n",
       "    }\n",
       "\n",
       "    .dataframe tbody tr th {\n",
       "        vertical-align: top;\n",
       "    }\n",
       "\n",
       "    .dataframe thead th {\n",
       "        text-align: right;\n",
       "    }\n",
       "</style>\n",
       "<table border=\"1\" class=\"dataframe\">\n",
       "  <thead>\n",
       "    <tr style=\"text-align: right;\">\n",
       "      <th></th>\n",
       "      <th>datetime</th>\n",
       "      <th>season</th>\n",
       "      <th>holiday</th>\n",
       "      <th>workingday</th>\n",
       "      <th>weather</th>\n",
       "      <th>temp</th>\n",
       "      <th>atemp</th>\n",
       "      <th>humidity</th>\n",
       "      <th>windspeed</th>\n",
       "      <th>casual</th>\n",
       "      <th>registered</th>\n",
       "      <th>count</th>\n",
       "    </tr>\n",
       "  </thead>\n",
       "  <tbody>\n",
       "    <tr>\n",
       "      <th>0</th>\n",
       "      <td>2011-01-01 00:00:00</td>\n",
       "      <td>1</td>\n",
       "      <td>0</td>\n",
       "      <td>0</td>\n",
       "      <td>1</td>\n",
       "      <td>9.84</td>\n",
       "      <td>14.395</td>\n",
       "      <td>81</td>\n",
       "      <td>0.0000</td>\n",
       "      <td>3</td>\n",
       "      <td>13</td>\n",
       "      <td>16</td>\n",
       "    </tr>\n",
       "    <tr>\n",
       "      <th>1</th>\n",
       "      <td>2011-01-01 01:00:00</td>\n",
       "      <td>1</td>\n",
       "      <td>0</td>\n",
       "      <td>0</td>\n",
       "      <td>1</td>\n",
       "      <td>9.02</td>\n",
       "      <td>13.635</td>\n",
       "      <td>80</td>\n",
       "      <td>0.0000</td>\n",
       "      <td>8</td>\n",
       "      <td>32</td>\n",
       "      <td>40</td>\n",
       "    </tr>\n",
       "    <tr>\n",
       "      <th>2</th>\n",
       "      <td>2011-01-01 02:00:00</td>\n",
       "      <td>1</td>\n",
       "      <td>0</td>\n",
       "      <td>0</td>\n",
       "      <td>1</td>\n",
       "      <td>9.02</td>\n",
       "      <td>13.635</td>\n",
       "      <td>80</td>\n",
       "      <td>0.0000</td>\n",
       "      <td>5</td>\n",
       "      <td>27</td>\n",
       "      <td>32</td>\n",
       "    </tr>\n",
       "    <tr>\n",
       "      <th>3</th>\n",
       "      <td>2011-01-01 03:00:00</td>\n",
       "      <td>1</td>\n",
       "      <td>0</td>\n",
       "      <td>0</td>\n",
       "      <td>1</td>\n",
       "      <td>9.84</td>\n",
       "      <td>14.395</td>\n",
       "      <td>75</td>\n",
       "      <td>0.0000</td>\n",
       "      <td>3</td>\n",
       "      <td>10</td>\n",
       "      <td>13</td>\n",
       "    </tr>\n",
       "    <tr>\n",
       "      <th>4</th>\n",
       "      <td>2011-01-01 04:00:00</td>\n",
       "      <td>1</td>\n",
       "      <td>0</td>\n",
       "      <td>0</td>\n",
       "      <td>1</td>\n",
       "      <td>9.84</td>\n",
       "      <td>14.395</td>\n",
       "      <td>75</td>\n",
       "      <td>0.0000</td>\n",
       "      <td>0</td>\n",
       "      <td>1</td>\n",
       "      <td>1</td>\n",
       "    </tr>\n",
       "    <tr>\n",
       "      <th>...</th>\n",
       "      <td>...</td>\n",
       "      <td>...</td>\n",
       "      <td>...</td>\n",
       "      <td>...</td>\n",
       "      <td>...</td>\n",
       "      <td>...</td>\n",
       "      <td>...</td>\n",
       "      <td>...</td>\n",
       "      <td>...</td>\n",
       "      <td>...</td>\n",
       "      <td>...</td>\n",
       "      <td>...</td>\n",
       "    </tr>\n",
       "    <tr>\n",
       "      <th>10881</th>\n",
       "      <td>2012-12-19 19:00:00</td>\n",
       "      <td>4</td>\n",
       "      <td>0</td>\n",
       "      <td>1</td>\n",
       "      <td>1</td>\n",
       "      <td>15.58</td>\n",
       "      <td>19.695</td>\n",
       "      <td>50</td>\n",
       "      <td>26.0027</td>\n",
       "      <td>7</td>\n",
       "      <td>329</td>\n",
       "      <td>336</td>\n",
       "    </tr>\n",
       "    <tr>\n",
       "      <th>10882</th>\n",
       "      <td>2012-12-19 20:00:00</td>\n",
       "      <td>4</td>\n",
       "      <td>0</td>\n",
       "      <td>1</td>\n",
       "      <td>1</td>\n",
       "      <td>14.76</td>\n",
       "      <td>17.425</td>\n",
       "      <td>57</td>\n",
       "      <td>15.0013</td>\n",
       "      <td>10</td>\n",
       "      <td>231</td>\n",
       "      <td>241</td>\n",
       "    </tr>\n",
       "    <tr>\n",
       "      <th>10883</th>\n",
       "      <td>2012-12-19 21:00:00</td>\n",
       "      <td>4</td>\n",
       "      <td>0</td>\n",
       "      <td>1</td>\n",
       "      <td>1</td>\n",
       "      <td>13.94</td>\n",
       "      <td>15.910</td>\n",
       "      <td>61</td>\n",
       "      <td>15.0013</td>\n",
       "      <td>4</td>\n",
       "      <td>164</td>\n",
       "      <td>168</td>\n",
       "    </tr>\n",
       "    <tr>\n",
       "      <th>10884</th>\n",
       "      <td>2012-12-19 22:00:00</td>\n",
       "      <td>4</td>\n",
       "      <td>0</td>\n",
       "      <td>1</td>\n",
       "      <td>1</td>\n",
       "      <td>13.94</td>\n",
       "      <td>17.425</td>\n",
       "      <td>61</td>\n",
       "      <td>6.0032</td>\n",
       "      <td>12</td>\n",
       "      <td>117</td>\n",
       "      <td>129</td>\n",
       "    </tr>\n",
       "    <tr>\n",
       "      <th>10885</th>\n",
       "      <td>2012-12-19 23:00:00</td>\n",
       "      <td>4</td>\n",
       "      <td>0</td>\n",
       "      <td>1</td>\n",
       "      <td>1</td>\n",
       "      <td>13.12</td>\n",
       "      <td>16.665</td>\n",
       "      <td>66</td>\n",
       "      <td>8.9981</td>\n",
       "      <td>4</td>\n",
       "      <td>84</td>\n",
       "      <td>88</td>\n",
       "    </tr>\n",
       "  </tbody>\n",
       "</table>\n",
       "<p>8160 rows × 12 columns</p>\n",
       "</div>"
      ],
      "text/plain": [
       "                  datetime  season  holiday  workingday  weather   temp  \\\n",
       "0      2011-01-01 00:00:00       1        0           0        1   9.84   \n",
       "1      2011-01-01 01:00:00       1        0           0        1   9.02   \n",
       "2      2011-01-01 02:00:00       1        0           0        1   9.02   \n",
       "3      2011-01-01 03:00:00       1        0           0        1   9.84   \n",
       "4      2011-01-01 04:00:00       1        0           0        1   9.84   \n",
       "...                    ...     ...      ...         ...      ...    ...   \n",
       "10881  2012-12-19 19:00:00       4        0           1        1  15.58   \n",
       "10882  2012-12-19 20:00:00       4        0           1        1  14.76   \n",
       "10883  2012-12-19 21:00:00       4        0           1        1  13.94   \n",
       "10884  2012-12-19 22:00:00       4        0           1        1  13.94   \n",
       "10885  2012-12-19 23:00:00       4        0           1        1  13.12   \n",
       "\n",
       "        atemp  humidity  windspeed  casual  registered  count  \n",
       "0      14.395        81     0.0000       3          13     16  \n",
       "1      13.635        80     0.0000       8          32     40  \n",
       "2      13.635        80     0.0000       5          27     32  \n",
       "3      14.395        75     0.0000       3          10     13  \n",
       "4      14.395        75     0.0000       0           1      1  \n",
       "...       ...       ...        ...     ...         ...    ...  \n",
       "10881  19.695        50    26.0027       7         329    336  \n",
       "10882  17.425        57    15.0013      10         231    241  \n",
       "10883  15.910        61    15.0013       4         164    168  \n",
       "10884  17.425        61     6.0032      12         117    129  \n",
       "10885  16.665        66     8.9981       4          84     88  \n",
       "\n",
       "[8160 rows x 12 columns]"
      ]
     },
     "execution_count": 129,
     "metadata": {},
     "output_type": "execute_result"
    }
   ],
   "source": [
    "bike_df"
   ]
  },
  {
   "cell_type": "markdown",
   "id": "e89e4f23",
   "metadata": {},
   "source": [
    "# summary"
   ]
  },
  {
   "cell_type": "code",
   "execution_count": null,
   "id": "383d1223",
   "metadata": {},
   "outputs": [],
   "source": [
    "1-summary\n",
    "2-first did the  eda analysis\n",
    "3-distributed numerical and categorical colum\n",
    "4-did numrical analysis \n",
    "5-sis categorical colum analysis\n",
    "6-compared numerical and categorical colum\n",
    "7-deleted the colum\n",
    "8-data clearing \n",
    " found missing values and using fillna filled with mean value(did not do bec there wew no missing vales)\n",
    "9-handled the outliers dropped extreme value\n",
    "10-used the method one hot encoding to chnge the unique value in numbers(did not go bec all were in binary form )\n"
   ]
  },
  {
   "cell_type": "code",
   "execution_count": null,
   "id": "949740bb",
   "metadata": {},
   "outputs": [],
   "source": []
  },
  {
   "cell_type": "code",
   "execution_count": null,
   "id": "73759c59",
   "metadata": {},
   "outputs": [],
   "source": []
  },
  {
   "cell_type": "code",
   "execution_count": null,
   "id": "d31c8135",
   "metadata": {},
   "outputs": [],
   "source": []
  },
  {
   "cell_type": "code",
   "execution_count": null,
   "id": "8f81e574",
   "metadata": {},
   "outputs": [],
   "source": []
  },
  {
   "cell_type": "code",
   "execution_count": null,
   "id": "fa7e5626",
   "metadata": {},
   "outputs": [],
   "source": []
  }
 ],
 "metadata": {
  "kernelspec": {
   "display_name": "Python 3 (ipykernel)",
   "language": "python",
   "name": "python3"
  },
  "language_info": {
   "codemirror_mode": {
    "name": "ipython",
    "version": 3
   },
   "file_extension": ".py",
   "mimetype": "text/x-python",
   "name": "python",
   "nbconvert_exporter": "python",
   "pygments_lexer": "ipython3",
   "version": "3.10.9"
  }
 },
 "nbformat": 4,
 "nbformat_minor": 5
}
